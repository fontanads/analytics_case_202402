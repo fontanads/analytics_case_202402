{
 "cells": [
  {
   "cell_type": "code",
   "execution_count": 1,
   "metadata": {},
   "outputs": [],
   "source": [
    "from etl.loader import DataLoader\n",
    "from etl.transformer import DataTransformer\n",
    "from dataviz.sankey import SankeyChartCreator\n",
    "from utils.os_ import get_git_root\n",
    "import os\n",
    "\n",
    "import pandas as pd\n",
    "import altair as alt"
   ]
  },
  {
   "cell_type": "markdown",
   "metadata": {},
   "source": [
    "# Dataset preparation"
   ]
  },
  {
   "cell_type": "markdown",
   "metadata": {},
   "source": [
    "## source info"
   ]
  },
  {
   "cell_type": "code",
   "execution_count": 2,
   "metadata": {},
   "outputs": [],
   "source": [
    "git_root = get_git_root(os.getcwd())\n",
    "path_to_file = os.path.join(git_root, \"raw\")\n",
    "filename = \"Analytics Interview Question_mobile_new_2024.xlsx\""
   ]
  },
  {
   "cell_type": "markdown",
   "metadata": {},
   "source": [
    "## load raw dataset"
   ]
  },
  {
   "cell_type": "code",
   "execution_count": 3,
   "metadata": {},
   "outputs": [],
   "source": [
    "data_loader = DataLoader()\n",
    "df_raw = data_loader.load_data_xlsx_from_tab(\n",
    "    path=os.path.join(path_to_file, filename), \n",
    "    sheet_name=\"Data\")"
   ]
  },
  {
   "cell_type": "markdown",
   "metadata": {},
   "source": [
    "## Transform dataset"
   ]
  },
  {
   "cell_type": "code",
   "execution_count": 4,
   "metadata": {},
   "outputs": [],
   "source": [
    "data_transformer = DataTransformer(df_raw)\n",
    "df = data_transformer.transform_data(\n",
    "    fill_super_region=True,\n",
    "    drop_post_book=True,\n",
    "    map_property_to_super_region=True,\n",
    "    replace_us_client_country=True,\n",
    "    treat_apac_2022w45_outlier=True,\n",
    ").copy()"
   ]
  },
  {
   "cell_type": "code",
   "execution_count": 5,
   "metadata": {},
   "outputs": [
    {
     "name": "stdout",
     "output_type": "stream",
     "text": [
      "(73648, 12)\n"
     ]
    }
   ],
   "source": [
    "print(df.shape)"
   ]
  },
  {
   "cell_type": "code",
   "execution_count": 6,
   "metadata": {},
   "outputs": [
    {
     "data": {
      "text/html": [
       "<div>\n",
       "<style scoped>\n",
       "    .dataframe tbody tr th:only-of-type {\n",
       "        vertical-align: middle;\n",
       "    }\n",
       "\n",
       "    .dataframe tbody tr th {\n",
       "        vertical-align: top;\n",
       "    }\n",
       "\n",
       "    .dataframe thead th {\n",
       "        text-align: right;\n",
       "    }\n",
       "</style>\n",
       "<table border=\"1\" class=\"dataframe\">\n",
       "  <thead>\n",
       "    <tr style=\"text-align: right;\">\n",
       "      <th></th>\n",
       "      <th>client_region</th>\n",
       "      <th>client_country</th>\n",
       "      <th>platform</th>\n",
       "      <th>mobile</th>\n",
       "      <th>property_region</th>\n",
       "      <th>property_country</th>\n",
       "      <th>booking_window</th>\n",
       "      <th>date</th>\n",
       "      <th>year</th>\n",
       "      <th>week</th>\n",
       "      <th>net_gross_booking_usd</th>\n",
       "      <th>net_orders</th>\n",
       "    </tr>\n",
       "  </thead>\n",
       "  <tbody>\n",
       "    <tr>\n",
       "      <th>24105</th>\n",
       "      <td>EMEA</td>\n",
       "      <td>Norway</td>\n",
       "      <td>Mobile Web</td>\n",
       "      <td>Mobile</td>\n",
       "      <td>EMEA</td>\n",
       "      <td>Lithuania</td>\n",
       "      <td>4-7 days</td>\n",
       "      <td>2022-11-21</td>\n",
       "      <td>2022</td>\n",
       "      <td>47</td>\n",
       "      <td>344.7346</td>\n",
       "      <td>2</td>\n",
       "    </tr>\n",
       "    <tr>\n",
       "      <th>53148</th>\n",
       "      <td>LATAM</td>\n",
       "      <td>Brazil</td>\n",
       "      <td>Mobile Web</td>\n",
       "      <td>Mobile</td>\n",
       "      <td>EMEA</td>\n",
       "      <td>Netherlands</td>\n",
       "      <td>+90 days</td>\n",
       "      <td>2023-11-13</td>\n",
       "      <td>2023</td>\n",
       "      <td>46</td>\n",
       "      <td>719.5340</td>\n",
       "      <td>2</td>\n",
       "    </tr>\n",
       "    <tr>\n",
       "      <th>30410</th>\n",
       "      <td>EMEA</td>\n",
       "      <td>United Kingdom</td>\n",
       "      <td>Mobile App</td>\n",
       "      <td>Mobile</td>\n",
       "      <td>APAC</td>\n",
       "      <td>Japan</td>\n",
       "      <td>46-60 days</td>\n",
       "      <td>2022-11-28</td>\n",
       "      <td>2022</td>\n",
       "      <td>48</td>\n",
       "      <td>196.3951</td>\n",
       "      <td>1</td>\n",
       "    </tr>\n",
       "    <tr>\n",
       "      <th>66846</th>\n",
       "      <td>LATAM</td>\n",
       "      <td>Brazil</td>\n",
       "      <td>Desktop</td>\n",
       "      <td>Desktop</td>\n",
       "      <td>EMEA</td>\n",
       "      <td>France</td>\n",
       "      <td>0-1 days</td>\n",
       "      <td>2023-11-27</td>\n",
       "      <td>2023</td>\n",
       "      <td>48</td>\n",
       "      <td>748.3041</td>\n",
       "      <td>3</td>\n",
       "    </tr>\n",
       "    <tr>\n",
       "      <th>66658</th>\n",
       "      <td>EMEA</td>\n",
       "      <td>United Kingdom</td>\n",
       "      <td>Desktop</td>\n",
       "      <td>Desktop</td>\n",
       "      <td>North America</td>\n",
       "      <td>United States of America</td>\n",
       "      <td>+90 days</td>\n",
       "      <td>2023-11-27</td>\n",
       "      <td>2023</td>\n",
       "      <td>48</td>\n",
       "      <td>337006.1593</td>\n",
       "      <td>444</td>\n",
       "    </tr>\n",
       "    <tr>\n",
       "      <th>6223</th>\n",
       "      <td>APAC</td>\n",
       "      <td>South Korea</td>\n",
       "      <td>Mobile Web</td>\n",
       "      <td>Mobile</td>\n",
       "      <td>North America</td>\n",
       "      <td>Canada</td>\n",
       "      <td>+90 days</td>\n",
       "      <td>2022-11-07</td>\n",
       "      <td>2022</td>\n",
       "      <td>45</td>\n",
       "      <td>170.5200</td>\n",
       "      <td>1</td>\n",
       "    </tr>\n",
       "    <tr>\n",
       "      <th>30192</th>\n",
       "      <td>EMEA</td>\n",
       "      <td>United Kingdom</td>\n",
       "      <td>Mobile App</td>\n",
       "      <td>Mobile</td>\n",
       "      <td>APAC</td>\n",
       "      <td>Australia</td>\n",
       "      <td>8-14 days</td>\n",
       "      <td>2022-11-28</td>\n",
       "      <td>2022</td>\n",
       "      <td>48</td>\n",
       "      <td>1060.8940</td>\n",
       "      <td>3</td>\n",
       "    </tr>\n",
       "    <tr>\n",
       "      <th>13533</th>\n",
       "      <td>EMEA</td>\n",
       "      <td>United Kingdom</td>\n",
       "      <td>Mobile App</td>\n",
       "      <td>Mobile</td>\n",
       "      <td>APAC</td>\n",
       "      <td>India</td>\n",
       "      <td>8-14 days</td>\n",
       "      <td>2022-11-14</td>\n",
       "      <td>2022</td>\n",
       "      <td>46</td>\n",
       "      <td>2733.4465</td>\n",
       "      <td>6</td>\n",
       "    </tr>\n",
       "    <tr>\n",
       "      <th>8110</th>\n",
       "      <td>North America</td>\n",
       "      <td>United States of America</td>\n",
       "      <td>Mobile Web</td>\n",
       "      <td>Mobile</td>\n",
       "      <td>Sub-Saharan Africa</td>\n",
       "      <td>Mauritius</td>\n",
       "      <td>2-3 days</td>\n",
       "      <td>2022-11-07</td>\n",
       "      <td>2022</td>\n",
       "      <td>45</td>\n",
       "      <td>372.0405</td>\n",
       "      <td>1</td>\n",
       "    </tr>\n",
       "    <tr>\n",
       "      <th>69890</th>\n",
       "      <td>EMEA</td>\n",
       "      <td>Norway</td>\n",
       "      <td>Mobile App</td>\n",
       "      <td>Mobile</td>\n",
       "      <td>EMEA</td>\n",
       "      <td>Spain &amp; Canary Islands</td>\n",
       "      <td>15-30 days</td>\n",
       "      <td>2023-11-27</td>\n",
       "      <td>2023</td>\n",
       "      <td>48</td>\n",
       "      <td>-410.8607</td>\n",
       "      <td>0</td>\n",
       "    </tr>\n",
       "  </tbody>\n",
       "</table>\n",
       "</div>"
      ],
      "text/plain": [
       "       client_region            client_country    platform   mobile  \\\n",
       "24105           EMEA                    Norway  Mobile Web   Mobile   \n",
       "53148          LATAM                    Brazil  Mobile Web   Mobile   \n",
       "30410           EMEA            United Kingdom  Mobile App   Mobile   \n",
       "66846          LATAM                    Brazil     Desktop  Desktop   \n",
       "66658           EMEA            United Kingdom     Desktop  Desktop   \n",
       "6223            APAC               South Korea  Mobile Web   Mobile   \n",
       "30192           EMEA            United Kingdom  Mobile App   Mobile   \n",
       "13533           EMEA            United Kingdom  Mobile App   Mobile   \n",
       "8110   North America  United States of America  Mobile Web   Mobile   \n",
       "69890           EMEA                    Norway  Mobile App   Mobile   \n",
       "\n",
       "          property_region          property_country booking_window       date  \\\n",
       "24105                EMEA                 Lithuania       4-7 days 2022-11-21   \n",
       "53148                EMEA               Netherlands       +90 days 2023-11-13   \n",
       "30410                APAC                     Japan     46-60 days 2022-11-28   \n",
       "66846                EMEA                    France       0-1 days 2023-11-27   \n",
       "66658       North America  United States of America       +90 days 2023-11-27   \n",
       "6223        North America                    Canada       +90 days 2022-11-07   \n",
       "30192                APAC                 Australia      8-14 days 2022-11-28   \n",
       "13533                APAC                     India      8-14 days 2022-11-14   \n",
       "8110   Sub-Saharan Africa                 Mauritius       2-3 days 2022-11-07   \n",
       "69890                EMEA    Spain & Canary Islands     15-30 days 2023-11-27   \n",
       "\n",
       "       year  week  net_gross_booking_usd  net_orders  \n",
       "24105  2022    47               344.7346           2  \n",
       "53148  2023    46               719.5340           2  \n",
       "30410  2022    48               196.3951           1  \n",
       "66846  2023    48               748.3041           3  \n",
       "66658  2023    48            337006.1593         444  \n",
       "6223   2022    45               170.5200           1  \n",
       "30192  2022    48              1060.8940           3  \n",
       "13533  2022    46              2733.4465           6  \n",
       "8110   2022    45               372.0405           1  \n",
       "69890  2023    48              -410.8607           0  "
      ]
     },
     "execution_count": 6,
     "metadata": {},
     "output_type": "execute_result"
    }
   ],
   "source": [
    "df.sample(10)"
   ]
  },
  {
   "cell_type": "markdown",
   "metadata": {},
   "source": [
    "# Overview of dataset"
   ]
  },
  {
   "cell_type": "markdown",
   "metadata": {},
   "source": [
    "## absolute values By Super Region, Year and Platform"
   ]
  },
  {
   "cell_type": "code",
   "execution_count": 7,
   "metadata": {},
   "outputs": [
    {
     "name": "stdout",
     "output_type": "stream",
     "text": [
      "<class 'pandas.core.frame.DataFrame'>\n",
      "RangeIndex: 64 entries, 0 to 63\n",
      "Data columns (total 7 columns):\n",
      " #   Column                 Non-Null Count  Dtype  \n",
      "---  ------                 --------------  -----  \n",
      " 0   client_region          64 non-null     string \n",
      " 1   year                   64 non-null     int32  \n",
      " 2   week                   64 non-null     int32  \n",
      " 3   mobile                 64 non-null     string \n",
      " 4   net_gross_booking_usd  64 non-null     float64\n",
      " 5   net_orders             64 non-null     float64\n",
      " 6   avg_ticket             64 non-null     float64\n",
      "dtypes: float64(3), int32(2), string(2)\n",
      "memory usage: 3.1 KB\n",
      "None\n",
      "  client_region  year  week   mobile  net_gross_booking_usd  net_orders  \\\n",
      "0          APAC  2022    45  Desktop               8.129804      22.452   \n",
      "1          APAC  2022    45   Mobile               4.319801       8.756   \n",
      "2          APAC  2022    46  Desktop               9.067502      25.292   \n",
      "3          APAC  2022    46   Mobile               2.641798       9.810   \n",
      "4          APAC  2022    47  Desktop               7.483097      22.032   \n",
      "\n",
      "   avg_ticket  \n",
      "0  362.097105  \n",
      "1  493.353274  \n",
      "2  358.512662  \n",
      "3  269.296435  \n",
      "4  339.646742  \n"
     ]
    }
   ],
   "source": [
    "# altair chart of sum of net_gross_bookings_usd by client_region (color encoding), year (shape encoding), week (x_axis)\n",
    "# requires transformation and aggregation before plotting\n",
    "\n",
    "df_chart = df.groupby([\"client_region\", \"year\", \"week\", \"mobile\"]).agg({\"net_gross_booking_usd\": \"sum\", \"net_orders\": \"sum\"}).reset_index()\n",
    "\n",
    "# avg ticket\n",
    "df_chart[\"avg_ticket\"] = df_chart[\"net_gross_booking_usd\"] / df_chart[\"net_orders\"]\n",
    "\n",
    "# million usd\n",
    "df_chart[\"net_gross_booking_usd\"] = df_chart[\"net_gross_booking_usd\"] / 1_000_000\n",
    "\n",
    "# net orders to thousands\n",
    "df_chart[\"net_orders\"] = df_chart[\"net_orders\"] / 1_000\n",
    "\n",
    "\n",
    "print(df_chart.info())\n",
    "print(df_chart.head())\n"
   ]
  },
  {
   "cell_type": "code",
   "execution_count": 8,
   "metadata": {},
   "outputs": [
    {
     "data": {
      "text/html": [
       "\n",
       "<style>\n",
       "  #altair-viz-1104727c58b647fba5f8a670dc6ad56f.vega-embed {\n",
       "    width: 100%;\n",
       "    display: flex;\n",
       "  }\n",
       "\n",
       "  #altair-viz-1104727c58b647fba5f8a670dc6ad56f.vega-embed details,\n",
       "  #altair-viz-1104727c58b647fba5f8a670dc6ad56f.vega-embed details summary {\n",
       "    position: relative;\n",
       "  }\n",
       "</style>\n",
       "<div id=\"altair-viz-1104727c58b647fba5f8a670dc6ad56f\"></div>\n",
       "<script type=\"text/javascript\">\n",
       "  var VEGA_DEBUG = (typeof VEGA_DEBUG == \"undefined\") ? {} : VEGA_DEBUG;\n",
       "  (function(spec, embedOpt){\n",
       "    let outputDiv = document.currentScript.previousElementSibling;\n",
       "    if (outputDiv.id !== \"altair-viz-1104727c58b647fba5f8a670dc6ad56f\") {\n",
       "      outputDiv = document.getElementById(\"altair-viz-1104727c58b647fba5f8a670dc6ad56f\");\n",
       "    }\n",
       "    const paths = {\n",
       "      \"vega\": \"https://cdn.jsdelivr.net/npm/vega@5?noext\",\n",
       "      \"vega-lib\": \"https://cdn.jsdelivr.net/npm/vega-lib?noext\",\n",
       "      \"vega-lite\": \"https://cdn.jsdelivr.net/npm/vega-lite@5.16.3?noext\",\n",
       "      \"vega-embed\": \"https://cdn.jsdelivr.net/npm/vega-embed@6?noext\",\n",
       "    };\n",
       "\n",
       "    function maybeLoadScript(lib, version) {\n",
       "      var key = `${lib.replace(\"-\", \"\")}_version`;\n",
       "      return (VEGA_DEBUG[key] == version) ?\n",
       "        Promise.resolve(paths[lib]) :\n",
       "        new Promise(function(resolve, reject) {\n",
       "          var s = document.createElement('script');\n",
       "          document.getElementsByTagName(\"head\")[0].appendChild(s);\n",
       "          s.async = true;\n",
       "          s.onload = () => {\n",
       "            VEGA_DEBUG[key] = version;\n",
       "            return resolve(paths[lib]);\n",
       "          };\n",
       "          s.onerror = () => reject(`Error loading script: ${paths[lib]}`);\n",
       "          s.src = paths[lib];\n",
       "        });\n",
       "    }\n",
       "\n",
       "    function showError(err) {\n",
       "      outputDiv.innerHTML = `<div class=\"error\" style=\"color:red;\">${err}</div>`;\n",
       "      throw err;\n",
       "    }\n",
       "\n",
       "    function displayChart(vegaEmbed) {\n",
       "      vegaEmbed(outputDiv, spec, embedOpt)\n",
       "        .catch(err => showError(`Javascript Error: ${err.message}<br>This usually means there's a typo in your chart specification. See the javascript console for the full traceback.`));\n",
       "    }\n",
       "\n",
       "    if(typeof define === \"function\" && define.amd) {\n",
       "      requirejs.config({paths});\n",
       "      require([\"vega-embed\"], displayChart, err => showError(`Error loading script: ${err.message}`));\n",
       "    } else {\n",
       "      maybeLoadScript(\"vega\", \"5\")\n",
       "        .then(() => maybeLoadScript(\"vega-lite\", \"5.16.3\"))\n",
       "        .then(() => maybeLoadScript(\"vega-embed\", \"6\"))\n",
       "        .catch(showError)\n",
       "        .then(() => displayChart(vegaEmbed));\n",
       "    }\n",
       "  })({\"config\": {\"view\": {\"continuousWidth\": 300, \"continuousHeight\": 300}}, \"layer\": [{\"mark\": {\"type\": \"line\"}, \"encoding\": {\"color\": {\"condition\": {\"param\": \"param_1\", \"empty\": true, \"field\": \"client_region\", \"title\": \"Client Region\", \"type\": \"nominal\"}, \"value\": \"#666666\"}, \"detail\": {\"field\": \"year\", \"type\": \"nominal\"}, \"opacity\": {\"condition\": {\"param\": \"param_1\", \"value\": 1, \"empty\": true}, \"value\": 0.1}, \"strokeDash\": {\"field\": \"mobile\", \"title\": \"Platform\", \"type\": \"nominal\"}, \"x\": {\"field\": \"week\", \"title\": \"Week\", \"type\": \"ordinal\"}, \"y\": {\"field\": \"net_gross_booking_usd\", \"title\": \"Net Gross Bookings (Million USD)\", \"type\": \"quantitative\"}}, \"name\": \"view_1\"}, {\"mark\": {\"type\": \"point\"}, \"encoding\": {\"color\": {\"condition\": {\"param\": \"param_1\", \"empty\": true, \"field\": \"client_region\", \"title\": \"Client Region\", \"type\": \"nominal\"}, \"value\": \"#666666\"}, \"opacity\": {\"condition\": {\"param\": \"param_1\", \"value\": 1, \"empty\": true}, \"value\": 0.1}, \"shape\": {\"field\": \"year\", \"title\": \"Year\", \"type\": \"nominal\"}, \"tooltip\": [{\"field\": \"client_region\", \"title\": \"Client Region\", \"type\": \"nominal\"}, {\"field\": \"mobile\", \"title\": \"Platform\", \"type\": \"nominal\"}, {\"field\": \"year\", \"title\": \"Year\", \"type\": \"nominal\"}, {\"field\": \"week\", \"title\": \"Week\", \"type\": \"ordinal\"}, {\"field\": \"net_gross_booking_usd\", \"format\": \",.2f\", \"title\": \"Net Gross Bookings (Million USD)\", \"type\": \"quantitative\"}], \"x\": {\"field\": \"week\", \"title\": \"Week\", \"type\": \"ordinal\"}, \"y\": {\"field\": \"net_gross_booking_usd\", \"title\": \"Net Gross Bookings (Million USD)\", \"type\": \"quantitative\"}}}], \"data\": {\"name\": \"data-3f8290e6ab82f22adcf6aa9f95fb3a24\"}, \"height\": 400, \"params\": [{\"name\": \"param_1\", \"select\": {\"type\": \"point\", \"fields\": [\"client_region\"]}, \"bind\": \"legend\", \"views\": [\"view_1\"]}, {\"name\": \"param_2\", \"select\": {\"type\": \"interval\", \"encodings\": [\"x\", \"y\"]}, \"bind\": \"scales\", \"views\": [\"view_1\"]}], \"resolve\": {\"scale\": {\"shape\": \"independent\", \"strokeDash\": \"independent\"}}, \"title\": \"Net Gross Bookings (Million USD) by Client Region, Year, and Week\", \"width\": 600, \"$schema\": \"https://vega.github.io/schema/vega-lite/v5.16.3.json\", \"datasets\": {\"data-3f8290e6ab82f22adcf6aa9f95fb3a24\": [{\"client_region\": \"APAC\", \"year\": 2022, \"week\": 45, \"mobile\": \"Desktop\", \"net_gross_booking_usd\": 8.1298042101, \"net_orders\": 22.452, \"avg_ticket\": 362.09710538482096}, {\"client_region\": \"APAC\", \"year\": 2022, \"week\": 45, \"mobile\": \"Mobile\", \"net_gross_booking_usd\": 4.319801262877999, \"net_orders\": 8.756, \"avg_ticket\": 493.3532735127912}, {\"client_region\": \"APAC\", \"year\": 2022, \"week\": 46, \"mobile\": \"Desktop\", \"net_gross_booking_usd\": 9.0675022442, \"net_orders\": 25.292, \"avg_ticket\": 358.51266187727344}, {\"client_region\": \"APAC\", \"year\": 2022, \"week\": 46, \"mobile\": \"Mobile\", \"net_gross_booking_usd\": 2.6417980245, \"net_orders\": 9.81, \"avg_ticket\": 269.2964347094801}, {\"client_region\": \"APAC\", \"year\": 2022, \"week\": 47, \"mobile\": \"Desktop\", \"net_gross_booking_usd\": 7.4830970201, \"net_orders\": 22.032, \"avg_ticket\": 339.64674201615827}, {\"client_region\": \"APAC\", \"year\": 2022, \"week\": 47, \"mobile\": \"Mobile\", \"net_gross_booking_usd\": 2.2545092581, \"net_orders\": 8.747, \"avg_ticket\": 257.74657117868986}, {\"client_region\": \"APAC\", \"year\": 2022, \"week\": 48, \"mobile\": \"Desktop\", \"net_gross_booking_usd\": 7.657403707399999, \"net_orders\": 21.586, \"avg_ticket\": 354.7393545538775}, {\"client_region\": \"APAC\", \"year\": 2022, \"week\": 48, \"mobile\": \"Mobile\", \"net_gross_booking_usd\": 2.5417947892, \"net_orders\": 9.549, \"avg_ticket\": 266.1843951408525}, {\"client_region\": \"APAC\", \"year\": 2023, \"week\": 45, \"mobile\": \"Desktop\", \"net_gross_booking_usd\": 10.004932983, \"net_orders\": 31.239, \"avg_ticket\": 320.2705907039278}, {\"client_region\": \"APAC\", \"year\": 2023, \"week\": 45, \"mobile\": \"Mobile\", \"net_gross_booking_usd\": 4.932745226800001, \"net_orders\": 20.724, \"avg_ticket\": 238.0209045937078}, {\"client_region\": \"APAC\", \"year\": 2023, \"week\": 46, \"mobile\": \"Desktop\", \"net_gross_booking_usd\": 8.7495014255, \"net_orders\": 27.5, \"avg_ticket\": 318.1636882}, {\"client_region\": \"APAC\", \"year\": 2023, \"week\": 46, \"mobile\": \"Mobile\", \"net_gross_booking_usd\": 5.8646285943, \"net_orders\": 24.425, \"avg_ticket\": 240.10761900921187}, {\"client_region\": \"APAC\", \"year\": 2023, \"week\": 47, \"mobile\": \"Desktop\", \"net_gross_booking_usd\": 8.2135164632, \"net_orders\": 26.843, \"avg_ticket\": 305.9835511380993}, {\"client_region\": \"APAC\", \"year\": 2023, \"week\": 47, \"mobile\": \"Mobile\", \"net_gross_booking_usd\": 5.1529074874, \"net_orders\": 22.424, \"avg_ticket\": 229.79430464680698}, {\"client_region\": \"APAC\", \"year\": 2023, \"week\": 48, \"mobile\": \"Desktop\", \"net_gross_booking_usd\": 9.8066037715, \"net_orders\": 31.078, \"avg_ticket\": 315.5480974161787}, {\"client_region\": \"APAC\", \"year\": 2023, \"week\": 48, \"mobile\": \"Mobile\", \"net_gross_booking_usd\": 4.9318090543999995, \"net_orders\": 21.75, \"avg_ticket\": 226.7498415816092}, {\"client_region\": \"EMEA\", \"year\": 2022, \"week\": 45, \"mobile\": \"Desktop\", \"net_gross_booking_usd\": 13.0090391151, \"net_orders\": 35.432, \"avg_ticket\": 367.15508904662454}, {\"client_region\": \"EMEA\", \"year\": 2022, \"week\": 45, \"mobile\": \"Mobile\", \"net_gross_booking_usd\": 3.6057344348, \"net_orders\": 12.122, \"avg_ticket\": 297.4537563768355}, {\"client_region\": \"EMEA\", \"year\": 2022, \"week\": 46, \"mobile\": \"Desktop\", \"net_gross_booking_usd\": 13.3996270807, \"net_orders\": 38.146, \"avg_ticket\": 351.27214074083787}, {\"client_region\": \"EMEA\", \"year\": 2022, \"week\": 46, \"mobile\": \"Mobile\", \"net_gross_booking_usd\": 3.6639236935, \"net_orders\": 13.274, \"avg_ticket\": 276.02257748229624}, {\"client_region\": \"EMEA\", \"year\": 2022, \"week\": 47, \"mobile\": \"Desktop\", \"net_gross_booking_usd\": 11.6899125637, \"net_orders\": 33.92, \"avg_ticket\": 344.6318562411557}, {\"client_region\": \"EMEA\", \"year\": 2022, \"week\": 47, \"mobile\": \"Mobile\", \"net_gross_booking_usd\": 3.1285257505, \"net_orders\": 11.547, \"avg_ticket\": 270.93840395773793}, {\"client_region\": \"EMEA\", \"year\": 2022, \"week\": 48, \"mobile\": \"Desktop\", \"net_gross_booking_usd\": 11.0642103835, \"net_orders\": 32.521, \"avg_ticket\": 340.21740978137206}, {\"client_region\": \"EMEA\", \"year\": 2022, \"week\": 48, \"mobile\": \"Mobile\", \"net_gross_booking_usd\": 3.2593518068, \"net_orders\": 11.858, \"avg_ticket\": 274.86522236464833}, {\"client_region\": \"EMEA\", \"year\": 2023, \"week\": 45, \"mobile\": \"Desktop\", \"net_gross_booking_usd\": 14.784057151499999, \"net_orders\": 46.368, \"avg_ticket\": 318.8418122735507}, {\"client_region\": \"EMEA\", \"year\": 2023, \"week\": 45, \"mobile\": \"Mobile\", \"net_gross_booking_usd\": 5.853200511, \"net_orders\": 22.58, \"avg_ticket\": 259.22057178919397}, {\"client_region\": \"EMEA\", \"year\": 2023, \"week\": 46, \"mobile\": \"Desktop\", \"net_gross_booking_usd\": 14.9744613525, \"net_orders\": 45.588, \"avg_ticket\": 328.4737508225849}, {\"client_region\": \"EMEA\", \"year\": 2023, \"week\": 46, \"mobile\": \"Mobile\", \"net_gross_booking_usd\": 5.6174297615, \"net_orders\": 21.669, \"avg_ticket\": 259.23807104619505}, {\"client_region\": \"EMEA\", \"year\": 2023, \"week\": 47, \"mobile\": \"Desktop\", \"net_gross_booking_usd\": 12.9814834922, \"net_orders\": 41.628, \"avg_ticket\": 311.8449959690593}, {\"client_region\": \"EMEA\", \"year\": 2023, \"week\": 47, \"mobile\": \"Mobile\", \"net_gross_booking_usd\": 4.787085580199999, \"net_orders\": 19.955, \"avg_ticket\": 239.89404060135303}, {\"client_region\": \"EMEA\", \"year\": 2023, \"week\": 48, \"mobile\": \"Desktop\", \"net_gross_booking_usd\": 12.7710009205, \"net_orders\": 41.351, \"avg_ticket\": 308.84382289424684}, {\"client_region\": \"EMEA\", \"year\": 2023, \"week\": 48, \"mobile\": \"Mobile\", \"net_gross_booking_usd\": 4.864009042, \"net_orders\": 20.487, \"avg_ticket\": 237.41929233172257}, {\"client_region\": \"LATAM\", \"year\": 2022, \"week\": 45, \"mobile\": \"Desktop\", \"net_gross_booking_usd\": 3.3286204976, \"net_orders\": 7.293, \"avg_ticket\": 456.4130669957493}, {\"client_region\": \"LATAM\", \"year\": 2022, \"week\": 45, \"mobile\": \"Mobile\", \"net_gross_booking_usd\": 0.694192032, \"net_orders\": 1.751, \"avg_ticket\": 396.454615648201}, {\"client_region\": \"LATAM\", \"year\": 2022, \"week\": 46, \"mobile\": \"Desktop\", \"net_gross_booking_usd\": 3.4567590811, \"net_orders\": 7.663, \"avg_ticket\": 451.097361490278}, {\"client_region\": \"LATAM\", \"year\": 2022, \"week\": 46, \"mobile\": \"Mobile\", \"net_gross_booking_usd\": 0.7182847086999999, \"net_orders\": 1.774, \"avg_ticket\": 404.89555169109354}, {\"client_region\": \"LATAM\", \"year\": 2022, \"week\": 47, \"mobile\": \"Desktop\", \"net_gross_booking_usd\": 3.2411595118, \"net_orders\": 7.144, \"avg_ticket\": 453.68974129339307}, {\"client_region\": \"LATAM\", \"year\": 2022, \"week\": 47, \"mobile\": \"Mobile\", \"net_gross_booking_usd\": 0.6778352007, \"net_orders\": 1.733, \"avg_ticket\": 391.13398770917485}, {\"client_region\": \"LATAM\", \"year\": 2022, \"week\": 48, \"mobile\": \"Desktop\", \"net_gross_booking_usd\": 3.7432041228, \"net_orders\": 7.682, \"avg_ticket\": 487.2694770632648}, {\"client_region\": \"LATAM\", \"year\": 2022, \"week\": 48, \"mobile\": \"Mobile\", \"net_gross_booking_usd\": 0.6427585973000001, \"net_orders\": 1.625, \"avg_ticket\": 395.5437521846154}, {\"client_region\": \"LATAM\", \"year\": 2023, \"week\": 45, \"mobile\": \"Desktop\", \"net_gross_booking_usd\": 3.3854054976, \"net_orders\": 10.954, \"avg_ticket\": 309.0565544641227}, {\"client_region\": \"LATAM\", \"year\": 2023, \"week\": 45, \"mobile\": \"Mobile\", \"net_gross_booking_usd\": 1.0129179183, \"net_orders\": 3.923, \"avg_ticket\": 258.1998262299261}, {\"client_region\": \"LATAM\", \"year\": 2023, \"week\": 46, \"mobile\": \"Desktop\", \"net_gross_booking_usd\": 3.3985054397, \"net_orders\": 11.343, \"avg_ticket\": 299.61257513003613}, {\"client_region\": \"LATAM\", \"year\": 2023, \"week\": 46, \"mobile\": \"Mobile\", \"net_gross_booking_usd\": 0.8940399102000001, \"net_orders\": 3.786, \"avg_ticket\": 236.14366354992077}, {\"client_region\": \"LATAM\", \"year\": 2023, \"week\": 47, \"mobile\": \"Desktop\", \"net_gross_booking_usd\": 2.7398436815, \"net_orders\": 9.126, \"avg_ticket\": 300.2239405544598}, {\"client_region\": \"LATAM\", \"year\": 2023, \"week\": 47, \"mobile\": \"Mobile\", \"net_gross_booking_usd\": 0.7864173354, \"net_orders\": 3.258, \"avg_ticket\": 241.3803976058932}, {\"client_region\": \"LATAM\", \"year\": 2023, \"week\": 48, \"mobile\": \"Desktop\", \"net_gross_booking_usd\": 3.2353770244, \"net_orders\": 10.133, \"avg_ticket\": 319.29113040560543}, {\"client_region\": \"LATAM\", \"year\": 2023, \"week\": 48, \"mobile\": \"Mobile\", \"net_gross_booking_usd\": 0.8631917487, \"net_orders\": 3.432, \"avg_ticket\": 251.5127472902098}, {\"client_region\": \"North America\", \"year\": 2022, \"week\": 45, \"mobile\": \"Desktop\", \"net_gross_booking_usd\": 62.55461642509995, \"net_orders\": 220.986, \"avg_ticket\": 283.07049507706347}, {\"client_region\": \"North America\", \"year\": 2022, \"week\": 45, \"mobile\": \"Mobile\", \"net_gross_booking_usd\": 18.693004033699996, \"net_orders\": 95.401, \"avg_ticket\": 195.9413846154652}, {\"client_region\": \"North America\", \"year\": 2022, \"week\": 46, \"mobile\": \"Desktop\", \"net_gross_booking_usd\": 62.868380861699976, \"net_orders\": 220.645, \"avg_ticket\": 284.9300045851933}, {\"client_region\": \"North America\", \"year\": 2022, \"week\": 46, \"mobile\": \"Mobile\", \"net_gross_booking_usd\": 18.7420878449, \"net_orders\": 96.521, \"avg_ticket\": 194.17627091410156}, {\"client_region\": \"North America\", \"year\": 2022, \"week\": 47, \"mobile\": \"Desktop\", \"net_gross_booking_usd\": 54.616867127199974, \"net_orders\": 197.674, \"avg_ticket\": 276.29767762679955}, {\"client_region\": \"North America\", \"year\": 2022, \"week\": 47, \"mobile\": \"Mobile\", \"net_gross_booking_usd\": 16.117911485599997, \"net_orders\": 90.716, \"avg_ticket\": 177.67440678160412}, {\"client_region\": \"North America\", \"year\": 2022, \"week\": 48, \"mobile\": \"Desktop\", \"net_gross_booking_usd\": 44.87849879259997, \"net_orders\": 164.911, \"avg_ticket\": 272.1376911946442}, {\"client_region\": \"North America\", \"year\": 2022, \"week\": 48, \"mobile\": \"Mobile\", \"net_gross_booking_usd\": 17.0883310313, \"net_orders\": 94.913, \"avg_ticket\": 180.04204936415454}, {\"client_region\": \"North America\", \"year\": 2023, \"week\": 45, \"mobile\": \"Desktop\", \"net_gross_booking_usd\": 67.25121639019999, \"net_orders\": 234.986, \"avg_ticket\": 286.192438656771}, {\"client_region\": \"North America\", \"year\": 2023, \"week\": 45, \"mobile\": \"Mobile\", \"net_gross_booking_usd\": 30.332538526199997, \"net_orders\": 152.897, \"avg_ticket\": 198.385439388608}, {\"client_region\": \"North America\", \"year\": 2023, \"week\": 46, \"mobile\": \"Desktop\", \"net_gross_booking_usd\": 67.38626269759997, \"net_orders\": 237.935, \"avg_ticket\": 283.21290561539905}, {\"client_region\": \"North America\", \"year\": 2023, \"week\": 46, \"mobile\": \"Mobile\", \"net_gross_booking_usd\": 28.440242800799997, \"net_orders\": 147.075, \"avg_ticket\": 193.37238008363076}, {\"client_region\": \"North America\", \"year\": 2023, \"week\": 47, \"mobile\": \"Desktop\", \"net_gross_booking_usd\": 61.12401681859998, \"net_orders\": 228.046, \"avg_ticket\": 268.03371608622814}, {\"client_region\": \"North America\", \"year\": 2023, \"week\": 47, \"mobile\": \"Mobile\", \"net_gross_booking_usd\": 26.97103726639999, \"net_orders\": 149.566, \"avg_ticket\": 180.32866604977062}, {\"client_region\": \"North America\", \"year\": 2023, \"week\": 48, \"mobile\": \"Desktop\", \"net_gross_booking_usd\": 48.190392655500006, \"net_orders\": 176.469, \"avg_ticket\": 273.08134944664505}, {\"client_region\": \"North America\", \"year\": 2023, \"week\": 48, \"mobile\": \"Mobile\", \"net_gross_booking_usd\": 26.51000211409999, \"net_orders\": 147.05, \"avg_ticket\": 180.2788311057463}]}}, {\"mode\": \"vega-lite\"});\n",
       "</script>"
      ],
      "text/plain": [
       "alt.LayerChart(...)"
      ]
     },
     "execution_count": 8,
     "metadata": {},
     "output_type": "execute_result"
    }
   ],
   "source": [
    "y_var = \"net_gross_booking_usd\"\n",
    "y_var_name = \"Net Gross Bookings (Million USD)\"\n",
    "\n",
    "# y_var = \"net_orders\"\n",
    "# y_var_name = \"Net Orders (thousands)\"\n",
    "\n",
    "# y_var = \"avg_ticket\"\n",
    "# y_var_name = \"Average Ticket (USD)\"\n",
    "\n",
    "# Define selection\n",
    "selection = alt.selection_point(fields=['client_region'], bind='legend', empty=True)\n",
    "\n",
    "# Define alpha transparency level and gray color code\n",
    "alpha_transparency = 0.1\n",
    "gray_color_code = \"#666666\"\n",
    "\n",
    "# Modify the line chart to include selection\n",
    "line_chart = alt.Chart(df_chart).mark_line().encode(\n",
    "    x=alt.X(\"week:O\", title=\"Week\"),\n",
    "    y=alt.Y(f\"{y_var}:Q\", title=y_var_name),\n",
    "    color=alt.condition(selection,\n",
    "                        alt.Color(\"client_region:N\", title=\"Client Region\"),\n",
    "                        alt.value(gray_color_code)),\n",
    "    strokeDash=alt.StrokeDash(\"mobile:N\", title=\"Platform\"),\n",
    "    detail=alt.Detail(\"year:N\"),\n",
    "    opacity=alt.condition(selection, alt.value(1), alt.value(alpha_transparency))\n",
    ")\n",
    "\n",
    "# Modify the point chart to include selection\n",
    "point_chart = alt.Chart(df_chart).mark_point().encode(\n",
    "    x=alt.X(\"week:O\", title=\"Week\"),\n",
    "    y=alt.Y(f\"{y_var}:Q\", title=y_var_name),\n",
    "    color=alt.condition(selection,\n",
    "                        alt.Color(\"client_region:N\", title=\"Client Region\"),\n",
    "                        alt.value(gray_color_code)),\n",
    "    shape=alt.Shape(\"year:N\", title=\"Year\"),\n",
    "    opacity=alt.condition(selection, alt.value(1), alt.value(alpha_transparency)),\n",
    "    tooltip=[\n",
    "        alt.Tooltip(\"client_region:N\", title=\"Client Region\"),\n",
    "        alt.Tooltip(\"mobile:N\", title=\"Platform\"),\n",
    "        alt.Tooltip(\"year:N\", title=\"Year\"),\n",
    "        alt.Tooltip(\"week:O\", title=\"Week\"),\n",
    "        alt.Tooltip(f\"{y_var}:Q\", title=y_var_name).format(\",.2f\")\n",
    "    ]\n",
    ")\n",
    "\n",
    "# Add selection to the layered chart\n",
    "layered_chart = alt.layer(line_chart, point_chart).resolve_scale(\n",
    "    shape='independent',\n",
    "    strokeDash='independent'\n",
    ").add_params(\n",
    "    selection\n",
    ").properties(\n",
    "    title=f\"{y_var_name} by Client Region, Year, and Week\",\n",
    "    width=600,\n",
    "    height=400\n",
    ").interactive()\n",
    "\n",
    "layered_chart\n"
   ]
  },
  {
   "cell_type": "markdown",
   "metadata": {},
   "source": [
    "## Sankey chart view"
   ]
  },
  {
   "cell_type": "code",
   "execution_count": 13,
   "metadata": {},
   "outputs": [
    {
     "name": "stdout",
     "output_type": "stream",
     "text": [
      "<class 'pandas.core.frame.DataFrame'>\n",
      "RangeIndex: 20 entries, 0 to 19\n",
      "Data columns (total 4 columns):\n",
      " #   Column           Non-Null Count  Dtype  \n",
      "---  ------           --------------  -----  \n",
      " 0   client_region    20 non-null     string \n",
      " 1   property_region  20 non-null     string \n",
      " 2   sum              20 non-null     float64\n",
      " 3   mean             20 non-null     float64\n",
      "dtypes: float64(2), string(2)\n",
      "memory usage: 768.0 bytes\n",
      "None\n",
      "   client_region     property_region           sum         mean\n",
      "14         LATAM  Sub-Saharan Africa  1.131536e+05   890.973164\n",
      "9           EMEA  Sub-Saharan Africa  1.727566e+06  1133.573534\n",
      "5           EMEA                APAC  1.706292e+07  2329.726633\n",
      "4           APAC  Sub-Saharan Africa  3.085133e+05   531.919435\n",
      "11         LATAM                EMEA  4.798767e+06  2063.098662\n"
     ]
    },
    {
     "data": {
      "text/html": [
       "<div>\n",
       "<style scoped>\n",
       "    .dataframe tbody tr th:only-of-type {\n",
       "        vertical-align: middle;\n",
       "    }\n",
       "\n",
       "    .dataframe tbody tr th {\n",
       "        vertical-align: top;\n",
       "    }\n",
       "\n",
       "    .dataframe thead th {\n",
       "        text-align: right;\n",
       "    }\n",
       "</style>\n",
       "<table border=\"1\" class=\"dataframe\">\n",
       "  <thead>\n",
       "    <tr style=\"text-align: right;\">\n",
       "      <th></th>\n",
       "      <th>client_region</th>\n",
       "      <th>property_region</th>\n",
       "      <th>sum</th>\n",
       "      <th>mean</th>\n",
       "    </tr>\n",
       "  </thead>\n",
       "  <tbody>\n",
       "    <tr>\n",
       "      <th>0</th>\n",
       "      <td>APAC</td>\n",
       "      <td>APAC</td>\n",
       "      <td>7.439390e+07</td>\n",
       "      <td>6180.435573</td>\n",
       "    </tr>\n",
       "    <tr>\n",
       "      <th>1</th>\n",
       "      <td>APAC</td>\n",
       "      <td>EMEA</td>\n",
       "      <td>1.319562e+07</td>\n",
       "      <td>1601.604002</td>\n",
       "    </tr>\n",
       "    <tr>\n",
       "      <th>2</th>\n",
       "      <td>APAC</td>\n",
       "      <td>LATAM</td>\n",
       "      <td>7.425934e+05</td>\n",
       "      <td>530.802987</td>\n",
       "    </tr>\n",
       "    <tr>\n",
       "      <th>3</th>\n",
       "      <td>APAC</td>\n",
       "      <td>North America</td>\n",
       "      <td>1.311173e+07</td>\n",
       "      <td>8470.110141</td>\n",
       "    </tr>\n",
       "    <tr>\n",
       "      <th>4</th>\n",
       "      <td>APAC</td>\n",
       "      <td>Sub-Saharan Africa</td>\n",
       "      <td>3.085133e+05</td>\n",
       "      <td>531.919435</td>\n",
       "    </tr>\n",
       "    <tr>\n",
       "      <th>5</th>\n",
       "      <td>EMEA</td>\n",
       "      <td>APAC</td>\n",
       "      <td>1.706292e+07</td>\n",
       "      <td>2329.726633</td>\n",
       "    </tr>\n",
       "    <tr>\n",
       "      <th>6</th>\n",
       "      <td>EMEA</td>\n",
       "      <td>EMEA</td>\n",
       "      <td>1.016839e+08</td>\n",
       "      <td>9400.381315</td>\n",
       "    </tr>\n",
       "    <tr>\n",
       "      <th>7</th>\n",
       "      <td>EMEA</td>\n",
       "      <td>LATAM</td>\n",
       "      <td>2.515065e+06</td>\n",
       "      <td>900.488873</td>\n",
       "    </tr>\n",
       "    <tr>\n",
       "      <th>8</th>\n",
       "      <td>EMEA</td>\n",
       "      <td>North America</td>\n",
       "      <td>1.646358e+07</td>\n",
       "      <td>16220.274486</td>\n",
       "    </tr>\n",
       "    <tr>\n",
       "      <th>9</th>\n",
       "      <td>EMEA</td>\n",
       "      <td>Sub-Saharan Africa</td>\n",
       "      <td>1.727566e+06</td>\n",
       "      <td>1133.573534</td>\n",
       "    </tr>\n",
       "    <tr>\n",
       "      <th>10</th>\n",
       "      <td>LATAM</td>\n",
       "      <td>APAC</td>\n",
       "      <td>1.143946e+06</td>\n",
       "      <td>906.454741</td>\n",
       "    </tr>\n",
       "    <tr>\n",
       "      <th>11</th>\n",
       "      <td>LATAM</td>\n",
       "      <td>EMEA</td>\n",
       "      <td>4.798767e+06</td>\n",
       "      <td>2063.098662</td>\n",
       "    </tr>\n",
       "    <tr>\n",
       "      <th>12</th>\n",
       "      <td>LATAM</td>\n",
       "      <td>LATAM</td>\n",
       "      <td>1.394251e+07</td>\n",
       "      <td>7353.644428</td>\n",
       "    </tr>\n",
       "    <tr>\n",
       "      <th>13</th>\n",
       "      <td>LATAM</td>\n",
       "      <td>North America</td>\n",
       "      <td>1.282014e+07</td>\n",
       "      <td>24188.934924</td>\n",
       "    </tr>\n",
       "    <tr>\n",
       "      <th>14</th>\n",
       "      <td>LATAM</td>\n",
       "      <td>Sub-Saharan Africa</td>\n",
       "      <td>1.131536e+05</td>\n",
       "      <td>890.973164</td>\n",
       "    </tr>\n",
       "    <tr>\n",
       "      <th>15</th>\n",
       "      <td>North America</td>\n",
       "      <td>APAC</td>\n",
       "      <td>3.002851e+07</td>\n",
       "      <td>4982.330705</td>\n",
       "    </tr>\n",
       "    <tr>\n",
       "      <th>16</th>\n",
       "      <td>North America</td>\n",
       "      <td>EMEA</td>\n",
       "      <td>3.655406e+07</td>\n",
       "      <td>6076.139864</td>\n",
       "    </tr>\n",
       "    <tr>\n",
       "      <th>17</th>\n",
       "      <td>North America</td>\n",
       "      <td>LATAM</td>\n",
       "      <td>2.050819e+07</td>\n",
       "      <td>3435.208173</td>\n",
       "    </tr>\n",
       "    <tr>\n",
       "      <th>18</th>\n",
       "      <td>North America</td>\n",
       "      <td>North America</td>\n",
       "      <td>5.630870e+08</td>\n",
       "      <td>756837.315509</td>\n",
       "    </tr>\n",
       "    <tr>\n",
       "      <th>19</th>\n",
       "      <td>North America</td>\n",
       "      <td>Sub-Saharan Africa</td>\n",
       "      <td>1.587687e+06</td>\n",
       "      <td>1077.128059</td>\n",
       "    </tr>\n",
       "  </tbody>\n",
       "</table>\n",
       "</div>"
      ],
      "text/plain": [
       "    client_region     property_region           sum           mean\n",
       "0            APAC                APAC  7.439390e+07    6180.435573\n",
       "1            APAC                EMEA  1.319562e+07    1601.604002\n",
       "2            APAC               LATAM  7.425934e+05     530.802987\n",
       "3            APAC       North America  1.311173e+07    8470.110141\n",
       "4            APAC  Sub-Saharan Africa  3.085133e+05     531.919435\n",
       "5            EMEA                APAC  1.706292e+07    2329.726633\n",
       "6            EMEA                EMEA  1.016839e+08    9400.381315\n",
       "7            EMEA               LATAM  2.515065e+06     900.488873\n",
       "8            EMEA       North America  1.646358e+07   16220.274486\n",
       "9            EMEA  Sub-Saharan Africa  1.727566e+06    1133.573534\n",
       "10          LATAM                APAC  1.143946e+06     906.454741\n",
       "11          LATAM                EMEA  4.798767e+06    2063.098662\n",
       "12          LATAM               LATAM  1.394251e+07    7353.644428\n",
       "13          LATAM       North America  1.282014e+07   24188.934924\n",
       "14          LATAM  Sub-Saharan Africa  1.131536e+05     890.973164\n",
       "15  North America                APAC  3.002851e+07    4982.330705\n",
       "16  North America                EMEA  3.655406e+07    6076.139864\n",
       "17  North America               LATAM  2.050819e+07    3435.208173\n",
       "18  North America       North America  5.630870e+08  756837.315509\n",
       "19  North America  Sub-Saharan Africa  1.587687e+06    1077.128059"
      ]
     },
     "execution_count": 13,
     "metadata": {},
     "output_type": "execute_result"
    }
   ],
   "source": [
    "df_sankey = df[['client_region', 'property_region', 'net_gross_booking_usd']]\\\n",
    "    .groupby(['client_region', 'property_region'])\\\n",
    "    ['net_gross_booking_usd']\\\n",
    "    .agg(['sum', 'mean'])\\\n",
    "    .reset_index()\n",
    "\n",
    "# normalize agg metrics by each source client_region\n",
    "df_sankey['sum'] = df_sankey['sum'] / df_sankey.groupby('client_region')['sum'].transform('sum')\n",
    "df_sankey['mean'] = df_sankey['mean'] / df_sankey.groupby('client_region')['mean'].transform('sum')\n",
    "\n",
    "print(df_sankey.info())\n",
    "print(df_sankey.sample(5))\n",
    "df_sankey"
   ]
  },
  {
   "cell_type": "code",
   "execution_count": 14,
   "metadata": {},
   "outputs": [
    {
     "data": {
      "application/vnd.plotly.v1+json": {
       "config": {
        "plotlyServerURL": "https://plot.ly"
       },
       "data": [
        {
         "link": {
          "color": [
           "rgba(31,119,180, 0.4)",
           "rgba(31,119,180, 0.4)",
           "rgba(31,119,180, 0.4)",
           "rgba(31,119,180, 0.4)",
           "rgba(31,119,180, 0.4)",
           "rgba(255,127,14, 0.4)",
           "rgba(255,127,14, 0.4)",
           "rgba(255,127,14, 0.4)",
           "rgba(255,127,14, 0.4)",
           "rgba(255,127,14, 0.4)",
           "rgba(44,160,44, 0.4)",
           "rgba(44,160,44, 0.4)",
           "rgba(44,160,44, 0.4)",
           "rgba(44,160,44, 0.4)",
           "rgba(44,160,44, 0.4)",
           "rgba(214,39,40, 0.4)",
           "rgba(214,39,40, 0.4)",
           "rgba(214,39,40, 0.4)",
           "rgba(214,39,40, 0.4)",
           "rgba(214,39,40, 0.4)"
          ],
          "source": [
           0,
           0,
           0,
           0,
           0,
           1,
           1,
           1,
           1,
           1,
           2,
           2,
           2,
           2,
           2,
           3,
           3,
           3,
           3,
           3
          ],
          "target": [
           5,
           7,
           8,
           4,
           6,
           5,
           7,
           8,
           4,
           6,
           5,
           7,
           8,
           4,
           6,
           5,
           7,
           8,
           4,
           6
          ],
          "value": [
           6180.435573438398,
           1601.6040024032043,
           530.8029867047892,
           8470.11014127907,
           531.9194348275862,
           2329.7266331103224,
           9400.381315281502,
           900.488873254565,
           16220.274485812808,
           1133.5735338582679,
           906.454741362916,
           2063.0986615649185,
           7353.644428111814,
           24188.93492433962,
           890.9731637795276,
           4982.330705043969,
           6076.139863563831,
           3435.208173467337,
           756837.3155094084,
           1077.1280586160108
          ]
         },
         "node": {
          "color": [
           "rgba(31,119,180,0.8)",
           "rgba(255,127,14,0.8)",
           "rgba(44,160,44,0.8)",
           "rgba(214,39,40,0.8)",
           "rgba(148,103,189,0.8)",
           "rgba(140,86,75,0.8)",
           "rgba(227,119,194,0.8)",
           "rgba(127,127,127,0.8)",
           "rgba(188,189,34,0.8)"
          ],
          "label": [
           "Source: APAC",
           "Source: EMEA",
           "Source: LATAM",
           "Source: North America",
           "Target: North America",
           "Target: APAC",
           "Target: Sub-Saharan Africa",
           "Target: EMEA",
           "Target: LATAM"
          ],
          "line": {
           "color": "black",
           "width": 0.5
          },
          "pad": 15,
          "thickness": 20
         },
         "type": "sankey"
        }
       ],
       "layout": {
        "font": {
         "size": 10
        },
        "template": {
         "data": {
          "bar": [
           {
            "error_x": {
             "color": "#2a3f5f"
            },
            "error_y": {
             "color": "#2a3f5f"
            },
            "marker": {
             "line": {
              "color": "#E5ECF6",
              "width": 0.5
             },
             "pattern": {
              "fillmode": "overlay",
              "size": 10,
              "solidity": 0.2
             }
            },
            "type": "bar"
           }
          ],
          "barpolar": [
           {
            "marker": {
             "line": {
              "color": "#E5ECF6",
              "width": 0.5
             },
             "pattern": {
              "fillmode": "overlay",
              "size": 10,
              "solidity": 0.2
             }
            },
            "type": "barpolar"
           }
          ],
          "carpet": [
           {
            "aaxis": {
             "endlinecolor": "#2a3f5f",
             "gridcolor": "white",
             "linecolor": "white",
             "minorgridcolor": "white",
             "startlinecolor": "#2a3f5f"
            },
            "baxis": {
             "endlinecolor": "#2a3f5f",
             "gridcolor": "white",
             "linecolor": "white",
             "minorgridcolor": "white",
             "startlinecolor": "#2a3f5f"
            },
            "type": "carpet"
           }
          ],
          "choropleth": [
           {
            "colorbar": {
             "outlinewidth": 0,
             "ticks": ""
            },
            "type": "choropleth"
           }
          ],
          "contour": [
           {
            "colorbar": {
             "outlinewidth": 0,
             "ticks": ""
            },
            "colorscale": [
             [
              0,
              "#0d0887"
             ],
             [
              0.1111111111111111,
              "#46039f"
             ],
             [
              0.2222222222222222,
              "#7201a8"
             ],
             [
              0.3333333333333333,
              "#9c179e"
             ],
             [
              0.4444444444444444,
              "#bd3786"
             ],
             [
              0.5555555555555556,
              "#d8576b"
             ],
             [
              0.6666666666666666,
              "#ed7953"
             ],
             [
              0.7777777777777778,
              "#fb9f3a"
             ],
             [
              0.8888888888888888,
              "#fdca26"
             ],
             [
              1,
              "#f0f921"
             ]
            ],
            "type": "contour"
           }
          ],
          "contourcarpet": [
           {
            "colorbar": {
             "outlinewidth": 0,
             "ticks": ""
            },
            "type": "contourcarpet"
           }
          ],
          "heatmap": [
           {
            "colorbar": {
             "outlinewidth": 0,
             "ticks": ""
            },
            "colorscale": [
             [
              0,
              "#0d0887"
             ],
             [
              0.1111111111111111,
              "#46039f"
             ],
             [
              0.2222222222222222,
              "#7201a8"
             ],
             [
              0.3333333333333333,
              "#9c179e"
             ],
             [
              0.4444444444444444,
              "#bd3786"
             ],
             [
              0.5555555555555556,
              "#d8576b"
             ],
             [
              0.6666666666666666,
              "#ed7953"
             ],
             [
              0.7777777777777778,
              "#fb9f3a"
             ],
             [
              0.8888888888888888,
              "#fdca26"
             ],
             [
              1,
              "#f0f921"
             ]
            ],
            "type": "heatmap"
           }
          ],
          "heatmapgl": [
           {
            "colorbar": {
             "outlinewidth": 0,
             "ticks": ""
            },
            "colorscale": [
             [
              0,
              "#0d0887"
             ],
             [
              0.1111111111111111,
              "#46039f"
             ],
             [
              0.2222222222222222,
              "#7201a8"
             ],
             [
              0.3333333333333333,
              "#9c179e"
             ],
             [
              0.4444444444444444,
              "#bd3786"
             ],
             [
              0.5555555555555556,
              "#d8576b"
             ],
             [
              0.6666666666666666,
              "#ed7953"
             ],
             [
              0.7777777777777778,
              "#fb9f3a"
             ],
             [
              0.8888888888888888,
              "#fdca26"
             ],
             [
              1,
              "#f0f921"
             ]
            ],
            "type": "heatmapgl"
           }
          ],
          "histogram": [
           {
            "marker": {
             "pattern": {
              "fillmode": "overlay",
              "size": 10,
              "solidity": 0.2
             }
            },
            "type": "histogram"
           }
          ],
          "histogram2d": [
           {
            "colorbar": {
             "outlinewidth": 0,
             "ticks": ""
            },
            "colorscale": [
             [
              0,
              "#0d0887"
             ],
             [
              0.1111111111111111,
              "#46039f"
             ],
             [
              0.2222222222222222,
              "#7201a8"
             ],
             [
              0.3333333333333333,
              "#9c179e"
             ],
             [
              0.4444444444444444,
              "#bd3786"
             ],
             [
              0.5555555555555556,
              "#d8576b"
             ],
             [
              0.6666666666666666,
              "#ed7953"
             ],
             [
              0.7777777777777778,
              "#fb9f3a"
             ],
             [
              0.8888888888888888,
              "#fdca26"
             ],
             [
              1,
              "#f0f921"
             ]
            ],
            "type": "histogram2d"
           }
          ],
          "histogram2dcontour": [
           {
            "colorbar": {
             "outlinewidth": 0,
             "ticks": ""
            },
            "colorscale": [
             [
              0,
              "#0d0887"
             ],
             [
              0.1111111111111111,
              "#46039f"
             ],
             [
              0.2222222222222222,
              "#7201a8"
             ],
             [
              0.3333333333333333,
              "#9c179e"
             ],
             [
              0.4444444444444444,
              "#bd3786"
             ],
             [
              0.5555555555555556,
              "#d8576b"
             ],
             [
              0.6666666666666666,
              "#ed7953"
             ],
             [
              0.7777777777777778,
              "#fb9f3a"
             ],
             [
              0.8888888888888888,
              "#fdca26"
             ],
             [
              1,
              "#f0f921"
             ]
            ],
            "type": "histogram2dcontour"
           }
          ],
          "mesh3d": [
           {
            "colorbar": {
             "outlinewidth": 0,
             "ticks": ""
            },
            "type": "mesh3d"
           }
          ],
          "parcoords": [
           {
            "line": {
             "colorbar": {
              "outlinewidth": 0,
              "ticks": ""
             }
            },
            "type": "parcoords"
           }
          ],
          "pie": [
           {
            "automargin": true,
            "type": "pie"
           }
          ],
          "scatter": [
           {
            "fillpattern": {
             "fillmode": "overlay",
             "size": 10,
             "solidity": 0.2
            },
            "type": "scatter"
           }
          ],
          "scatter3d": [
           {
            "line": {
             "colorbar": {
              "outlinewidth": 0,
              "ticks": ""
             }
            },
            "marker": {
             "colorbar": {
              "outlinewidth": 0,
              "ticks": ""
             }
            },
            "type": "scatter3d"
           }
          ],
          "scattercarpet": [
           {
            "marker": {
             "colorbar": {
              "outlinewidth": 0,
              "ticks": ""
             }
            },
            "type": "scattercarpet"
           }
          ],
          "scattergeo": [
           {
            "marker": {
             "colorbar": {
              "outlinewidth": 0,
              "ticks": ""
             }
            },
            "type": "scattergeo"
           }
          ],
          "scattergl": [
           {
            "marker": {
             "colorbar": {
              "outlinewidth": 0,
              "ticks": ""
             }
            },
            "type": "scattergl"
           }
          ],
          "scattermapbox": [
           {
            "marker": {
             "colorbar": {
              "outlinewidth": 0,
              "ticks": ""
             }
            },
            "type": "scattermapbox"
           }
          ],
          "scatterpolar": [
           {
            "marker": {
             "colorbar": {
              "outlinewidth": 0,
              "ticks": ""
             }
            },
            "type": "scatterpolar"
           }
          ],
          "scatterpolargl": [
           {
            "marker": {
             "colorbar": {
              "outlinewidth": 0,
              "ticks": ""
             }
            },
            "type": "scatterpolargl"
           }
          ],
          "scatterternary": [
           {
            "marker": {
             "colorbar": {
              "outlinewidth": 0,
              "ticks": ""
             }
            },
            "type": "scatterternary"
           }
          ],
          "surface": [
           {
            "colorbar": {
             "outlinewidth": 0,
             "ticks": ""
            },
            "colorscale": [
             [
              0,
              "#0d0887"
             ],
             [
              0.1111111111111111,
              "#46039f"
             ],
             [
              0.2222222222222222,
              "#7201a8"
             ],
             [
              0.3333333333333333,
              "#9c179e"
             ],
             [
              0.4444444444444444,
              "#bd3786"
             ],
             [
              0.5555555555555556,
              "#d8576b"
             ],
             [
              0.6666666666666666,
              "#ed7953"
             ],
             [
              0.7777777777777778,
              "#fb9f3a"
             ],
             [
              0.8888888888888888,
              "#fdca26"
             ],
             [
              1,
              "#f0f921"
             ]
            ],
            "type": "surface"
           }
          ],
          "table": [
           {
            "cells": {
             "fill": {
              "color": "#EBF0F8"
             },
             "line": {
              "color": "white"
             }
            },
            "header": {
             "fill": {
              "color": "#C8D4E3"
             },
             "line": {
              "color": "white"
             }
            },
            "type": "table"
           }
          ]
         },
         "layout": {
          "annotationdefaults": {
           "arrowcolor": "#2a3f5f",
           "arrowhead": 0,
           "arrowwidth": 1
          },
          "autotypenumbers": "strict",
          "coloraxis": {
           "colorbar": {
            "outlinewidth": 0,
            "ticks": ""
           }
          },
          "colorscale": {
           "diverging": [
            [
             0,
             "#8e0152"
            ],
            [
             0.1,
             "#c51b7d"
            ],
            [
             0.2,
             "#de77ae"
            ],
            [
             0.3,
             "#f1b6da"
            ],
            [
             0.4,
             "#fde0ef"
            ],
            [
             0.5,
             "#f7f7f7"
            ],
            [
             0.6,
             "#e6f5d0"
            ],
            [
             0.7,
             "#b8e186"
            ],
            [
             0.8,
             "#7fbc41"
            ],
            [
             0.9,
             "#4d9221"
            ],
            [
             1,
             "#276419"
            ]
           ],
           "sequential": [
            [
             0,
             "#0d0887"
            ],
            [
             0.1111111111111111,
             "#46039f"
            ],
            [
             0.2222222222222222,
             "#7201a8"
            ],
            [
             0.3333333333333333,
             "#9c179e"
            ],
            [
             0.4444444444444444,
             "#bd3786"
            ],
            [
             0.5555555555555556,
             "#d8576b"
            ],
            [
             0.6666666666666666,
             "#ed7953"
            ],
            [
             0.7777777777777778,
             "#fb9f3a"
            ],
            [
             0.8888888888888888,
             "#fdca26"
            ],
            [
             1,
             "#f0f921"
            ]
           ],
           "sequentialminus": [
            [
             0,
             "#0d0887"
            ],
            [
             0.1111111111111111,
             "#46039f"
            ],
            [
             0.2222222222222222,
             "#7201a8"
            ],
            [
             0.3333333333333333,
             "#9c179e"
            ],
            [
             0.4444444444444444,
             "#bd3786"
            ],
            [
             0.5555555555555556,
             "#d8576b"
            ],
            [
             0.6666666666666666,
             "#ed7953"
            ],
            [
             0.7777777777777778,
             "#fb9f3a"
            ],
            [
             0.8888888888888888,
             "#fdca26"
            ],
            [
             1,
             "#f0f921"
            ]
           ]
          },
          "colorway": [
           "#636efa",
           "#EF553B",
           "#00cc96",
           "#ab63fa",
           "#FFA15A",
           "#19d3f3",
           "#FF6692",
           "#B6E880",
           "#FF97FF",
           "#FECB52"
          ],
          "font": {
           "color": "#2a3f5f"
          },
          "geo": {
           "bgcolor": "white",
           "lakecolor": "white",
           "landcolor": "#E5ECF6",
           "showlakes": true,
           "showland": true,
           "subunitcolor": "white"
          },
          "hoverlabel": {
           "align": "left"
          },
          "hovermode": "closest",
          "mapbox": {
           "style": "light"
          },
          "paper_bgcolor": "white",
          "plot_bgcolor": "#E5ECF6",
          "polar": {
           "angularaxis": {
            "gridcolor": "white",
            "linecolor": "white",
            "ticks": ""
           },
           "bgcolor": "#E5ECF6",
           "radialaxis": {
            "gridcolor": "white",
            "linecolor": "white",
            "ticks": ""
           }
          },
          "scene": {
           "xaxis": {
            "backgroundcolor": "#E5ECF6",
            "gridcolor": "white",
            "gridwidth": 2,
            "linecolor": "white",
            "showbackground": true,
            "ticks": "",
            "zerolinecolor": "white"
           },
           "yaxis": {
            "backgroundcolor": "#E5ECF6",
            "gridcolor": "white",
            "gridwidth": 2,
            "linecolor": "white",
            "showbackground": true,
            "ticks": "",
            "zerolinecolor": "white"
           },
           "zaxis": {
            "backgroundcolor": "#E5ECF6",
            "gridcolor": "white",
            "gridwidth": 2,
            "linecolor": "white",
            "showbackground": true,
            "ticks": "",
            "zerolinecolor": "white"
           }
          },
          "shapedefaults": {
           "line": {
            "color": "#2a3f5f"
           }
          },
          "ternary": {
           "aaxis": {
            "gridcolor": "white",
            "linecolor": "white",
            "ticks": ""
           },
           "baxis": {
            "gridcolor": "white",
            "linecolor": "white",
            "ticks": ""
           },
           "bgcolor": "#E5ECF6",
           "caxis": {
            "gridcolor": "white",
            "linecolor": "white",
            "ticks": ""
           }
          },
          "title": {
           "x": 0.05
          },
          "xaxis": {
           "automargin": true,
           "gridcolor": "white",
           "linecolor": "white",
           "ticks": "",
           "title": {
            "standoff": 15
           },
           "zerolinecolor": "white",
           "zerolinewidth": 2
          },
          "yaxis": {
           "automargin": true,
           "gridcolor": "white",
           "linecolor": "white",
           "ticks": "",
           "title": {
            "standoff": 15
           },
           "zerolinecolor": "white",
           "zerolinewidth": 2
          }
         }
        },
        "title": {
         "text": "Sankey Diagram"
        }
       }
      }
     },
     "metadata": {},
     "output_type": "display_data"
    }
   ],
   "source": [
    "from dataviz.sankey import SankeyChartCreator\n",
    "\n",
    "sankey_chart_creator = SankeyChartCreator(\n",
    "     df=df_sankey, \n",
    "     flow_column=\"mean\", \n",
    "     source_column=\"client_region\", \n",
    "     target_column=\"property_region\"\n",
    ")\n",
    "sankey_chart_creator.generate_sankey_chart()\n"
   ]
  },
  {
   "cell_type": "code",
   "execution_count": 15,
   "metadata": {},
   "outputs": [
    {
     "ename": "AttributeError",
     "evalue": "'SankeyChartCreator' object has no attribute 'intersection_node_values'",
     "output_type": "error",
     "traceback": [
      "\u001b[1;31m---------------------------------------------------------------------------\u001b[0m",
      "\u001b[1;31mAttributeError\u001b[0m                            Traceback (most recent call last)",
      "Cell \u001b[1;32mIn[15], line 6\u001b[0m\n\u001b[0;32m      1\u001b[0m (sankey_chart_creator\u001b[38;5;241m.\u001b[39mtarget_column, \n\u001b[0;32m      2\u001b[0m sankey_chart_creator\u001b[38;5;241m.\u001b[39msource_column, \n\u001b[0;32m      3\u001b[0m sankey_chart_creator\u001b[38;5;241m.\u001b[39mflow_column, \n\u001b[0;32m      4\u001b[0m sankey_chart_creator\u001b[38;5;241m.\u001b[39msource_nodes, \n\u001b[0;32m      5\u001b[0m sankey_chart_creator\u001b[38;5;241m.\u001b[39mtarget_nodes, \n\u001b[1;32m----> 6\u001b[0m \u001b[43msankey_chart_creator\u001b[49m\u001b[38;5;241;43m.\u001b[39;49m\u001b[43mintersection_node_values\u001b[49m, \n\u001b[0;32m      7\u001b[0m sankey_chart_creator\u001b[38;5;241m.\u001b[39mall_node_values)\n",
      "\u001b[1;31mAttributeError\u001b[0m: 'SankeyChartCreator' object has no attribute 'intersection_node_values'"
     ]
    }
   ],
   "source": [
    "(sankey_chart_creator.target_column, \n",
    "sankey_chart_creator.source_column, \n",
    "sankey_chart_creator.flow_column, \n",
    "sankey_chart_creator.source_nodes, \n",
    "sankey_chart_creator.target_nodes, \n",
    "sankey_chart_creator.intersection_node_values, \n",
    "sankey_chart_creator.all_node_values)"
   ]
  },
  {
   "cell_type": "code",
   "execution_count": null,
   "metadata": {},
   "outputs": [],
   "source": []
  }
 ],
 "metadata": {
  "kernelspec": {
   "display_name": "analytics-case-202402-xCF_eS4F-py3.11",
   "language": "python",
   "name": "python3"
  },
  "language_info": {
   "codemirror_mode": {
    "name": "ipython",
    "version": 3
   },
   "file_extension": ".py",
   "mimetype": "text/x-python",
   "name": "python",
   "nbconvert_exporter": "python",
   "pygments_lexer": "ipython3",
   "version": "3.11.1"
  }
 },
 "nbformat": 4,
 "nbformat_minor": 2
}
