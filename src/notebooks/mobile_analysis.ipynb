{
 "cells": [
  {
   "cell_type": "code",
   "execution_count": 1,
   "metadata": {},
   "outputs": [],
   "source": [
    "from etl.loader import DataLoader\n",
    "from etl.transformer import DataTransformer\n",
    "from dataviz.sankey_bipartite import SankeyBipartite\n",
    "from dataviz.sankey_tree_graph import SankeyTree\n",
    "from utils.os_ import get_git_root\n",
    "import os\n",
    "\n",
    "import pandas as pd\n",
    "import altair as alt"
   ]
  },
  {
   "cell_type": "markdown",
   "metadata": {},
   "source": [
    "# Dataset preparation"
   ]
  },
  {
   "cell_type": "markdown",
   "metadata": {},
   "source": [
    "## source info"
   ]
  },
  {
   "cell_type": "code",
   "execution_count": 2,
   "metadata": {},
   "outputs": [],
   "source": [
    "git_root = get_git_root(os.getcwd())\n",
    "path_to_file = os.path.join(git_root, \"raw\")\n",
    "filename = \"Analytics Interview Question_mobile_new_2024.xlsx\""
   ]
  },
  {
   "cell_type": "markdown",
   "metadata": {},
   "source": [
    "## load raw dataset"
   ]
  },
  {
   "cell_type": "code",
   "execution_count": 3,
   "metadata": {},
   "outputs": [],
   "source": [
    "data_loader = DataLoader()\n",
    "df_raw = data_loader.load_data_xlsx_from_tab(\n",
    "    path=os.path.join(path_to_file, filename), \n",
    "    sheet_name=\"Data\")"
   ]
  },
  {
   "cell_type": "markdown",
   "metadata": {},
   "source": [
    "## Transform dataset"
   ]
  },
  {
   "cell_type": "code",
   "execution_count": 4,
   "metadata": {},
   "outputs": [],
   "source": [
    "data_transformer = DataTransformer(df_raw)\n",
    "df = data_transformer.transform_data(\n",
    "    fill_super_region=True,\n",
    "    drop_post_book=True,\n",
    "    map_property_to_super_region=True,\n",
    "    replace_us_client_country=True,\n",
    "    treat_apac_2022w45_outlier=True,\n",
    ").copy()"
   ]
  },
  {
   "cell_type": "code",
   "execution_count": 5,
   "metadata": {},
   "outputs": [
    {
     "name": "stdout",
     "output_type": "stream",
     "text": [
      "(73648, 12)\n"
     ]
    }
   ],
   "source": [
    "print(df.shape)"
   ]
  },
  {
   "cell_type": "code",
   "execution_count": 6,
   "metadata": {},
   "outputs": [
    {
     "data": {
      "text/html": [
       "<div>\n",
       "<style scoped>\n",
       "    .dataframe tbody tr th:only-of-type {\n",
       "        vertical-align: middle;\n",
       "    }\n",
       "\n",
       "    .dataframe tbody tr th {\n",
       "        vertical-align: top;\n",
       "    }\n",
       "\n",
       "    .dataframe thead th {\n",
       "        text-align: right;\n",
       "    }\n",
       "</style>\n",
       "<table border=\"1\" class=\"dataframe\">\n",
       "  <thead>\n",
       "    <tr style=\"text-align: right;\">\n",
       "      <th></th>\n",
       "      <th>client_region</th>\n",
       "      <th>client_country</th>\n",
       "      <th>platform</th>\n",
       "      <th>mobile</th>\n",
       "      <th>property_region</th>\n",
       "      <th>property_country</th>\n",
       "      <th>booking_window</th>\n",
       "      <th>date</th>\n",
       "      <th>year</th>\n",
       "      <th>week</th>\n",
       "      <th>net_gross_booking_usd</th>\n",
       "      <th>net_orders</th>\n",
       "    </tr>\n",
       "  </thead>\n",
       "  <tbody>\n",
       "    <tr>\n",
       "      <th>16982</th>\n",
       "      <td>APAC</td>\n",
       "      <td>Australia</td>\n",
       "      <td>Desktop</td>\n",
       "      <td>Desktop</td>\n",
       "      <td>EMEA</td>\n",
       "      <td>Austria</td>\n",
       "      <td>4-7 days</td>\n",
       "      <td>2022-11-21</td>\n",
       "      <td>2022</td>\n",
       "      <td>47</td>\n",
       "      <td>179.2604</td>\n",
       "      <td>2</td>\n",
       "    </tr>\n",
       "    <tr>\n",
       "      <th>5755</th>\n",
       "      <td>North America</td>\n",
       "      <td>United States of America</td>\n",
       "      <td>Mobile App</td>\n",
       "      <td>Mobile</td>\n",
       "      <td>EMEA</td>\n",
       "      <td>Greece</td>\n",
       "      <td>2-3 days</td>\n",
       "      <td>2022-11-07</td>\n",
       "      <td>2022</td>\n",
       "      <td>45</td>\n",
       "      <td>467.1616</td>\n",
       "      <td>5</td>\n",
       "    </tr>\n",
       "    <tr>\n",
       "      <th>3020</th>\n",
       "      <td>LATAM</td>\n",
       "      <td>Brazil</td>\n",
       "      <td>Desktop</td>\n",
       "      <td>Desktop</td>\n",
       "      <td>APAC</td>\n",
       "      <td>Thailand</td>\n",
       "      <td>2-3 days</td>\n",
       "      <td>2022-11-07</td>\n",
       "      <td>2022</td>\n",
       "      <td>45</td>\n",
       "      <td>224.4997</td>\n",
       "      <td>4</td>\n",
       "    </tr>\n",
       "    <tr>\n",
       "      <th>579</th>\n",
       "      <td>APAC</td>\n",
       "      <td>South Korea</td>\n",
       "      <td>Desktop</td>\n",
       "      <td>Desktop</td>\n",
       "      <td>EMEA</td>\n",
       "      <td>Italy</td>\n",
       "      <td>46-60 days</td>\n",
       "      <td>2022-11-07</td>\n",
       "      <td>2022</td>\n",
       "      <td>45</td>\n",
       "      <td>13271.0312</td>\n",
       "      <td>52</td>\n",
       "    </tr>\n",
       "    <tr>\n",
       "      <th>18544</th>\n",
       "      <td>EMEA</td>\n",
       "      <td>Norway</td>\n",
       "      <td>Desktop</td>\n",
       "      <td>Desktop</td>\n",
       "      <td>EMEA</td>\n",
       "      <td>Denmark</td>\n",
       "      <td>2-3 days</td>\n",
       "      <td>2022-11-21</td>\n",
       "      <td>2022</td>\n",
       "      <td>47</td>\n",
       "      <td>10672.2572</td>\n",
       "      <td>32</td>\n",
       "    </tr>\n",
       "    <tr>\n",
       "      <th>4392</th>\n",
       "      <td>APAC</td>\n",
       "      <td>Hong Kong</td>\n",
       "      <td>Mobile App</td>\n",
       "      <td>Mobile</td>\n",
       "      <td>APAC</td>\n",
       "      <td>Hong Kong</td>\n",
       "      <td>46-60 days</td>\n",
       "      <td>2022-11-07</td>\n",
       "      <td>2022</td>\n",
       "      <td>45</td>\n",
       "      <td>3461.4181</td>\n",
       "      <td>10</td>\n",
       "    </tr>\n",
       "    <tr>\n",
       "      <th>21045</th>\n",
       "      <td>North America</td>\n",
       "      <td>United States of America</td>\n",
       "      <td>Desktop</td>\n",
       "      <td>Desktop</td>\n",
       "      <td>EMEA</td>\n",
       "      <td>Ukraine</td>\n",
       "      <td>4-7 days</td>\n",
       "      <td>2022-11-21</td>\n",
       "      <td>2022</td>\n",
       "      <td>47</td>\n",
       "      <td>533.6486</td>\n",
       "      <td>2</td>\n",
       "    </tr>\n",
       "    <tr>\n",
       "      <th>59452</th>\n",
       "      <td>APAC</td>\n",
       "      <td>Australia</td>\n",
       "      <td>Mobile App</td>\n",
       "      <td>Mobile</td>\n",
       "      <td>North America</td>\n",
       "      <td>United States of America</td>\n",
       "      <td>4-7 days</td>\n",
       "      <td>2023-11-20</td>\n",
       "      <td>2023</td>\n",
       "      <td>47</td>\n",
       "      <td>5012.6706</td>\n",
       "      <td>9</td>\n",
       "    </tr>\n",
       "    <tr>\n",
       "      <th>1985</th>\n",
       "      <td>EMEA</td>\n",
       "      <td>United Kingdom</td>\n",
       "      <td>Desktop</td>\n",
       "      <td>Desktop</td>\n",
       "      <td>EMEA</td>\n",
       "      <td>Latvia</td>\n",
       "      <td>8-14 days</td>\n",
       "      <td>2022-11-07</td>\n",
       "      <td>2022</td>\n",
       "      <td>45</td>\n",
       "      <td>268.5355</td>\n",
       "      <td>3</td>\n",
       "    </tr>\n",
       "    <tr>\n",
       "      <th>10257</th>\n",
       "      <td>EMEA</td>\n",
       "      <td>United Kingdom</td>\n",
       "      <td>Desktop</td>\n",
       "      <td>Desktop</td>\n",
       "      <td>EMEA</td>\n",
       "      <td>Iceland</td>\n",
       "      <td>+90 days</td>\n",
       "      <td>2022-11-14</td>\n",
       "      <td>2022</td>\n",
       "      <td>46</td>\n",
       "      <td>5157.0919</td>\n",
       "      <td>11</td>\n",
       "    </tr>\n",
       "  </tbody>\n",
       "</table>\n",
       "</div>"
      ],
      "text/plain": [
       "       client_region            client_country    platform   mobile  \\\n",
       "16982           APAC                 Australia     Desktop  Desktop   \n",
       "5755   North America  United States of America  Mobile App   Mobile   \n",
       "3020           LATAM                    Brazil     Desktop  Desktop   \n",
       "579             APAC               South Korea     Desktop  Desktop   \n",
       "18544           EMEA                    Norway     Desktop  Desktop   \n",
       "4392            APAC                 Hong Kong  Mobile App   Mobile   \n",
       "21045  North America  United States of America     Desktop  Desktop   \n",
       "59452           APAC                 Australia  Mobile App   Mobile   \n",
       "1985            EMEA            United Kingdom     Desktop  Desktop   \n",
       "10257           EMEA            United Kingdom     Desktop  Desktop   \n",
       "\n",
       "      property_region          property_country booking_window       date  \\\n",
       "16982            EMEA                   Austria       4-7 days 2022-11-21   \n",
       "5755             EMEA                    Greece       2-3 days 2022-11-07   \n",
       "3020             APAC                  Thailand       2-3 days 2022-11-07   \n",
       "579              EMEA                     Italy     46-60 days 2022-11-07   \n",
       "18544            EMEA                   Denmark       2-3 days 2022-11-21   \n",
       "4392             APAC                 Hong Kong     46-60 days 2022-11-07   \n",
       "21045            EMEA                   Ukraine       4-7 days 2022-11-21   \n",
       "59452   North America  United States of America       4-7 days 2023-11-20   \n",
       "1985             EMEA                    Latvia      8-14 days 2022-11-07   \n",
       "10257            EMEA                   Iceland       +90 days 2022-11-14   \n",
       "\n",
       "       year  week  net_gross_booking_usd  net_orders  \n",
       "16982  2022    47               179.2604           2  \n",
       "5755   2022    45               467.1616           5  \n",
       "3020   2022    45               224.4997           4  \n",
       "579    2022    45             13271.0312          52  \n",
       "18544  2022    47             10672.2572          32  \n",
       "4392   2022    45              3461.4181          10  \n",
       "21045  2022    47               533.6486           2  \n",
       "59452  2023    47              5012.6706           9  \n",
       "1985   2022    45               268.5355           3  \n",
       "10257  2022    46              5157.0919          11  "
      ]
     },
     "execution_count": 6,
     "metadata": {},
     "output_type": "execute_result"
    }
   ],
   "source": [
    "df.sample(10)"
   ]
  },
  {
   "cell_type": "markdown",
   "metadata": {},
   "source": [
    "# Overview of dataset"
   ]
  },
  {
   "cell_type": "markdown",
   "metadata": {},
   "source": [
    "## absolute values By Super Region, Year and Platform"
   ]
  },
  {
   "cell_type": "code",
   "execution_count": 7,
   "metadata": {},
   "outputs": [
    {
     "name": "stdout",
     "output_type": "stream",
     "text": [
      "<class 'pandas.core.frame.DataFrame'>\n",
      "RangeIndex: 64 entries, 0 to 63\n",
      "Data columns (total 7 columns):\n",
      " #   Column                 Non-Null Count  Dtype  \n",
      "---  ------                 --------------  -----  \n",
      " 0   client_region          64 non-null     string \n",
      " 1   year                   64 non-null     int32  \n",
      " 2   week                   64 non-null     int32  \n",
      " 3   mobile                 64 non-null     string \n",
      " 4   net_gross_booking_usd  64 non-null     float64\n",
      " 5   net_orders             64 non-null     float64\n",
      " 6   avg_ticket             64 non-null     float64\n",
      "dtypes: float64(3), int32(2), string(2)\n",
      "memory usage: 3.1 KB\n",
      "None\n",
      "  client_region  year  week   mobile  net_gross_booking_usd  net_orders  \\\n",
      "0          APAC  2022    45  Desktop               8.129804      22.452   \n",
      "1          APAC  2022    45   Mobile               4.319801       8.756   \n",
      "2          APAC  2022    46  Desktop               9.067502      25.292   \n",
      "3          APAC  2022    46   Mobile               2.641798       9.810   \n",
      "4          APAC  2022    47  Desktop               7.483097      22.032   \n",
      "\n",
      "   avg_ticket  \n",
      "0  362.097105  \n",
      "1  493.353274  \n",
      "2  358.512662  \n",
      "3  269.296435  \n",
      "4  339.646742  \n"
     ]
    }
   ],
   "source": [
    "# altair chart of sum of net_gross_bookings_usd by client_region (color encoding), year (shape encoding), week (x_axis)\n",
    "# requires transformation and aggregation before plotting\n",
    "\n",
    "df_chart = df.groupby([\"client_region\", \"year\", \"week\", \"mobile\"]).agg({\"net_gross_booking_usd\": \"sum\", \"net_orders\": \"sum\"}).reset_index()\n",
    "\n",
    "# avg ticket\n",
    "df_chart[\"avg_ticket\"] = df_chart[\"net_gross_booking_usd\"] / df_chart[\"net_orders\"]\n",
    "\n",
    "# million usd\n",
    "df_chart[\"net_gross_booking_usd\"] = df_chart[\"net_gross_booking_usd\"] / 1_000_000\n",
    "\n",
    "# net orders to thousands\n",
    "df_chart[\"net_orders\"] = df_chart[\"net_orders\"] / 1_000\n",
    "\n",
    "\n",
    "print(df_chart.info())\n",
    "print(df_chart.head())\n"
   ]
  },
  {
   "cell_type": "code",
   "execution_count": 8,
   "metadata": {},
   "outputs": [
    {
     "data": {
      "text/html": [
       "\n",
       "<style>\n",
       "  #altair-viz-b8da8d5b48aa42feacac740152510778.vega-embed {\n",
       "    width: 100%;\n",
       "    display: flex;\n",
       "  }\n",
       "\n",
       "  #altair-viz-b8da8d5b48aa42feacac740152510778.vega-embed details,\n",
       "  #altair-viz-b8da8d5b48aa42feacac740152510778.vega-embed details summary {\n",
       "    position: relative;\n",
       "  }\n",
       "</style>\n",
       "<div id=\"altair-viz-b8da8d5b48aa42feacac740152510778\"></div>\n",
       "<script type=\"text/javascript\">\n",
       "  var VEGA_DEBUG = (typeof VEGA_DEBUG == \"undefined\") ? {} : VEGA_DEBUG;\n",
       "  (function(spec, embedOpt){\n",
       "    let outputDiv = document.currentScript.previousElementSibling;\n",
       "    if (outputDiv.id !== \"altair-viz-b8da8d5b48aa42feacac740152510778\") {\n",
       "      outputDiv = document.getElementById(\"altair-viz-b8da8d5b48aa42feacac740152510778\");\n",
       "    }\n",
       "    const paths = {\n",
       "      \"vega\": \"https://cdn.jsdelivr.net/npm/vega@5?noext\",\n",
       "      \"vega-lib\": \"https://cdn.jsdelivr.net/npm/vega-lib?noext\",\n",
       "      \"vega-lite\": \"https://cdn.jsdelivr.net/npm/vega-lite@5.16.3?noext\",\n",
       "      \"vega-embed\": \"https://cdn.jsdelivr.net/npm/vega-embed@6?noext\",\n",
       "    };\n",
       "\n",
       "    function maybeLoadScript(lib, version) {\n",
       "      var key = `${lib.replace(\"-\", \"\")}_version`;\n",
       "      return (VEGA_DEBUG[key] == version) ?\n",
       "        Promise.resolve(paths[lib]) :\n",
       "        new Promise(function(resolve, reject) {\n",
       "          var s = document.createElement('script');\n",
       "          document.getElementsByTagName(\"head\")[0].appendChild(s);\n",
       "          s.async = true;\n",
       "          s.onload = () => {\n",
       "            VEGA_DEBUG[key] = version;\n",
       "            return resolve(paths[lib]);\n",
       "          };\n",
       "          s.onerror = () => reject(`Error loading script: ${paths[lib]}`);\n",
       "          s.src = paths[lib];\n",
       "        });\n",
       "    }\n",
       "\n",
       "    function showError(err) {\n",
       "      outputDiv.innerHTML = `<div class=\"error\" style=\"color:red;\">${err}</div>`;\n",
       "      throw err;\n",
       "    }\n",
       "\n",
       "    function displayChart(vegaEmbed) {\n",
       "      vegaEmbed(outputDiv, spec, embedOpt)\n",
       "        .catch(err => showError(`Javascript Error: ${err.message}<br>This usually means there's a typo in your chart specification. See the javascript console for the full traceback.`));\n",
       "    }\n",
       "\n",
       "    if(typeof define === \"function\" && define.amd) {\n",
       "      requirejs.config({paths});\n",
       "      require([\"vega-embed\"], displayChart, err => showError(`Error loading script: ${err.message}`));\n",
       "    } else {\n",
       "      maybeLoadScript(\"vega\", \"5\")\n",
       "        .then(() => maybeLoadScript(\"vega-lite\", \"5.16.3\"))\n",
       "        .then(() => maybeLoadScript(\"vega-embed\", \"6\"))\n",
       "        .catch(showError)\n",
       "        .then(() => displayChart(vegaEmbed));\n",
       "    }\n",
       "  })({\"config\": {\"view\": {\"continuousWidth\": 300, \"continuousHeight\": 300}}, \"layer\": [{\"mark\": {\"type\": \"line\"}, \"encoding\": {\"color\": {\"condition\": {\"param\": \"param_1\", \"empty\": true, \"field\": \"client_region\", \"title\": \"Client Region\", \"type\": \"nominal\"}, \"value\": \"#666666\"}, \"detail\": {\"field\": \"year\", \"type\": \"nominal\"}, \"opacity\": {\"condition\": {\"param\": \"param_1\", \"value\": 1, \"empty\": true}, \"value\": 0.1}, \"strokeDash\": {\"field\": \"mobile\", \"title\": \"Platform\", \"type\": \"nominal\"}, \"x\": {\"field\": \"week\", \"title\": \"Week\", \"type\": \"ordinal\"}, \"y\": {\"field\": \"net_gross_booking_usd\", \"title\": \"Net Gross Bookings (Million USD)\", \"type\": \"quantitative\"}}, \"name\": \"view_1\"}, {\"mark\": {\"type\": \"point\"}, \"encoding\": {\"color\": {\"condition\": {\"param\": \"param_1\", \"empty\": true, \"field\": \"client_region\", \"title\": \"Client Region\", \"type\": \"nominal\"}, \"value\": \"#666666\"}, \"opacity\": {\"condition\": {\"param\": \"param_1\", \"value\": 1, \"empty\": true}, \"value\": 0.1}, \"shape\": {\"field\": \"year\", \"title\": \"Year\", \"type\": \"nominal\"}, \"tooltip\": [{\"field\": \"client_region\", \"title\": \"Client Region\", \"type\": \"nominal\"}, {\"field\": \"mobile\", \"title\": \"Platform\", \"type\": \"nominal\"}, {\"field\": \"year\", \"title\": \"Year\", \"type\": \"nominal\"}, {\"field\": \"week\", \"title\": \"Week\", \"type\": \"ordinal\"}, {\"field\": \"net_gross_booking_usd\", \"format\": \",.2f\", \"title\": \"Net Gross Bookings (Million USD)\", \"type\": \"quantitative\"}], \"x\": {\"field\": \"week\", \"title\": \"Week\", \"type\": \"ordinal\"}, \"y\": {\"field\": \"net_gross_booking_usd\", \"title\": \"Net Gross Bookings (Million USD)\", \"type\": \"quantitative\"}}}], \"data\": {\"name\": \"data-3f8290e6ab82f22adcf6aa9f95fb3a24\"}, \"height\": 400, \"params\": [{\"name\": \"param_1\", \"select\": {\"type\": \"point\", \"fields\": [\"client_region\"]}, \"bind\": \"legend\", \"views\": [\"view_1\"]}, {\"name\": \"param_2\", \"select\": {\"type\": \"interval\", \"encodings\": [\"x\", \"y\"]}, \"bind\": \"scales\", \"views\": [\"view_1\"]}], \"resolve\": {\"scale\": {\"shape\": \"independent\", \"strokeDash\": \"independent\"}}, \"title\": \"Net Gross Bookings (Million USD) by Client Region, Year, and Week\", \"width\": 600, \"$schema\": \"https://vega.github.io/schema/vega-lite/v5.16.3.json\", \"datasets\": {\"data-3f8290e6ab82f22adcf6aa9f95fb3a24\": [{\"client_region\": \"APAC\", \"year\": 2022, \"week\": 45, \"mobile\": \"Desktop\", \"net_gross_booking_usd\": 8.1298042101, \"net_orders\": 22.452, \"avg_ticket\": 362.09710538482096}, {\"client_region\": \"APAC\", \"year\": 2022, \"week\": 45, \"mobile\": \"Mobile\", \"net_gross_booking_usd\": 4.319801262877999, \"net_orders\": 8.756, \"avg_ticket\": 493.3532735127912}, {\"client_region\": \"APAC\", \"year\": 2022, \"week\": 46, \"mobile\": \"Desktop\", \"net_gross_booking_usd\": 9.0675022442, \"net_orders\": 25.292, \"avg_ticket\": 358.51266187727344}, {\"client_region\": \"APAC\", \"year\": 2022, \"week\": 46, \"mobile\": \"Mobile\", \"net_gross_booking_usd\": 2.6417980245, \"net_orders\": 9.81, \"avg_ticket\": 269.2964347094801}, {\"client_region\": \"APAC\", \"year\": 2022, \"week\": 47, \"mobile\": \"Desktop\", \"net_gross_booking_usd\": 7.4830970201, \"net_orders\": 22.032, \"avg_ticket\": 339.64674201615827}, {\"client_region\": \"APAC\", \"year\": 2022, \"week\": 47, \"mobile\": \"Mobile\", \"net_gross_booking_usd\": 2.2545092581, \"net_orders\": 8.747, \"avg_ticket\": 257.74657117868986}, {\"client_region\": \"APAC\", \"year\": 2022, \"week\": 48, \"mobile\": \"Desktop\", \"net_gross_booking_usd\": 7.657403707399999, \"net_orders\": 21.586, \"avg_ticket\": 354.7393545538775}, {\"client_region\": \"APAC\", \"year\": 2022, \"week\": 48, \"mobile\": \"Mobile\", \"net_gross_booking_usd\": 2.5417947892, \"net_orders\": 9.549, \"avg_ticket\": 266.1843951408525}, {\"client_region\": \"APAC\", \"year\": 2023, \"week\": 45, \"mobile\": \"Desktop\", \"net_gross_booking_usd\": 10.004932983, \"net_orders\": 31.239, \"avg_ticket\": 320.2705907039278}, {\"client_region\": \"APAC\", \"year\": 2023, \"week\": 45, \"mobile\": \"Mobile\", \"net_gross_booking_usd\": 4.932745226800001, \"net_orders\": 20.724, \"avg_ticket\": 238.0209045937078}, {\"client_region\": \"APAC\", \"year\": 2023, \"week\": 46, \"mobile\": \"Desktop\", \"net_gross_booking_usd\": 8.7495014255, \"net_orders\": 27.5, \"avg_ticket\": 318.1636882}, {\"client_region\": \"APAC\", \"year\": 2023, \"week\": 46, \"mobile\": \"Mobile\", \"net_gross_booking_usd\": 5.8646285943, \"net_orders\": 24.425, \"avg_ticket\": 240.10761900921187}, {\"client_region\": \"APAC\", \"year\": 2023, \"week\": 47, \"mobile\": \"Desktop\", \"net_gross_booking_usd\": 8.2135164632, \"net_orders\": 26.843, \"avg_ticket\": 305.9835511380993}, {\"client_region\": \"APAC\", \"year\": 2023, \"week\": 47, \"mobile\": \"Mobile\", \"net_gross_booking_usd\": 5.1529074874, \"net_orders\": 22.424, \"avg_ticket\": 229.79430464680698}, {\"client_region\": \"APAC\", \"year\": 2023, \"week\": 48, \"mobile\": \"Desktop\", \"net_gross_booking_usd\": 9.8066037715, \"net_orders\": 31.078, \"avg_ticket\": 315.5480974161787}, {\"client_region\": \"APAC\", \"year\": 2023, \"week\": 48, \"mobile\": \"Mobile\", \"net_gross_booking_usd\": 4.9318090543999995, \"net_orders\": 21.75, \"avg_ticket\": 226.7498415816092}, {\"client_region\": \"EMEA\", \"year\": 2022, \"week\": 45, \"mobile\": \"Desktop\", \"net_gross_booking_usd\": 13.0090391151, \"net_orders\": 35.432, \"avg_ticket\": 367.15508904662454}, {\"client_region\": \"EMEA\", \"year\": 2022, \"week\": 45, \"mobile\": \"Mobile\", \"net_gross_booking_usd\": 3.6057344348, \"net_orders\": 12.122, \"avg_ticket\": 297.4537563768355}, {\"client_region\": \"EMEA\", \"year\": 2022, \"week\": 46, \"mobile\": \"Desktop\", \"net_gross_booking_usd\": 13.3996270807, \"net_orders\": 38.146, \"avg_ticket\": 351.27214074083787}, {\"client_region\": \"EMEA\", \"year\": 2022, \"week\": 46, \"mobile\": \"Mobile\", \"net_gross_booking_usd\": 3.6639236935, \"net_orders\": 13.274, \"avg_ticket\": 276.02257748229624}, {\"client_region\": \"EMEA\", \"year\": 2022, \"week\": 47, \"mobile\": \"Desktop\", \"net_gross_booking_usd\": 11.6899125637, \"net_orders\": 33.92, \"avg_ticket\": 344.6318562411557}, {\"client_region\": \"EMEA\", \"year\": 2022, \"week\": 47, \"mobile\": \"Mobile\", \"net_gross_booking_usd\": 3.1285257505, \"net_orders\": 11.547, \"avg_ticket\": 270.93840395773793}, {\"client_region\": \"EMEA\", \"year\": 2022, \"week\": 48, \"mobile\": \"Desktop\", \"net_gross_booking_usd\": 11.0642103835, \"net_orders\": 32.521, \"avg_ticket\": 340.21740978137206}, {\"client_region\": \"EMEA\", \"year\": 2022, \"week\": 48, \"mobile\": \"Mobile\", \"net_gross_booking_usd\": 3.2593518068, \"net_orders\": 11.858, \"avg_ticket\": 274.86522236464833}, {\"client_region\": \"EMEA\", \"year\": 2023, \"week\": 45, \"mobile\": \"Desktop\", \"net_gross_booking_usd\": 14.784057151499999, \"net_orders\": 46.368, \"avg_ticket\": 318.8418122735507}, {\"client_region\": \"EMEA\", \"year\": 2023, \"week\": 45, \"mobile\": \"Mobile\", \"net_gross_booking_usd\": 5.853200511, \"net_orders\": 22.58, \"avg_ticket\": 259.22057178919397}, {\"client_region\": \"EMEA\", \"year\": 2023, \"week\": 46, \"mobile\": \"Desktop\", \"net_gross_booking_usd\": 14.9744613525, \"net_orders\": 45.588, \"avg_ticket\": 328.4737508225849}, {\"client_region\": \"EMEA\", \"year\": 2023, \"week\": 46, \"mobile\": \"Mobile\", \"net_gross_booking_usd\": 5.6174297615, \"net_orders\": 21.669, \"avg_ticket\": 259.23807104619505}, {\"client_region\": \"EMEA\", \"year\": 2023, \"week\": 47, \"mobile\": \"Desktop\", \"net_gross_booking_usd\": 12.9814834922, \"net_orders\": 41.628, \"avg_ticket\": 311.8449959690593}, {\"client_region\": \"EMEA\", \"year\": 2023, \"week\": 47, \"mobile\": \"Mobile\", \"net_gross_booking_usd\": 4.787085580199999, \"net_orders\": 19.955, \"avg_ticket\": 239.89404060135303}, {\"client_region\": \"EMEA\", \"year\": 2023, \"week\": 48, \"mobile\": \"Desktop\", \"net_gross_booking_usd\": 12.7710009205, \"net_orders\": 41.351, \"avg_ticket\": 308.84382289424684}, {\"client_region\": \"EMEA\", \"year\": 2023, \"week\": 48, \"mobile\": \"Mobile\", \"net_gross_booking_usd\": 4.864009042, \"net_orders\": 20.487, \"avg_ticket\": 237.41929233172257}, {\"client_region\": \"LATAM\", \"year\": 2022, \"week\": 45, \"mobile\": \"Desktop\", \"net_gross_booking_usd\": 3.3286204976, \"net_orders\": 7.293, \"avg_ticket\": 456.4130669957493}, {\"client_region\": \"LATAM\", \"year\": 2022, \"week\": 45, \"mobile\": \"Mobile\", \"net_gross_booking_usd\": 0.694192032, \"net_orders\": 1.751, \"avg_ticket\": 396.454615648201}, {\"client_region\": \"LATAM\", \"year\": 2022, \"week\": 46, \"mobile\": \"Desktop\", \"net_gross_booking_usd\": 3.4567590811, \"net_orders\": 7.663, \"avg_ticket\": 451.097361490278}, {\"client_region\": \"LATAM\", \"year\": 2022, \"week\": 46, \"mobile\": \"Mobile\", \"net_gross_booking_usd\": 0.7182847086999999, \"net_orders\": 1.774, \"avg_ticket\": 404.89555169109354}, {\"client_region\": \"LATAM\", \"year\": 2022, \"week\": 47, \"mobile\": \"Desktop\", \"net_gross_booking_usd\": 3.2411595118, \"net_orders\": 7.144, \"avg_ticket\": 453.68974129339307}, {\"client_region\": \"LATAM\", \"year\": 2022, \"week\": 47, \"mobile\": \"Mobile\", \"net_gross_booking_usd\": 0.6778352007, \"net_orders\": 1.733, \"avg_ticket\": 391.13398770917485}, {\"client_region\": \"LATAM\", \"year\": 2022, \"week\": 48, \"mobile\": \"Desktop\", \"net_gross_booking_usd\": 3.7432041228, \"net_orders\": 7.682, \"avg_ticket\": 487.2694770632648}, {\"client_region\": \"LATAM\", \"year\": 2022, \"week\": 48, \"mobile\": \"Mobile\", \"net_gross_booking_usd\": 0.6427585973000001, \"net_orders\": 1.625, \"avg_ticket\": 395.5437521846154}, {\"client_region\": \"LATAM\", \"year\": 2023, \"week\": 45, \"mobile\": \"Desktop\", \"net_gross_booking_usd\": 3.3854054976, \"net_orders\": 10.954, \"avg_ticket\": 309.0565544641227}, {\"client_region\": \"LATAM\", \"year\": 2023, \"week\": 45, \"mobile\": \"Mobile\", \"net_gross_booking_usd\": 1.0129179183, \"net_orders\": 3.923, \"avg_ticket\": 258.1998262299261}, {\"client_region\": \"LATAM\", \"year\": 2023, \"week\": 46, \"mobile\": \"Desktop\", \"net_gross_booking_usd\": 3.3985054397, \"net_orders\": 11.343, \"avg_ticket\": 299.61257513003613}, {\"client_region\": \"LATAM\", \"year\": 2023, \"week\": 46, \"mobile\": \"Mobile\", \"net_gross_booking_usd\": 0.8940399102000001, \"net_orders\": 3.786, \"avg_ticket\": 236.14366354992077}, {\"client_region\": \"LATAM\", \"year\": 2023, \"week\": 47, \"mobile\": \"Desktop\", \"net_gross_booking_usd\": 2.7398436815, \"net_orders\": 9.126, \"avg_ticket\": 300.2239405544598}, {\"client_region\": \"LATAM\", \"year\": 2023, \"week\": 47, \"mobile\": \"Mobile\", \"net_gross_booking_usd\": 0.7864173354, \"net_orders\": 3.258, \"avg_ticket\": 241.3803976058932}, {\"client_region\": \"LATAM\", \"year\": 2023, \"week\": 48, \"mobile\": \"Desktop\", \"net_gross_booking_usd\": 3.2353770244, \"net_orders\": 10.133, \"avg_ticket\": 319.29113040560543}, {\"client_region\": \"LATAM\", \"year\": 2023, \"week\": 48, \"mobile\": \"Mobile\", \"net_gross_booking_usd\": 0.8631917487, \"net_orders\": 3.432, \"avg_ticket\": 251.5127472902098}, {\"client_region\": \"North America\", \"year\": 2022, \"week\": 45, \"mobile\": \"Desktop\", \"net_gross_booking_usd\": 62.55461642509995, \"net_orders\": 220.986, \"avg_ticket\": 283.07049507706347}, {\"client_region\": \"North America\", \"year\": 2022, \"week\": 45, \"mobile\": \"Mobile\", \"net_gross_booking_usd\": 18.693004033699996, \"net_orders\": 95.401, \"avg_ticket\": 195.9413846154652}, {\"client_region\": \"North America\", \"year\": 2022, \"week\": 46, \"mobile\": \"Desktop\", \"net_gross_booking_usd\": 62.868380861699976, \"net_orders\": 220.645, \"avg_ticket\": 284.9300045851933}, {\"client_region\": \"North America\", \"year\": 2022, \"week\": 46, \"mobile\": \"Mobile\", \"net_gross_booking_usd\": 18.7420878449, \"net_orders\": 96.521, \"avg_ticket\": 194.17627091410156}, {\"client_region\": \"North America\", \"year\": 2022, \"week\": 47, \"mobile\": \"Desktop\", \"net_gross_booking_usd\": 54.616867127199974, \"net_orders\": 197.674, \"avg_ticket\": 276.29767762679955}, {\"client_region\": \"North America\", \"year\": 2022, \"week\": 47, \"mobile\": \"Mobile\", \"net_gross_booking_usd\": 16.117911485599997, \"net_orders\": 90.716, \"avg_ticket\": 177.67440678160412}, {\"client_region\": \"North America\", \"year\": 2022, \"week\": 48, \"mobile\": \"Desktop\", \"net_gross_booking_usd\": 44.87849879259997, \"net_orders\": 164.911, \"avg_ticket\": 272.1376911946442}, {\"client_region\": \"North America\", \"year\": 2022, \"week\": 48, \"mobile\": \"Mobile\", \"net_gross_booking_usd\": 17.0883310313, \"net_orders\": 94.913, \"avg_ticket\": 180.04204936415454}, {\"client_region\": \"North America\", \"year\": 2023, \"week\": 45, \"mobile\": \"Desktop\", \"net_gross_booking_usd\": 67.25121639019999, \"net_orders\": 234.986, \"avg_ticket\": 286.192438656771}, {\"client_region\": \"North America\", \"year\": 2023, \"week\": 45, \"mobile\": \"Mobile\", \"net_gross_booking_usd\": 30.332538526199997, \"net_orders\": 152.897, \"avg_ticket\": 198.385439388608}, {\"client_region\": \"North America\", \"year\": 2023, \"week\": 46, \"mobile\": \"Desktop\", \"net_gross_booking_usd\": 67.38626269759997, \"net_orders\": 237.935, \"avg_ticket\": 283.21290561539905}, {\"client_region\": \"North America\", \"year\": 2023, \"week\": 46, \"mobile\": \"Mobile\", \"net_gross_booking_usd\": 28.440242800799997, \"net_orders\": 147.075, \"avg_ticket\": 193.37238008363076}, {\"client_region\": \"North America\", \"year\": 2023, \"week\": 47, \"mobile\": \"Desktop\", \"net_gross_booking_usd\": 61.12401681859998, \"net_orders\": 228.046, \"avg_ticket\": 268.03371608622814}, {\"client_region\": \"North America\", \"year\": 2023, \"week\": 47, \"mobile\": \"Mobile\", \"net_gross_booking_usd\": 26.97103726639999, \"net_orders\": 149.566, \"avg_ticket\": 180.32866604977062}, {\"client_region\": \"North America\", \"year\": 2023, \"week\": 48, \"mobile\": \"Desktop\", \"net_gross_booking_usd\": 48.190392655500006, \"net_orders\": 176.469, \"avg_ticket\": 273.08134944664505}, {\"client_region\": \"North America\", \"year\": 2023, \"week\": 48, \"mobile\": \"Mobile\", \"net_gross_booking_usd\": 26.51000211409999, \"net_orders\": 147.05, \"avg_ticket\": 180.2788311057463}]}}, {\"mode\": \"vega-lite\"});\n",
       "</script>"
      ],
      "text/plain": [
       "alt.LayerChart(...)"
      ]
     },
     "execution_count": 8,
     "metadata": {},
     "output_type": "execute_result"
    }
   ],
   "source": [
    "y_var = \"net_gross_booking_usd\"\n",
    "y_var_name = \"Net Gross Bookings (Million USD)\"\n",
    "\n",
    "# y_var = \"net_orders\"\n",
    "# y_var_name = \"Net Orders (thousands)\"\n",
    "\n",
    "# y_var = \"avg_ticket\"\n",
    "# y_var_name = \"Average Ticket (USD)\"\n",
    "\n",
    "# Define selection\n",
    "selection = alt.selection_point(fields=['client_region'], bind='legend', empty=True)\n",
    "\n",
    "# Define alpha transparency level and gray color code\n",
    "alpha_transparency = 0.1\n",
    "gray_color_code = \"#666666\"\n",
    "\n",
    "# Modify the line chart to include selection\n",
    "line_chart = alt.Chart(df_chart).mark_line().encode(\n",
    "    x=alt.X(\"week:O\", title=\"Week\"),\n",
    "    y=alt.Y(f\"{y_var}:Q\", title=y_var_name),\n",
    "    color=alt.condition(selection,\n",
    "                        alt.Color(\"client_region:N\", title=\"Client Region\"),\n",
    "                        alt.value(gray_color_code)),\n",
    "    strokeDash=alt.StrokeDash(\"mobile:N\", title=\"Platform\"),\n",
    "    detail=alt.Detail(\"year:N\"),\n",
    "    opacity=alt.condition(selection, alt.value(1), alt.value(alpha_transparency))\n",
    ")\n",
    "\n",
    "# Modify the point chart to include selection\n",
    "point_chart = alt.Chart(df_chart).mark_point().encode(\n",
    "    x=alt.X(\"week:O\", title=\"Week\"),\n",
    "    y=alt.Y(f\"{y_var}:Q\", title=y_var_name),\n",
    "    color=alt.condition(selection,\n",
    "                        alt.Color(\"client_region:N\", title=\"Client Region\"),\n",
    "                        alt.value(gray_color_code)),\n",
    "    shape=alt.Shape(\"year:N\", title=\"Year\"),\n",
    "    opacity=alt.condition(selection, alt.value(1), alt.value(alpha_transparency)),\n",
    "    tooltip=[\n",
    "        alt.Tooltip(\"client_region:N\", title=\"Client Region\"),\n",
    "        alt.Tooltip(\"mobile:N\", title=\"Platform\"),\n",
    "        alt.Tooltip(\"year:N\", title=\"Year\"),\n",
    "        alt.Tooltip(\"week:O\", title=\"Week\"),\n",
    "        alt.Tooltip(f\"{y_var}:Q\", title=y_var_name).format(\",.2f\")\n",
    "    ]\n",
    ")\n",
    "\n",
    "# Add selection to the layered chart\n",
    "layered_chart = alt.layer(line_chart, point_chart).resolve_scale(\n",
    "    shape='independent',\n",
    "    strokeDash='independent'\n",
    ").add_params(\n",
    "    selection\n",
    ").properties(\n",
    "    title=f\"{y_var_name} by Client Region, Year, and Week\",\n",
    "    width=600,\n",
    "    height=400\n",
    ").interactive()\n",
    "\n",
    "layered_chart\n"
   ]
  },
  {
   "cell_type": "markdown",
   "metadata": {},
   "source": [
    "## Sankey chart view"
   ]
  },
  {
   "cell_type": "code",
   "execution_count": 9,
   "metadata": {},
   "outputs": [
    {
     "name": "stdout",
     "output_type": "stream",
     "text": [
      "<class 'pandas.core.frame.DataFrame'>\n",
      "RangeIndex: 20 entries, 0 to 19\n",
      "Data columns (total 4 columns):\n",
      " #   Column           Non-Null Count  Dtype  \n",
      "---  ------           --------------  -----  \n",
      " 0   client_region    20 non-null     string \n",
      " 1   property_region  20 non-null     string \n",
      " 2   sum              20 non-null     float64\n",
      " 3   mean             20 non-null     float64\n",
      "dtypes: float64(2), string(2)\n",
      "memory usage: 768.0 bytes\n",
      "None\n",
      "   client_region     property_region   sum   mean\n",
      "7           EMEA               LATAM  1.01   2.31\n",
      "3           APAC       North America  7.89  36.61\n",
      "10         LATAM                APAC  2.70   2.59\n",
      "5           EMEA                APAC  9.11   7.93\n",
      "14         LATAM  Sub-Saharan Africa  0.20   1.92\n"
     ]
    }
   ],
   "source": [
    "# y_var = \"net_gross_booking_usd\"\n",
    "y_var = \"net_orders\"\n",
    "\n",
    "filter_rule = pd.Series([True] * df.shape[0], index=df.index)\n",
    "# filter_rule &= df['mobile'] == 'Mobile'\n",
    "\n",
    "# apply filter\n",
    "df_sankey = df[filter_rule].copy()\n",
    "\n",
    "df_sankey = df_sankey[['client_region', 'property_region', y_var]]\\\n",
    "    .groupby(['client_region', 'property_region'])\\\n",
    "    [y_var]\\\n",
    "    .agg(['sum', 'mean'])\\\n",
    "    .reset_index()\n",
    "\n",
    "# normalize agg metrics by each source client_region\n",
    "df_sankey['sum'] = (df_sankey['sum'] / df_sankey.groupby('client_region')['sum'].transform('sum')).mul(100).round(2)\n",
    "df_sankey['mean'] = (df_sankey['mean'] / df_sankey.groupby('client_region')['mean'].transform('sum')).mul(100).round(2)\n",
    "\n",
    "print(df_sankey.info())\n",
    "print(df_sankey.sample(5))\n",
    "# df_sankey"
   ]
  },
  {
   "cell_type": "code",
   "execution_count": 10,
   "metadata": {},
   "outputs": [
    {
     "data": {
      "application/vnd.plotly.v1+json": {
       "config": {
        "plotlyServerURL": "https://plot.ly"
       },
       "data": [
        {
         "link": {
          "color": [
           "rgba(31,119,180, 0.4)",
           "rgba(31,119,180, 0.4)",
           "rgba(31,119,180, 0.4)",
           "rgba(31,119,180, 0.4)",
           "rgba(31,119,180, 0.4)",
           "rgba(255,127,14, 0.4)",
           "rgba(255,127,14, 0.4)",
           "rgba(255,127,14, 0.4)",
           "rgba(255,127,14, 0.4)",
           "rgba(255,127,14, 0.4)",
           "rgba(44,160,44, 0.4)",
           "rgba(44,160,44, 0.4)",
           "rgba(44,160,44, 0.4)",
           "rgba(44,160,44, 0.4)",
           "rgba(44,160,44, 0.4)",
           "rgba(214,39,40, 0.4)",
           "rgba(214,39,40, 0.4)",
           "rgba(214,39,40, 0.4)",
           "rgba(214,39,40, 0.4)",
           "rgba(214,39,40, 0.4)"
          ],
          "source": [
           0,
           0,
           0,
           0,
           0,
           1,
           1,
           1,
           1,
           1,
           2,
           2,
           2,
           2,
           2,
           3,
           3,
           3,
           3,
           3
          ],
          "target": [
           5,
           6,
           7,
           8,
           9,
           5,
           6,
           7,
           8,
           9,
           5,
           6,
           7,
           8,
           9,
           5,
           6,
           7,
           8,
           9
          ],
          "value": [
           78.86,
           12.48,
           0.57,
           7.89,
           0.2,
           9.11,
           83.14,
           1.01,
           6.03,
           0.71,
           2.7,
           12.35,
           63.49,
           21.26,
           0.2,
           3.19,
           3.46,
           1.72,
           91.5,
           0.13
          ]
         },
         "node": {
          "color": [
           "rgba(31,119,180,0.8)",
           "rgba(255,127,14,0.8)",
           "rgba(44,160,44,0.8)",
           "rgba(214,39,40,0.8)",
           "rgba(148,103,189,0.8)",
           "rgba(31,119,180,0.8)",
           "rgba(255,127,14,0.8)",
           "rgba(44,160,44,0.8)",
           "rgba(214,39,40,0.8)",
           "rgba(148,103,189,0.8)"
          ],
          "label": [
           "Source: APAC",
           "Source: EMEA",
           "Source: LATAM",
           "Source: North America",
           "Source: Sub-Saharan Africa",
           "Target: APAC",
           "Target: EMEA",
           "Target: LATAM",
           "Target: North America",
           "Target: Sub-Saharan Africa"
          ],
          "line": {
           "color": "black",
           "width": 0.5
          },
          "pad": 15,
          "thickness": 20
         },
         "type": "sankey"
        }
       ],
       "layout": {
        "font": {
         "size": 10
        },
        "template": {
         "data": {
          "bar": [
           {
            "error_x": {
             "color": "#2a3f5f"
            },
            "error_y": {
             "color": "#2a3f5f"
            },
            "marker": {
             "line": {
              "color": "#E5ECF6",
              "width": 0.5
             },
             "pattern": {
              "fillmode": "overlay",
              "size": 10,
              "solidity": 0.2
             }
            },
            "type": "bar"
           }
          ],
          "barpolar": [
           {
            "marker": {
             "line": {
              "color": "#E5ECF6",
              "width": 0.5
             },
             "pattern": {
              "fillmode": "overlay",
              "size": 10,
              "solidity": 0.2
             }
            },
            "type": "barpolar"
           }
          ],
          "carpet": [
           {
            "aaxis": {
             "endlinecolor": "#2a3f5f",
             "gridcolor": "white",
             "linecolor": "white",
             "minorgridcolor": "white",
             "startlinecolor": "#2a3f5f"
            },
            "baxis": {
             "endlinecolor": "#2a3f5f",
             "gridcolor": "white",
             "linecolor": "white",
             "minorgridcolor": "white",
             "startlinecolor": "#2a3f5f"
            },
            "type": "carpet"
           }
          ],
          "choropleth": [
           {
            "colorbar": {
             "outlinewidth": 0,
             "ticks": ""
            },
            "type": "choropleth"
           }
          ],
          "contour": [
           {
            "colorbar": {
             "outlinewidth": 0,
             "ticks": ""
            },
            "colorscale": [
             [
              0,
              "#0d0887"
             ],
             [
              0.1111111111111111,
              "#46039f"
             ],
             [
              0.2222222222222222,
              "#7201a8"
             ],
             [
              0.3333333333333333,
              "#9c179e"
             ],
             [
              0.4444444444444444,
              "#bd3786"
             ],
             [
              0.5555555555555556,
              "#d8576b"
             ],
             [
              0.6666666666666666,
              "#ed7953"
             ],
             [
              0.7777777777777778,
              "#fb9f3a"
             ],
             [
              0.8888888888888888,
              "#fdca26"
             ],
             [
              1,
              "#f0f921"
             ]
            ],
            "type": "contour"
           }
          ],
          "contourcarpet": [
           {
            "colorbar": {
             "outlinewidth": 0,
             "ticks": ""
            },
            "type": "contourcarpet"
           }
          ],
          "heatmap": [
           {
            "colorbar": {
             "outlinewidth": 0,
             "ticks": ""
            },
            "colorscale": [
             [
              0,
              "#0d0887"
             ],
             [
              0.1111111111111111,
              "#46039f"
             ],
             [
              0.2222222222222222,
              "#7201a8"
             ],
             [
              0.3333333333333333,
              "#9c179e"
             ],
             [
              0.4444444444444444,
              "#bd3786"
             ],
             [
              0.5555555555555556,
              "#d8576b"
             ],
             [
              0.6666666666666666,
              "#ed7953"
             ],
             [
              0.7777777777777778,
              "#fb9f3a"
             ],
             [
              0.8888888888888888,
              "#fdca26"
             ],
             [
              1,
              "#f0f921"
             ]
            ],
            "type": "heatmap"
           }
          ],
          "heatmapgl": [
           {
            "colorbar": {
             "outlinewidth": 0,
             "ticks": ""
            },
            "colorscale": [
             [
              0,
              "#0d0887"
             ],
             [
              0.1111111111111111,
              "#46039f"
             ],
             [
              0.2222222222222222,
              "#7201a8"
             ],
             [
              0.3333333333333333,
              "#9c179e"
             ],
             [
              0.4444444444444444,
              "#bd3786"
             ],
             [
              0.5555555555555556,
              "#d8576b"
             ],
             [
              0.6666666666666666,
              "#ed7953"
             ],
             [
              0.7777777777777778,
              "#fb9f3a"
             ],
             [
              0.8888888888888888,
              "#fdca26"
             ],
             [
              1,
              "#f0f921"
             ]
            ],
            "type": "heatmapgl"
           }
          ],
          "histogram": [
           {
            "marker": {
             "pattern": {
              "fillmode": "overlay",
              "size": 10,
              "solidity": 0.2
             }
            },
            "type": "histogram"
           }
          ],
          "histogram2d": [
           {
            "colorbar": {
             "outlinewidth": 0,
             "ticks": ""
            },
            "colorscale": [
             [
              0,
              "#0d0887"
             ],
             [
              0.1111111111111111,
              "#46039f"
             ],
             [
              0.2222222222222222,
              "#7201a8"
             ],
             [
              0.3333333333333333,
              "#9c179e"
             ],
             [
              0.4444444444444444,
              "#bd3786"
             ],
             [
              0.5555555555555556,
              "#d8576b"
             ],
             [
              0.6666666666666666,
              "#ed7953"
             ],
             [
              0.7777777777777778,
              "#fb9f3a"
             ],
             [
              0.8888888888888888,
              "#fdca26"
             ],
             [
              1,
              "#f0f921"
             ]
            ],
            "type": "histogram2d"
           }
          ],
          "histogram2dcontour": [
           {
            "colorbar": {
             "outlinewidth": 0,
             "ticks": ""
            },
            "colorscale": [
             [
              0,
              "#0d0887"
             ],
             [
              0.1111111111111111,
              "#46039f"
             ],
             [
              0.2222222222222222,
              "#7201a8"
             ],
             [
              0.3333333333333333,
              "#9c179e"
             ],
             [
              0.4444444444444444,
              "#bd3786"
             ],
             [
              0.5555555555555556,
              "#d8576b"
             ],
             [
              0.6666666666666666,
              "#ed7953"
             ],
             [
              0.7777777777777778,
              "#fb9f3a"
             ],
             [
              0.8888888888888888,
              "#fdca26"
             ],
             [
              1,
              "#f0f921"
             ]
            ],
            "type": "histogram2dcontour"
           }
          ],
          "mesh3d": [
           {
            "colorbar": {
             "outlinewidth": 0,
             "ticks": ""
            },
            "type": "mesh3d"
           }
          ],
          "parcoords": [
           {
            "line": {
             "colorbar": {
              "outlinewidth": 0,
              "ticks": ""
             }
            },
            "type": "parcoords"
           }
          ],
          "pie": [
           {
            "automargin": true,
            "type": "pie"
           }
          ],
          "scatter": [
           {
            "fillpattern": {
             "fillmode": "overlay",
             "size": 10,
             "solidity": 0.2
            },
            "type": "scatter"
           }
          ],
          "scatter3d": [
           {
            "line": {
             "colorbar": {
              "outlinewidth": 0,
              "ticks": ""
             }
            },
            "marker": {
             "colorbar": {
              "outlinewidth": 0,
              "ticks": ""
             }
            },
            "type": "scatter3d"
           }
          ],
          "scattercarpet": [
           {
            "marker": {
             "colorbar": {
              "outlinewidth": 0,
              "ticks": ""
             }
            },
            "type": "scattercarpet"
           }
          ],
          "scattergeo": [
           {
            "marker": {
             "colorbar": {
              "outlinewidth": 0,
              "ticks": ""
             }
            },
            "type": "scattergeo"
           }
          ],
          "scattergl": [
           {
            "marker": {
             "colorbar": {
              "outlinewidth": 0,
              "ticks": ""
             }
            },
            "type": "scattergl"
           }
          ],
          "scattermapbox": [
           {
            "marker": {
             "colorbar": {
              "outlinewidth": 0,
              "ticks": ""
             }
            },
            "type": "scattermapbox"
           }
          ],
          "scatterpolar": [
           {
            "marker": {
             "colorbar": {
              "outlinewidth": 0,
              "ticks": ""
             }
            },
            "type": "scatterpolar"
           }
          ],
          "scatterpolargl": [
           {
            "marker": {
             "colorbar": {
              "outlinewidth": 0,
              "ticks": ""
             }
            },
            "type": "scatterpolargl"
           }
          ],
          "scatterternary": [
           {
            "marker": {
             "colorbar": {
              "outlinewidth": 0,
              "ticks": ""
             }
            },
            "type": "scatterternary"
           }
          ],
          "surface": [
           {
            "colorbar": {
             "outlinewidth": 0,
             "ticks": ""
            },
            "colorscale": [
             [
              0,
              "#0d0887"
             ],
             [
              0.1111111111111111,
              "#46039f"
             ],
             [
              0.2222222222222222,
              "#7201a8"
             ],
             [
              0.3333333333333333,
              "#9c179e"
             ],
             [
              0.4444444444444444,
              "#bd3786"
             ],
             [
              0.5555555555555556,
              "#d8576b"
             ],
             [
              0.6666666666666666,
              "#ed7953"
             ],
             [
              0.7777777777777778,
              "#fb9f3a"
             ],
             [
              0.8888888888888888,
              "#fdca26"
             ],
             [
              1,
              "#f0f921"
             ]
            ],
            "type": "surface"
           }
          ],
          "table": [
           {
            "cells": {
             "fill": {
              "color": "#EBF0F8"
             },
             "line": {
              "color": "white"
             }
            },
            "header": {
             "fill": {
              "color": "#C8D4E3"
             },
             "line": {
              "color": "white"
             }
            },
            "type": "table"
           }
          ]
         },
         "layout": {
          "annotationdefaults": {
           "arrowcolor": "#2a3f5f",
           "arrowhead": 0,
           "arrowwidth": 1
          },
          "autotypenumbers": "strict",
          "coloraxis": {
           "colorbar": {
            "outlinewidth": 0,
            "ticks": ""
           }
          },
          "colorscale": {
           "diverging": [
            [
             0,
             "#8e0152"
            ],
            [
             0.1,
             "#c51b7d"
            ],
            [
             0.2,
             "#de77ae"
            ],
            [
             0.3,
             "#f1b6da"
            ],
            [
             0.4,
             "#fde0ef"
            ],
            [
             0.5,
             "#f7f7f7"
            ],
            [
             0.6,
             "#e6f5d0"
            ],
            [
             0.7,
             "#b8e186"
            ],
            [
             0.8,
             "#7fbc41"
            ],
            [
             0.9,
             "#4d9221"
            ],
            [
             1,
             "#276419"
            ]
           ],
           "sequential": [
            [
             0,
             "#0d0887"
            ],
            [
             0.1111111111111111,
             "#46039f"
            ],
            [
             0.2222222222222222,
             "#7201a8"
            ],
            [
             0.3333333333333333,
             "#9c179e"
            ],
            [
             0.4444444444444444,
             "#bd3786"
            ],
            [
             0.5555555555555556,
             "#d8576b"
            ],
            [
             0.6666666666666666,
             "#ed7953"
            ],
            [
             0.7777777777777778,
             "#fb9f3a"
            ],
            [
             0.8888888888888888,
             "#fdca26"
            ],
            [
             1,
             "#f0f921"
            ]
           ],
           "sequentialminus": [
            [
             0,
             "#0d0887"
            ],
            [
             0.1111111111111111,
             "#46039f"
            ],
            [
             0.2222222222222222,
             "#7201a8"
            ],
            [
             0.3333333333333333,
             "#9c179e"
            ],
            [
             0.4444444444444444,
             "#bd3786"
            ],
            [
             0.5555555555555556,
             "#d8576b"
            ],
            [
             0.6666666666666666,
             "#ed7953"
            ],
            [
             0.7777777777777778,
             "#fb9f3a"
            ],
            [
             0.8888888888888888,
             "#fdca26"
            ],
            [
             1,
             "#f0f921"
            ]
           ]
          },
          "colorway": [
           "#636efa",
           "#EF553B",
           "#00cc96",
           "#ab63fa",
           "#FFA15A",
           "#19d3f3",
           "#FF6692",
           "#B6E880",
           "#FF97FF",
           "#FECB52"
          ],
          "font": {
           "color": "#2a3f5f"
          },
          "geo": {
           "bgcolor": "white",
           "lakecolor": "white",
           "landcolor": "#E5ECF6",
           "showlakes": true,
           "showland": true,
           "subunitcolor": "white"
          },
          "hoverlabel": {
           "align": "left"
          },
          "hovermode": "closest",
          "mapbox": {
           "style": "light"
          },
          "paper_bgcolor": "white",
          "plot_bgcolor": "#E5ECF6",
          "polar": {
           "angularaxis": {
            "gridcolor": "white",
            "linecolor": "white",
            "ticks": ""
           },
           "bgcolor": "#E5ECF6",
           "radialaxis": {
            "gridcolor": "white",
            "linecolor": "white",
            "ticks": ""
           }
          },
          "scene": {
           "xaxis": {
            "backgroundcolor": "#E5ECF6",
            "gridcolor": "white",
            "gridwidth": 2,
            "linecolor": "white",
            "showbackground": true,
            "ticks": "",
            "zerolinecolor": "white"
           },
           "yaxis": {
            "backgroundcolor": "#E5ECF6",
            "gridcolor": "white",
            "gridwidth": 2,
            "linecolor": "white",
            "showbackground": true,
            "ticks": "",
            "zerolinecolor": "white"
           },
           "zaxis": {
            "backgroundcolor": "#E5ECF6",
            "gridcolor": "white",
            "gridwidth": 2,
            "linecolor": "white",
            "showbackground": true,
            "ticks": "",
            "zerolinecolor": "white"
           }
          },
          "shapedefaults": {
           "line": {
            "color": "#2a3f5f"
           }
          },
          "ternary": {
           "aaxis": {
            "gridcolor": "white",
            "linecolor": "white",
            "ticks": ""
           },
           "baxis": {
            "gridcolor": "white",
            "linecolor": "white",
            "ticks": ""
           },
           "bgcolor": "#E5ECF6",
           "caxis": {
            "gridcolor": "white",
            "linecolor": "white",
            "ticks": ""
           }
          },
          "title": {
           "x": 0.05
          },
          "xaxis": {
           "automargin": true,
           "gridcolor": "white",
           "linecolor": "white",
           "ticks": "",
           "title": {
            "standoff": 15
           },
           "zerolinecolor": "white",
           "zerolinewidth": 2
          },
          "yaxis": {
           "automargin": true,
           "gridcolor": "white",
           "linecolor": "white",
           "ticks": "",
           "title": {
            "standoff": 15
           },
           "zerolinecolor": "white",
           "zerolinewidth": 2
          }
         }
        },
        "title": {
         "text": "Sankey Diagram"
        }
       }
      }
     },
     "metadata": {},
     "output_type": "display_data"
    }
   ],
   "source": [
    "sankey_chart_creator = SankeyBipartite(\n",
    "     df=df_sankey, \n",
    "     flow_column=\"sum\", \n",
    "     source_column=\"client_region\", \n",
    "     target_column=\"property_region\",\n",
    "     normalized=True\n",
    ")\n",
    "sankey_chart_creator.generate_sankey_chart()\n"
   ]
  },
  {
   "cell_type": "markdown",
   "metadata": {},
   "source": [
    "## YoY Growth"
   ]
  },
  {
   "cell_type": "code",
   "execution_count": 11,
   "metadata": {},
   "outputs": [],
   "source": [
    "def calc_yoy_over_dimensions(df, dimensions, date_cols):\n",
    "\n",
    "    metrics=[\"net_gross_booking_usd\", \"net_orders\"]\n",
    "\n",
    "    df_yoy = df.groupby(dimensions + date_cols).agg({metric: 'sum' for metric in metrics}).reset_index()\n",
    "    df_yoy['avg_ticket'] = df_yoy['net_gross_booking_usd'] / df_yoy['net_orders'] \n",
    "    metrics.append(\"avg_ticket\")\n",
    "    print(df_yoy.info())\n",
    "\n",
    "    df_yoy = df_yoy.sort_values(dimensions + date_cols)\n",
    "    for metric in metrics:\n",
    "        df_yoy[f\"yoy_{metric}\"] = df_yoy.groupby(dimensions)[metric].pct_change() * 100\n",
    "    \n",
    "    df_yoy = df_yoy.dropna(subset=[col for col in df_yoy.columns if 'yoy' in col]).drop(columns=metrics)\n",
    "    return df_yoy\n"
   ]
  },
  {
   "cell_type": "code",
   "execution_count": 12,
   "metadata": {},
   "outputs": [
    {
     "name": "stdout",
     "output_type": "stream",
     "text": [
      "<class 'pandas.core.frame.DataFrame'>\n",
      "RangeIndex: 120 entries, 0 to 119\n",
      "Data columns (total 8 columns):\n",
      " #   Column                 Non-Null Count  Dtype  \n",
      "---  ------                 --------------  -----  \n",
      " 0   client_region          120 non-null    string \n",
      " 1   property_region        120 non-null    string \n",
      " 2   platform               120 non-null    string \n",
      " 3   mobile                 120 non-null    string \n",
      " 4   year                   120 non-null    int32  \n",
      " 5   net_gross_booking_usd  120 non-null    float64\n",
      " 6   net_orders             120 non-null    int32  \n",
      " 7   avg_ticket             120 non-null    float64\n",
      "dtypes: float64(2), int32(2), string(4)\n",
      "memory usage: 6.7 KB\n",
      "None\n"
     ]
    },
    {
     "data": {
      "text/html": [
       "<div>\n",
       "<style scoped>\n",
       "    .dataframe tbody tr th:only-of-type {\n",
       "        vertical-align: middle;\n",
       "    }\n",
       "\n",
       "    .dataframe tbody tr th {\n",
       "        vertical-align: top;\n",
       "    }\n",
       "\n",
       "    .dataframe thead th {\n",
       "        text-align: right;\n",
       "    }\n",
       "</style>\n",
       "<table border=\"1\" class=\"dataframe\">\n",
       "  <thead>\n",
       "    <tr style=\"text-align: right;\">\n",
       "      <th></th>\n",
       "      <th>client_region</th>\n",
       "      <th>property_region</th>\n",
       "      <th>platform</th>\n",
       "      <th>mobile</th>\n",
       "      <th>year</th>\n",
       "      <th>yoy_net_gross_booking_usd</th>\n",
       "      <th>yoy_net_orders</th>\n",
       "      <th>yoy_avg_ticket</th>\n",
       "    </tr>\n",
       "  </thead>\n",
       "  <tbody>\n",
       "    <tr>\n",
       "      <th>1</th>\n",
       "      <td>APAC</td>\n",
       "      <td>APAC</td>\n",
       "      <td>Desktop</td>\n",
       "      <td>Desktop</td>\n",
       "      <td>2023</td>\n",
       "      <td>20.208134</td>\n",
       "      <td>34.815412</td>\n",
       "      <td>-10.835021</td>\n",
       "    </tr>\n",
       "    <tr>\n",
       "      <th>3</th>\n",
       "      <td>APAC</td>\n",
       "      <td>APAC</td>\n",
       "      <td>Mobile App</td>\n",
       "      <td>Mobile</td>\n",
       "      <td>2023</td>\n",
       "      <td>76.128056</td>\n",
       "      <td>199.216828</td>\n",
       "      <td>-41.136982</td>\n",
       "    </tr>\n",
       "    <tr>\n",
       "      <th>5</th>\n",
       "      <td>APAC</td>\n",
       "      <td>APAC</td>\n",
       "      <td>Mobile Web</td>\n",
       "      <td>Mobile</td>\n",
       "      <td>2023</td>\n",
       "      <td>72.768609</td>\n",
       "      <td>98.593167</td>\n",
       "      <td>-13.003750</td>\n",
       "    </tr>\n",
       "    <tr>\n",
       "      <th>7</th>\n",
       "      <td>APAC</td>\n",
       "      <td>EMEA</td>\n",
       "      <td>Desktop</td>\n",
       "      <td>Desktop</td>\n",
       "      <td>2023</td>\n",
       "      <td>-4.041230</td>\n",
       "      <td>2.804148</td>\n",
       "      <td>-6.658659</td>\n",
       "    </tr>\n",
       "    <tr>\n",
       "      <th>9</th>\n",
       "      <td>APAC</td>\n",
       "      <td>EMEA</td>\n",
       "      <td>Mobile App</td>\n",
       "      <td>Mobile</td>\n",
       "      <td>2023</td>\n",
       "      <td>119.766499</td>\n",
       "      <td>142.751323</td>\n",
       "      <td>-9.468465</td>\n",
       "    </tr>\n",
       "    <tr>\n",
       "      <th>11</th>\n",
       "      <td>APAC</td>\n",
       "      <td>EMEA</td>\n",
       "      <td>Mobile Web</td>\n",
       "      <td>Mobile</td>\n",
       "      <td>2023</td>\n",
       "      <td>25.762452</td>\n",
       "      <td>46.261682</td>\n",
       "      <td>-14.015448</td>\n",
       "    </tr>\n",
       "    <tr>\n",
       "      <th>13</th>\n",
       "      <td>APAC</td>\n",
       "      <td>LATAM</td>\n",
       "      <td>Desktop</td>\n",
       "      <td>Desktop</td>\n",
       "      <td>2023</td>\n",
       "      <td>-14.408372</td>\n",
       "      <td>13.735343</td>\n",
       "      <td>-24.744916</td>\n",
       "    </tr>\n",
       "    <tr>\n",
       "      <th>15</th>\n",
       "      <td>APAC</td>\n",
       "      <td>LATAM</td>\n",
       "      <td>Mobile App</td>\n",
       "      <td>Mobile</td>\n",
       "      <td>2023</td>\n",
       "      <td>102.540711</td>\n",
       "      <td>183.636364</td>\n",
       "      <td>-28.591416</td>\n",
       "    </tr>\n",
       "    <tr>\n",
       "      <th>17</th>\n",
       "      <td>APAC</td>\n",
       "      <td>LATAM</td>\n",
       "      <td>Mobile Web</td>\n",
       "      <td>Mobile</td>\n",
       "      <td>2023</td>\n",
       "      <td>-14.293115</td>\n",
       "      <td>20.689655</td>\n",
       "      <td>-28.985724</td>\n",
       "    </tr>\n",
       "    <tr>\n",
       "      <th>19</th>\n",
       "      <td>APAC</td>\n",
       "      <td>North America</td>\n",
       "      <td>Desktop</td>\n",
       "      <td>Desktop</td>\n",
       "      <td>2023</td>\n",
       "      <td>3.068492</td>\n",
       "      <td>11.033843</td>\n",
       "      <td>-7.173805</td>\n",
       "    </tr>\n",
       "    <tr>\n",
       "      <th>21</th>\n",
       "      <td>APAC</td>\n",
       "      <td>North America</td>\n",
       "      <td>Mobile App</td>\n",
       "      <td>Mobile</td>\n",
       "      <td>2023</td>\n",
       "      <td>150.298167</td>\n",
       "      <td>141.321244</td>\n",
       "      <td>3.719906</td>\n",
       "    </tr>\n",
       "    <tr>\n",
       "      <th>23</th>\n",
       "      <td>APAC</td>\n",
       "      <td>North America</td>\n",
       "      <td>Mobile Web</td>\n",
       "      <td>Mobile</td>\n",
       "      <td>2023</td>\n",
       "      <td>48.450720</td>\n",
       "      <td>53.467954</td>\n",
       "      <td>-3.269239</td>\n",
       "    </tr>\n",
       "    <tr>\n",
       "      <th>25</th>\n",
       "      <td>APAC</td>\n",
       "      <td>Sub-Saharan Africa</td>\n",
       "      <td>Desktop</td>\n",
       "      <td>Desktop</td>\n",
       "      <td>2023</td>\n",
       "      <td>72.840067</td>\n",
       "      <td>62.841530</td>\n",
       "      <td>6.140041</td>\n",
       "    </tr>\n",
       "    <tr>\n",
       "      <th>27</th>\n",
       "      <td>APAC</td>\n",
       "      <td>Sub-Saharan Africa</td>\n",
       "      <td>Mobile App</td>\n",
       "      <td>Mobile</td>\n",
       "      <td>2023</td>\n",
       "      <td>491.032105</td>\n",
       "      <td>272.000000</td>\n",
       "      <td>58.879598</td>\n",
       "    </tr>\n",
       "    <tr>\n",
       "      <th>29</th>\n",
       "      <td>APAC</td>\n",
       "      <td>Sub-Saharan Africa</td>\n",
       "      <td>Mobile Web</td>\n",
       "      <td>Mobile</td>\n",
       "      <td>2023</td>\n",
       "      <td>86.303040</td>\n",
       "      <td>100.000000</td>\n",
       "      <td>-6.848480</td>\n",
       "    </tr>\n",
       "    <tr>\n",
       "      <th>31</th>\n",
       "      <td>EMEA</td>\n",
       "      <td>APAC</td>\n",
       "      <td>Desktop</td>\n",
       "      <td>Desktop</td>\n",
       "      <td>2023</td>\n",
       "      <td>6.958172</td>\n",
       "      <td>28.449308</td>\n",
       "      <td>-16.731220</td>\n",
       "    </tr>\n",
       "    <tr>\n",
       "      <th>33</th>\n",
       "      <td>EMEA</td>\n",
       "      <td>APAC</td>\n",
       "      <td>Mobile App</td>\n",
       "      <td>Mobile</td>\n",
       "      <td>2023</td>\n",
       "      <td>78.777449</td>\n",
       "      <td>128.115345</td>\n",
       "      <td>-21.628486</td>\n",
       "    </tr>\n",
       "    <tr>\n",
       "      <th>35</th>\n",
       "      <td>EMEA</td>\n",
       "      <td>APAC</td>\n",
       "      <td>Mobile Web</td>\n",
       "      <td>Mobile</td>\n",
       "      <td>2023</td>\n",
       "      <td>24.318204</td>\n",
       "      <td>48.909557</td>\n",
       "      <td>-16.514288</td>\n",
       "    </tr>\n",
       "    <tr>\n",
       "      <th>37</th>\n",
       "      <td>EMEA</td>\n",
       "      <td>EMEA</td>\n",
       "      <td>Desktop</td>\n",
       "      <td>Desktop</td>\n",
       "      <td>2023</td>\n",
       "      <td>14.743103</td>\n",
       "      <td>25.591735</td>\n",
       "      <td>-8.638014</td>\n",
       "    </tr>\n",
       "    <tr>\n",
       "      <th>39</th>\n",
       "      <td>EMEA</td>\n",
       "      <td>EMEA</td>\n",
       "      <td>Mobile App</td>\n",
       "      <td>Mobile</td>\n",
       "      <td>2023</td>\n",
       "      <td>64.449921</td>\n",
       "      <td>76.596230</td>\n",
       "      <td>-6.878011</td>\n",
       "    </tr>\n",
       "    <tr>\n",
       "      <th>41</th>\n",
       "      <td>EMEA</td>\n",
       "      <td>EMEA</td>\n",
       "      <td>Mobile Web</td>\n",
       "      <td>Mobile</td>\n",
       "      <td>2023</td>\n",
       "      <td>58.768940</td>\n",
       "      <td>74.522173</td>\n",
       "      <td>-9.026494</td>\n",
       "    </tr>\n",
       "    <tr>\n",
       "      <th>43</th>\n",
       "      <td>EMEA</td>\n",
       "      <td>LATAM</td>\n",
       "      <td>Desktop</td>\n",
       "      <td>Desktop</td>\n",
       "      <td>2023</td>\n",
       "      <td>42.008021</td>\n",
       "      <td>47.500000</td>\n",
       "      <td>-3.723376</td>\n",
       "    </tr>\n",
       "    <tr>\n",
       "      <th>45</th>\n",
       "      <td>EMEA</td>\n",
       "      <td>LATAM</td>\n",
       "      <td>Mobile App</td>\n",
       "      <td>Mobile</td>\n",
       "      <td>2023</td>\n",
       "      <td>10.909067</td>\n",
       "      <td>99.438202</td>\n",
       "      <td>-44.389257</td>\n",
       "    </tr>\n",
       "    <tr>\n",
       "      <th>47</th>\n",
       "      <td>EMEA</td>\n",
       "      <td>LATAM</td>\n",
       "      <td>Mobile Web</td>\n",
       "      <td>Mobile</td>\n",
       "      <td>2023</td>\n",
       "      <td>82.156785</td>\n",
       "      <td>73.462783</td>\n",
       "      <td>5.012027</td>\n",
       "    </tr>\n",
       "    <tr>\n",
       "      <th>49</th>\n",
       "      <td>EMEA</td>\n",
       "      <td>North America</td>\n",
       "      <td>Desktop</td>\n",
       "      <td>Desktop</td>\n",
       "      <td>2023</td>\n",
       "      <td>0.915695</td>\n",
       "      <td>7.830098</td>\n",
       "      <td>-6.412312</td>\n",
       "    </tr>\n",
       "    <tr>\n",
       "      <th>51</th>\n",
       "      <td>EMEA</td>\n",
       "      <td>North America</td>\n",
       "      <td>Mobile App</td>\n",
       "      <td>Mobile</td>\n",
       "      <td>2023</td>\n",
       "      <td>66.808524</td>\n",
       "      <td>56.540825</td>\n",
       "      <td>6.559119</td>\n",
       "    </tr>\n",
       "    <tr>\n",
       "      <th>53</th>\n",
       "      <td>EMEA</td>\n",
       "      <td>North America</td>\n",
       "      <td>Mobile Web</td>\n",
       "      <td>Mobile</td>\n",
       "      <td>2023</td>\n",
       "      <td>23.311619</td>\n",
       "      <td>33.843118</td>\n",
       "      <td>-7.868540</td>\n",
       "    </tr>\n",
       "    <tr>\n",
       "      <th>55</th>\n",
       "      <td>EMEA</td>\n",
       "      <td>Sub-Saharan Africa</td>\n",
       "      <td>Desktop</td>\n",
       "      <td>Desktop</td>\n",
       "      <td>2023</td>\n",
       "      <td>60.040496</td>\n",
       "      <td>38.172589</td>\n",
       "      <td>15.826517</td>\n",
       "    </tr>\n",
       "    <tr>\n",
       "      <th>57</th>\n",
       "      <td>EMEA</td>\n",
       "      <td>Sub-Saharan Africa</td>\n",
       "      <td>Mobile App</td>\n",
       "      <td>Mobile</td>\n",
       "      <td>2023</td>\n",
       "      <td>74.948786</td>\n",
       "      <td>152.222222</td>\n",
       "      <td>-30.637045</td>\n",
       "    </tr>\n",
       "    <tr>\n",
       "      <th>59</th>\n",
       "      <td>EMEA</td>\n",
       "      <td>Sub-Saharan Africa</td>\n",
       "      <td>Mobile Web</td>\n",
       "      <td>Mobile</td>\n",
       "      <td>2023</td>\n",
       "      <td>9.678456</td>\n",
       "      <td>39.336493</td>\n",
       "      <td>-21.285190</td>\n",
       "    </tr>\n",
       "    <tr>\n",
       "      <th>61</th>\n",
       "      <td>LATAM</td>\n",
       "      <td>APAC</td>\n",
       "      <td>Desktop</td>\n",
       "      <td>Desktop</td>\n",
       "      <td>2023</td>\n",
       "      <td>-18.178683</td>\n",
       "      <td>17.522321</td>\n",
       "      <td>-30.378063</td>\n",
       "    </tr>\n",
       "    <tr>\n",
       "      <th>63</th>\n",
       "      <td>LATAM</td>\n",
       "      <td>APAC</td>\n",
       "      <td>Mobile App</td>\n",
       "      <td>Mobile</td>\n",
       "      <td>2023</td>\n",
       "      <td>103.804999</td>\n",
       "      <td>217.647059</td>\n",
       "      <td>-35.839167</td>\n",
       "    </tr>\n",
       "    <tr>\n",
       "      <th>65</th>\n",
       "      <td>LATAM</td>\n",
       "      <td>APAC</td>\n",
       "      <td>Mobile Web</td>\n",
       "      <td>Mobile</td>\n",
       "      <td>2023</td>\n",
       "      <td>-12.647540</td>\n",
       "      <td>36.607143</td>\n",
       "      <td>-36.055715</td>\n",
       "    </tr>\n",
       "    <tr>\n",
       "      <th>67</th>\n",
       "      <td>LATAM</td>\n",
       "      <td>EMEA</td>\n",
       "      <td>Desktop</td>\n",
       "      <td>Desktop</td>\n",
       "      <td>2023</td>\n",
       "      <td>-0.338199</td>\n",
       "      <td>28.327384</td>\n",
       "      <td>-22.337853</td>\n",
       "    </tr>\n",
       "    <tr>\n",
       "      <th>69</th>\n",
       "      <td>LATAM</td>\n",
       "      <td>EMEA</td>\n",
       "      <td>Mobile App</td>\n",
       "      <td>Mobile</td>\n",
       "      <td>2023</td>\n",
       "      <td>183.678456</td>\n",
       "      <td>205.223881</td>\n",
       "      <td>-7.058892</td>\n",
       "    </tr>\n",
       "    <tr>\n",
       "      <th>71</th>\n",
       "      <td>LATAM</td>\n",
       "      <td>EMEA</td>\n",
       "      <td>Mobile Web</td>\n",
       "      <td>Mobile</td>\n",
       "      <td>2023</td>\n",
       "      <td>-16.233750</td>\n",
       "      <td>20.157480</td>\n",
       "      <td>-30.286280</td>\n",
       "    </tr>\n",
       "    <tr>\n",
       "      <th>73</th>\n",
       "      <td>LATAM</td>\n",
       "      <td>LATAM</td>\n",
       "      <td>Desktop</td>\n",
       "      <td>Desktop</td>\n",
       "      <td>2023</td>\n",
       "      <td>0.746620</td>\n",
       "      <td>61.430239</td>\n",
       "      <td>-37.591234</td>\n",
       "    </tr>\n",
       "    <tr>\n",
       "      <th>75</th>\n",
       "      <td>LATAM</td>\n",
       "      <td>LATAM</td>\n",
       "      <td>Mobile App</td>\n",
       "      <td>Mobile</td>\n",
       "      <td>2023</td>\n",
       "      <td>87.023804</td>\n",
       "      <td>170.530452</td>\n",
       "      <td>-30.867744</td>\n",
       "    </tr>\n",
       "    <tr>\n",
       "      <th>77</th>\n",
       "      <td>LATAM</td>\n",
       "      <td>LATAM</td>\n",
       "      <td>Mobile Web</td>\n",
       "      <td>Mobile</td>\n",
       "      <td>2023</td>\n",
       "      <td>32.134367</td>\n",
       "      <td>131.339144</td>\n",
       "      <td>-42.882832</td>\n",
       "    </tr>\n",
       "    <tr>\n",
       "      <th>79</th>\n",
       "      <td>LATAM</td>\n",
       "      <td>North America</td>\n",
       "      <td>Desktop</td>\n",
       "      <td>Desktop</td>\n",
       "      <td>2023</td>\n",
       "      <td>-16.697866</td>\n",
       "      <td>-0.347714</td>\n",
       "      <td>-16.407202</td>\n",
       "    </tr>\n",
       "    <tr>\n",
       "      <th>81</th>\n",
       "      <td>LATAM</td>\n",
       "      <td>North America</td>\n",
       "      <td>Mobile App</td>\n",
       "      <td>Mobile</td>\n",
       "      <td>2023</td>\n",
       "      <td>190.782202</td>\n",
       "      <td>151.764706</td>\n",
       "      <td>15.497604</td>\n",
       "    </tr>\n",
       "    <tr>\n",
       "      <th>83</th>\n",
       "      <td>LATAM</td>\n",
       "      <td>North America</td>\n",
       "      <td>Mobile Web</td>\n",
       "      <td>Mobile</td>\n",
       "      <td>2023</td>\n",
       "      <td>-26.325723</td>\n",
       "      <td>-3.042763</td>\n",
       "      <td>-24.013638</td>\n",
       "    </tr>\n",
       "    <tr>\n",
       "      <th>85</th>\n",
       "      <td>LATAM</td>\n",
       "      <td>Sub-Saharan Africa</td>\n",
       "      <td>Desktop</td>\n",
       "      <td>Desktop</td>\n",
       "      <td>2023</td>\n",
       "      <td>23.743370</td>\n",
       "      <td>14.492754</td>\n",
       "      <td>8.079652</td>\n",
       "    </tr>\n",
       "    <tr>\n",
       "      <th>87</th>\n",
       "      <td>LATAM</td>\n",
       "      <td>Sub-Saharan Africa</td>\n",
       "      <td>Mobile App</td>\n",
       "      <td>Mobile</td>\n",
       "      <td>2023</td>\n",
       "      <td>156.049540</td>\n",
       "      <td>42.857143</td>\n",
       "      <td>79.234678</td>\n",
       "    </tr>\n",
       "    <tr>\n",
       "      <th>89</th>\n",
       "      <td>LATAM</td>\n",
       "      <td>Sub-Saharan Africa</td>\n",
       "      <td>Mobile Web</td>\n",
       "      <td>Mobile</td>\n",
       "      <td>2023</td>\n",
       "      <td>-84.470541</td>\n",
       "      <td>-62.500000</td>\n",
       "      <td>-58.588110</td>\n",
       "    </tr>\n",
       "    <tr>\n",
       "      <th>91</th>\n",
       "      <td>North America</td>\n",
       "      <td>APAC</td>\n",
       "      <td>Desktop</td>\n",
       "      <td>Desktop</td>\n",
       "      <td>2023</td>\n",
       "      <td>8.394426</td>\n",
       "      <td>18.175751</td>\n",
       "      <td>-8.276930</td>\n",
       "    </tr>\n",
       "    <tr>\n",
       "      <th>93</th>\n",
       "      <td>North America</td>\n",
       "      <td>APAC</td>\n",
       "      <td>Mobile App</td>\n",
       "      <td>Mobile</td>\n",
       "      <td>2023</td>\n",
       "      <td>86.939607</td>\n",
       "      <td>116.153539</td>\n",
       "      <td>-13.515361</td>\n",
       "    </tr>\n",
       "    <tr>\n",
       "      <th>95</th>\n",
       "      <td>North America</td>\n",
       "      <td>APAC</td>\n",
       "      <td>Mobile Web</td>\n",
       "      <td>Mobile</td>\n",
       "      <td>2023</td>\n",
       "      <td>45.652784</td>\n",
       "      <td>79.247873</td>\n",
       "      <td>-18.742253</td>\n",
       "    </tr>\n",
       "    <tr>\n",
       "      <th>97</th>\n",
       "      <td>North America</td>\n",
       "      <td>EMEA</td>\n",
       "      <td>Desktop</td>\n",
       "      <td>Desktop</td>\n",
       "      <td>2023</td>\n",
       "      <td>-7.324885</td>\n",
       "      <td>3.438678</td>\n",
       "      <td>-10.405743</td>\n",
       "    </tr>\n",
       "    <tr>\n",
       "      <th>99</th>\n",
       "      <td>North America</td>\n",
       "      <td>EMEA</td>\n",
       "      <td>Mobile App</td>\n",
       "      <td>Mobile</td>\n",
       "      <td>2023</td>\n",
       "      <td>82.472580</td>\n",
       "      <td>93.037424</td>\n",
       "      <td>-5.472951</td>\n",
       "    </tr>\n",
       "    <tr>\n",
       "      <th>101</th>\n",
       "      <td>North America</td>\n",
       "      <td>EMEA</td>\n",
       "      <td>Mobile Web</td>\n",
       "      <td>Mobile</td>\n",
       "      <td>2023</td>\n",
       "      <td>4.332430</td>\n",
       "      <td>22.055675</td>\n",
       "      <td>-14.520623</td>\n",
       "    </tr>\n",
       "    <tr>\n",
       "      <th>103</th>\n",
       "      <td>North America</td>\n",
       "      <td>LATAM</td>\n",
       "      <td>Desktop</td>\n",
       "      <td>Desktop</td>\n",
       "      <td>2023</td>\n",
       "      <td>-1.578396</td>\n",
       "      <td>17.821980</td>\n",
       "      <td>-16.465838</td>\n",
       "    </tr>\n",
       "    <tr>\n",
       "      <th>105</th>\n",
       "      <td>North America</td>\n",
       "      <td>LATAM</td>\n",
       "      <td>Mobile App</td>\n",
       "      <td>Mobile</td>\n",
       "      <td>2023</td>\n",
       "      <td>103.045640</td>\n",
       "      <td>105.282051</td>\n",
       "      <td>-1.089433</td>\n",
       "    </tr>\n",
       "    <tr>\n",
       "      <th>107</th>\n",
       "      <td>North America</td>\n",
       "      <td>LATAM</td>\n",
       "      <td>Mobile Web</td>\n",
       "      <td>Mobile</td>\n",
       "      <td>2023</td>\n",
       "      <td>41.301369</td>\n",
       "      <td>62.306238</td>\n",
       "      <td>-12.941505</td>\n",
       "    </tr>\n",
       "    <tr>\n",
       "      <th>109</th>\n",
       "      <td>North America</td>\n",
       "      <td>North America</td>\n",
       "      <td>Desktop</td>\n",
       "      <td>Desktop</td>\n",
       "      <td>2023</td>\n",
       "      <td>10.091641</td>\n",
       "      <td>8.793646</td>\n",
       "      <td>1.193080</td>\n",
       "    </tr>\n",
       "    <tr>\n",
       "      <th>111</th>\n",
       "      <td>North America</td>\n",
       "      <td>North America</td>\n",
       "      <td>Mobile App</td>\n",
       "      <td>Mobile</td>\n",
       "      <td>2023</td>\n",
       "      <td>67.276961</td>\n",
       "      <td>60.572088</td>\n",
       "      <td>4.175616</td>\n",
       "    </tr>\n",
       "    <tr>\n",
       "      <th>113</th>\n",
       "      <td>North America</td>\n",
       "      <td>North America</td>\n",
       "      <td>Mobile Web</td>\n",
       "      <td>Mobile</td>\n",
       "      <td>2023</td>\n",
       "      <td>54.932903</td>\n",
       "      <td>54.334377</td>\n",
       "      <td>0.387811</td>\n",
       "    </tr>\n",
       "    <tr>\n",
       "      <th>115</th>\n",
       "      <td>North America</td>\n",
       "      <td>Sub-Saharan Africa</td>\n",
       "      <td>Desktop</td>\n",
       "      <td>Desktop</td>\n",
       "      <td>2023</td>\n",
       "      <td>28.628636</td>\n",
       "      <td>46.355140</td>\n",
       "      <td>-12.111979</td>\n",
       "    </tr>\n",
       "    <tr>\n",
       "      <th>117</th>\n",
       "      <td>North America</td>\n",
       "      <td>Sub-Saharan Africa</td>\n",
       "      <td>Mobile App</td>\n",
       "      <td>Mobile</td>\n",
       "      <td>2023</td>\n",
       "      <td>78.901072</td>\n",
       "      <td>122.500000</td>\n",
       "      <td>-19.595024</td>\n",
       "    </tr>\n",
       "    <tr>\n",
       "      <th>119</th>\n",
       "      <td>North America</td>\n",
       "      <td>Sub-Saharan Africa</td>\n",
       "      <td>Mobile Web</td>\n",
       "      <td>Mobile</td>\n",
       "      <td>2023</td>\n",
       "      <td>52.863228</td>\n",
       "      <td>47.096774</td>\n",
       "      <td>3.920177</td>\n",
       "    </tr>\n",
       "  </tbody>\n",
       "</table>\n",
       "</div>"
      ],
      "text/plain": [
       "     client_region     property_region    platform   mobile  year  \\\n",
       "1             APAC                APAC     Desktop  Desktop  2023   \n",
       "3             APAC                APAC  Mobile App   Mobile  2023   \n",
       "5             APAC                APAC  Mobile Web   Mobile  2023   \n",
       "7             APAC                EMEA     Desktop  Desktop  2023   \n",
       "9             APAC                EMEA  Mobile App   Mobile  2023   \n",
       "11            APAC                EMEA  Mobile Web   Mobile  2023   \n",
       "13            APAC               LATAM     Desktop  Desktop  2023   \n",
       "15            APAC               LATAM  Mobile App   Mobile  2023   \n",
       "17            APAC               LATAM  Mobile Web   Mobile  2023   \n",
       "19            APAC       North America     Desktop  Desktop  2023   \n",
       "21            APAC       North America  Mobile App   Mobile  2023   \n",
       "23            APAC       North America  Mobile Web   Mobile  2023   \n",
       "25            APAC  Sub-Saharan Africa     Desktop  Desktop  2023   \n",
       "27            APAC  Sub-Saharan Africa  Mobile App   Mobile  2023   \n",
       "29            APAC  Sub-Saharan Africa  Mobile Web   Mobile  2023   \n",
       "31            EMEA                APAC     Desktop  Desktop  2023   \n",
       "33            EMEA                APAC  Mobile App   Mobile  2023   \n",
       "35            EMEA                APAC  Mobile Web   Mobile  2023   \n",
       "37            EMEA                EMEA     Desktop  Desktop  2023   \n",
       "39            EMEA                EMEA  Mobile App   Mobile  2023   \n",
       "41            EMEA                EMEA  Mobile Web   Mobile  2023   \n",
       "43            EMEA               LATAM     Desktop  Desktop  2023   \n",
       "45            EMEA               LATAM  Mobile App   Mobile  2023   \n",
       "47            EMEA               LATAM  Mobile Web   Mobile  2023   \n",
       "49            EMEA       North America     Desktop  Desktop  2023   \n",
       "51            EMEA       North America  Mobile App   Mobile  2023   \n",
       "53            EMEA       North America  Mobile Web   Mobile  2023   \n",
       "55            EMEA  Sub-Saharan Africa     Desktop  Desktop  2023   \n",
       "57            EMEA  Sub-Saharan Africa  Mobile App   Mobile  2023   \n",
       "59            EMEA  Sub-Saharan Africa  Mobile Web   Mobile  2023   \n",
       "61           LATAM                APAC     Desktop  Desktop  2023   \n",
       "63           LATAM                APAC  Mobile App   Mobile  2023   \n",
       "65           LATAM                APAC  Mobile Web   Mobile  2023   \n",
       "67           LATAM                EMEA     Desktop  Desktop  2023   \n",
       "69           LATAM                EMEA  Mobile App   Mobile  2023   \n",
       "71           LATAM                EMEA  Mobile Web   Mobile  2023   \n",
       "73           LATAM               LATAM     Desktop  Desktop  2023   \n",
       "75           LATAM               LATAM  Mobile App   Mobile  2023   \n",
       "77           LATAM               LATAM  Mobile Web   Mobile  2023   \n",
       "79           LATAM       North America     Desktop  Desktop  2023   \n",
       "81           LATAM       North America  Mobile App   Mobile  2023   \n",
       "83           LATAM       North America  Mobile Web   Mobile  2023   \n",
       "85           LATAM  Sub-Saharan Africa     Desktop  Desktop  2023   \n",
       "87           LATAM  Sub-Saharan Africa  Mobile App   Mobile  2023   \n",
       "89           LATAM  Sub-Saharan Africa  Mobile Web   Mobile  2023   \n",
       "91   North America                APAC     Desktop  Desktop  2023   \n",
       "93   North America                APAC  Mobile App   Mobile  2023   \n",
       "95   North America                APAC  Mobile Web   Mobile  2023   \n",
       "97   North America                EMEA     Desktop  Desktop  2023   \n",
       "99   North America                EMEA  Mobile App   Mobile  2023   \n",
       "101  North America                EMEA  Mobile Web   Mobile  2023   \n",
       "103  North America               LATAM     Desktop  Desktop  2023   \n",
       "105  North America               LATAM  Mobile App   Mobile  2023   \n",
       "107  North America               LATAM  Mobile Web   Mobile  2023   \n",
       "109  North America       North America     Desktop  Desktop  2023   \n",
       "111  North America       North America  Mobile App   Mobile  2023   \n",
       "113  North America       North America  Mobile Web   Mobile  2023   \n",
       "115  North America  Sub-Saharan Africa     Desktop  Desktop  2023   \n",
       "117  North America  Sub-Saharan Africa  Mobile App   Mobile  2023   \n",
       "119  North America  Sub-Saharan Africa  Mobile Web   Mobile  2023   \n",
       "\n",
       "     yoy_net_gross_booking_usd  yoy_net_orders  yoy_avg_ticket  \n",
       "1                    20.208134       34.815412      -10.835021  \n",
       "3                    76.128056      199.216828      -41.136982  \n",
       "5                    72.768609       98.593167      -13.003750  \n",
       "7                    -4.041230        2.804148       -6.658659  \n",
       "9                   119.766499      142.751323       -9.468465  \n",
       "11                   25.762452       46.261682      -14.015448  \n",
       "13                  -14.408372       13.735343      -24.744916  \n",
       "15                  102.540711      183.636364      -28.591416  \n",
       "17                  -14.293115       20.689655      -28.985724  \n",
       "19                    3.068492       11.033843       -7.173805  \n",
       "21                  150.298167      141.321244        3.719906  \n",
       "23                   48.450720       53.467954       -3.269239  \n",
       "25                   72.840067       62.841530        6.140041  \n",
       "27                  491.032105      272.000000       58.879598  \n",
       "29                   86.303040      100.000000       -6.848480  \n",
       "31                    6.958172       28.449308      -16.731220  \n",
       "33                   78.777449      128.115345      -21.628486  \n",
       "35                   24.318204       48.909557      -16.514288  \n",
       "37                   14.743103       25.591735       -8.638014  \n",
       "39                   64.449921       76.596230       -6.878011  \n",
       "41                   58.768940       74.522173       -9.026494  \n",
       "43                   42.008021       47.500000       -3.723376  \n",
       "45                   10.909067       99.438202      -44.389257  \n",
       "47                   82.156785       73.462783        5.012027  \n",
       "49                    0.915695        7.830098       -6.412312  \n",
       "51                   66.808524       56.540825        6.559119  \n",
       "53                   23.311619       33.843118       -7.868540  \n",
       "55                   60.040496       38.172589       15.826517  \n",
       "57                   74.948786      152.222222      -30.637045  \n",
       "59                    9.678456       39.336493      -21.285190  \n",
       "61                  -18.178683       17.522321      -30.378063  \n",
       "63                  103.804999      217.647059      -35.839167  \n",
       "65                  -12.647540       36.607143      -36.055715  \n",
       "67                   -0.338199       28.327384      -22.337853  \n",
       "69                  183.678456      205.223881       -7.058892  \n",
       "71                  -16.233750       20.157480      -30.286280  \n",
       "73                    0.746620       61.430239      -37.591234  \n",
       "75                   87.023804      170.530452      -30.867744  \n",
       "77                   32.134367      131.339144      -42.882832  \n",
       "79                  -16.697866       -0.347714      -16.407202  \n",
       "81                  190.782202      151.764706       15.497604  \n",
       "83                  -26.325723       -3.042763      -24.013638  \n",
       "85                   23.743370       14.492754        8.079652  \n",
       "87                  156.049540       42.857143       79.234678  \n",
       "89                  -84.470541      -62.500000      -58.588110  \n",
       "91                    8.394426       18.175751       -8.276930  \n",
       "93                   86.939607      116.153539      -13.515361  \n",
       "95                   45.652784       79.247873      -18.742253  \n",
       "97                   -7.324885        3.438678      -10.405743  \n",
       "99                   82.472580       93.037424       -5.472951  \n",
       "101                   4.332430       22.055675      -14.520623  \n",
       "103                  -1.578396       17.821980      -16.465838  \n",
       "105                 103.045640      105.282051       -1.089433  \n",
       "107                  41.301369       62.306238      -12.941505  \n",
       "109                  10.091641        8.793646        1.193080  \n",
       "111                  67.276961       60.572088        4.175616  \n",
       "113                  54.932903       54.334377        0.387811  \n",
       "115                  28.628636       46.355140      -12.111979  \n",
       "117                  78.901072      122.500000      -19.595024  \n",
       "119                  52.863228       47.096774        3.920177  "
      ]
     },
     "execution_count": 12,
     "metadata": {},
     "output_type": "execute_result"
    }
   ],
   "source": [
    "dimensions = [\"client_region\", \"property_region\", \"platform\", \"mobile\"]\n",
    "date_cols = [\"year\"]\n",
    "\n",
    "df_yoy = calc_yoy_over_dimensions(df, dimensions, date_cols)\n",
    "df_yoy"
   ]
  },
  {
   "cell_type": "code",
   "execution_count": 13,
   "metadata": {},
   "outputs": [
    {
     "name": "stdout",
     "output_type": "stream",
     "text": [
      "<class 'pandas.core.frame.DataFrame'>\n",
      "RangeIndex: 16 entries, 0 to 15\n",
      "Data columns (total 6 columns):\n",
      " #   Column                 Non-Null Count  Dtype  \n",
      "---  ------                 --------------  -----  \n",
      " 0   client_region          16 non-null     string \n",
      " 1   mobile                 16 non-null     string \n",
      " 2   year                   16 non-null     int32  \n",
      " 3   net_gross_booking_usd  16 non-null     float64\n",
      " 4   net_orders             16 non-null     int32  \n",
      " 5   avg_ticket             16 non-null     float64\n",
      "dtypes: float64(2), int32(2), string(2)\n",
      "memory usage: 768.0 bytes\n",
      "None\n"
     ]
    },
    {
     "data": {
      "text/html": [
       "<div>\n",
       "<style scoped>\n",
       "    .dataframe tbody tr th:only-of-type {\n",
       "        vertical-align: middle;\n",
       "    }\n",
       "\n",
       "    .dataframe tbody tr th {\n",
       "        vertical-align: top;\n",
       "    }\n",
       "\n",
       "    .dataframe thead th {\n",
       "        text-align: right;\n",
       "    }\n",
       "</style>\n",
       "<table border=\"1\" class=\"dataframe\">\n",
       "  <thead>\n",
       "    <tr style=\"text-align: right;\">\n",
       "      <th></th>\n",
       "      <th>client_region</th>\n",
       "      <th>mobile</th>\n",
       "      <th>metric</th>\n",
       "      <th>yoy</th>\n",
       "    </tr>\n",
       "  </thead>\n",
       "  <tbody>\n",
       "    <tr>\n",
       "      <th>16</th>\n",
       "      <td>APAC</td>\n",
       "      <td>Desktop</td>\n",
       "      <td>yoy_avg_ticket</td>\n",
       "      <td>-10.940453</td>\n",
       "    </tr>\n",
       "    <tr>\n",
       "      <th>0</th>\n",
       "      <td>APAC</td>\n",
       "      <td>Desktop</td>\n",
       "      <td>yoy_net_gross_booking_usd</td>\n",
       "      <td>13.720001</td>\n",
       "    </tr>\n",
       "    <tr>\n",
       "      <th>8</th>\n",
       "      <td>APAC</td>\n",
       "      <td>Desktop</td>\n",
       "      <td>yoy_net_orders</td>\n",
       "      <td>27.689849</td>\n",
       "    </tr>\n",
       "    <tr>\n",
       "      <th>17</th>\n",
       "      <td>APAC</td>\n",
       "      <td>Mobile</td>\n",
       "      <td>yoy_avg_ticket</td>\n",
       "      <td>-26.707476</td>\n",
       "    </tr>\n",
       "    <tr>\n",
       "      <th>1</th>\n",
       "      <td>APAC</td>\n",
       "      <td>Mobile</td>\n",
       "      <td>yoy_net_gross_booking_usd</td>\n",
       "      <td>77.600460</td>\n",
       "    </tr>\n",
       "    <tr>\n",
       "      <th>9</th>\n",
       "      <td>APAC</td>\n",
       "      <td>Mobile</td>\n",
       "      <td>yoy_net_orders</td>\n",
       "      <td>142.317292</td>\n",
       "    </tr>\n",
       "    <tr>\n",
       "      <th>18</th>\n",
       "      <td>EMEA</td>\n",
       "      <td>Desktop</td>\n",
       "      <td>yoy_avg_ticket</td>\n",
       "      <td>-9.624061</td>\n",
       "    </tr>\n",
       "    <tr>\n",
       "      <th>2</th>\n",
       "      <td>EMEA</td>\n",
       "      <td>Desktop</td>\n",
       "      <td>yoy_net_gross_booking_usd</td>\n",
       "      <td>12.912640</td>\n",
       "    </tr>\n",
       "    <tr>\n",
       "      <th>10</th>\n",
       "      <td>EMEA</td>\n",
       "      <td>Desktop</td>\n",
       "      <td>yoy_net_orders</td>\n",
       "      <td>24.936616</td>\n",
       "    </tr>\n",
       "    <tr>\n",
       "      <th>19</th>\n",
       "      <td>EMEA</td>\n",
       "      <td>Mobile</td>\n",
       "      <td>yoy_avg_ticket</td>\n",
       "      <td>-10.885475</td>\n",
       "    </tr>\n",
       "    <tr>\n",
       "      <th>3</th>\n",
       "      <td>EMEA</td>\n",
       "      <td>Mobile</td>\n",
       "      <td>yoy_net_gross_booking_usd</td>\n",
       "      <td>54.652533</td>\n",
       "    </tr>\n",
       "    <tr>\n",
       "      <th>11</th>\n",
       "      <td>EMEA</td>\n",
       "      <td>Mobile</td>\n",
       "      <td>yoy_net_orders</td>\n",
       "      <td>73.543575</td>\n",
       "    </tr>\n",
       "    <tr>\n",
       "      <th>20</th>\n",
       "      <td>LATAM</td>\n",
       "      <td>Desktop</td>\n",
       "      <td>yoy_avg_ticket</td>\n",
       "      <td>-33.592765</td>\n",
       "    </tr>\n",
       "    <tr>\n",
       "      <th>4</th>\n",
       "      <td>LATAM</td>\n",
       "      <td>Desktop</td>\n",
       "      <td>yoy_net_gross_booking_usd</td>\n",
       "      <td>-7.339364</td>\n",
       "    </tr>\n",
       "    <tr>\n",
       "      <th>12</th>\n",
       "      <td>LATAM</td>\n",
       "      <td>Desktop</td>\n",
       "      <td>yoy_net_orders</td>\n",
       "      <td>39.533947</td>\n",
       "    </tr>\n",
       "    <tr>\n",
       "      <th>21</th>\n",
       "      <td>LATAM</td>\n",
       "      <td>Mobile</td>\n",
       "      <td>yoy_avg_ticket</td>\n",
       "      <td>-37.794959</td>\n",
       "    </tr>\n",
       "    <tr>\n",
       "      <th>5</th>\n",
       "      <td>LATAM</td>\n",
       "      <td>Mobile</td>\n",
       "      <td>yoy_net_gross_booking_usd</td>\n",
       "      <td>30.130813</td>\n",
       "    </tr>\n",
       "    <tr>\n",
       "      <th>13</th>\n",
       "      <td>LATAM</td>\n",
       "      <td>Mobile</td>\n",
       "      <td>yoy_net_orders</td>\n",
       "      <td>109.196571</td>\n",
       "    </tr>\n",
       "    <tr>\n",
       "      <th>22</th>\n",
       "      <td>North America</td>\n",
       "      <td>Desktop</td>\n",
       "      <td>yoy_avg_ticket</td>\n",
       "      <td>-0.588522</td>\n",
       "    </tr>\n",
       "    <tr>\n",
       "      <th>6</th>\n",
       "      <td>North America</td>\n",
       "      <td>Desktop</td>\n",
       "      <td>yoy_net_gross_booking_usd</td>\n",
       "      <td>8.462415</td>\n",
       "    </tr>\n",
       "    <tr>\n",
       "      <th>14</th>\n",
       "      <td>North America</td>\n",
       "      <td>Desktop</td>\n",
       "      <td>yoy_net_orders</td>\n",
       "      <td>9.104519</td>\n",
       "    </tr>\n",
       "    <tr>\n",
       "      <th>23</th>\n",
       "      <td>North America</td>\n",
       "      <td>Mobile</td>\n",
       "      <td>yoy_avg_ticket</td>\n",
       "      <td>0.564187</td>\n",
       "    </tr>\n",
       "    <tr>\n",
       "      <th>7</th>\n",
       "      <td>North America</td>\n",
       "      <td>Mobile</td>\n",
       "      <td>yoy_net_gross_booking_usd</td>\n",
       "      <td>58.906710</td>\n",
       "    </tr>\n",
       "    <tr>\n",
       "      <th>15</th>\n",
       "      <td>North America</td>\n",
       "      <td>Mobile</td>\n",
       "      <td>yoy_net_orders</td>\n",
       "      <td>58.015209</td>\n",
       "    </tr>\n",
       "  </tbody>\n",
       "</table>\n",
       "</div>"
      ],
      "text/plain": [
       "    client_region   mobile                     metric         yoy\n",
       "16           APAC  Desktop             yoy_avg_ticket  -10.940453\n",
       "0            APAC  Desktop  yoy_net_gross_booking_usd   13.720001\n",
       "8            APAC  Desktop             yoy_net_orders   27.689849\n",
       "17           APAC   Mobile             yoy_avg_ticket  -26.707476\n",
       "1            APAC   Mobile  yoy_net_gross_booking_usd   77.600460\n",
       "9            APAC   Mobile             yoy_net_orders  142.317292\n",
       "18           EMEA  Desktop             yoy_avg_ticket   -9.624061\n",
       "2            EMEA  Desktop  yoy_net_gross_booking_usd   12.912640\n",
       "10           EMEA  Desktop             yoy_net_orders   24.936616\n",
       "19           EMEA   Mobile             yoy_avg_ticket  -10.885475\n",
       "3            EMEA   Mobile  yoy_net_gross_booking_usd   54.652533\n",
       "11           EMEA   Mobile             yoy_net_orders   73.543575\n",
       "20          LATAM  Desktop             yoy_avg_ticket  -33.592765\n",
       "4           LATAM  Desktop  yoy_net_gross_booking_usd   -7.339364\n",
       "12          LATAM  Desktop             yoy_net_orders   39.533947\n",
       "21          LATAM   Mobile             yoy_avg_ticket  -37.794959\n",
       "5           LATAM   Mobile  yoy_net_gross_booking_usd   30.130813\n",
       "13          LATAM   Mobile             yoy_net_orders  109.196571\n",
       "22  North America  Desktop             yoy_avg_ticket   -0.588522\n",
       "6   North America  Desktop  yoy_net_gross_booking_usd    8.462415\n",
       "14  North America  Desktop             yoy_net_orders    9.104519\n",
       "23  North America   Mobile             yoy_avg_ticket    0.564187\n",
       "7   North America   Mobile  yoy_net_gross_booking_usd   58.906710\n",
       "15  North America   Mobile             yoy_net_orders   58.015209"
      ]
     },
     "execution_count": 13,
     "metadata": {},
     "output_type": "execute_result"
    }
   ],
   "source": [
    "dimensions = [\"client_region\", \"mobile\"]\n",
    "date_cols = [\"year\"]\n",
    "\n",
    "df_yoy = calc_yoy_over_dimensions(df, dimensions, date_cols).drop(columns=[\"year\"])\n",
    "df_yoy = df_yoy.melt(id_vars=[\"client_region\", \"mobile\"], var_name=\"metric\", value_name=\"yoy\").sort_values([\"client_region\", \"mobile\", \"metric\"])\n",
    "df_yoy"
   ]
  },
  {
   "cell_type": "code",
   "execution_count": 14,
   "metadata": {},
   "outputs": [
    {
     "data": {
      "text/html": [
       "\n",
       "<style>\n",
       "  #altair-viz-aa4e331fca50488c92bbcdc427038d37.vega-embed {\n",
       "    width: 100%;\n",
       "    display: flex;\n",
       "  }\n",
       "\n",
       "  #altair-viz-aa4e331fca50488c92bbcdc427038d37.vega-embed details,\n",
       "  #altair-viz-aa4e331fca50488c92bbcdc427038d37.vega-embed details summary {\n",
       "    position: relative;\n",
       "  }\n",
       "</style>\n",
       "<div id=\"altair-viz-aa4e331fca50488c92bbcdc427038d37\"></div>\n",
       "<script type=\"text/javascript\">\n",
       "  var VEGA_DEBUG = (typeof VEGA_DEBUG == \"undefined\") ? {} : VEGA_DEBUG;\n",
       "  (function(spec, embedOpt){\n",
       "    let outputDiv = document.currentScript.previousElementSibling;\n",
       "    if (outputDiv.id !== \"altair-viz-aa4e331fca50488c92bbcdc427038d37\") {\n",
       "      outputDiv = document.getElementById(\"altair-viz-aa4e331fca50488c92bbcdc427038d37\");\n",
       "    }\n",
       "    const paths = {\n",
       "      \"vega\": \"https://cdn.jsdelivr.net/npm/vega@5?noext\",\n",
       "      \"vega-lib\": \"https://cdn.jsdelivr.net/npm/vega-lib?noext\",\n",
       "      \"vega-lite\": \"https://cdn.jsdelivr.net/npm/vega-lite@5.16.3?noext\",\n",
       "      \"vega-embed\": \"https://cdn.jsdelivr.net/npm/vega-embed@6?noext\",\n",
       "    };\n",
       "\n",
       "    function maybeLoadScript(lib, version) {\n",
       "      var key = `${lib.replace(\"-\", \"\")}_version`;\n",
       "      return (VEGA_DEBUG[key] == version) ?\n",
       "        Promise.resolve(paths[lib]) :\n",
       "        new Promise(function(resolve, reject) {\n",
       "          var s = document.createElement('script');\n",
       "          document.getElementsByTagName(\"head\")[0].appendChild(s);\n",
       "          s.async = true;\n",
       "          s.onload = () => {\n",
       "            VEGA_DEBUG[key] = version;\n",
       "            return resolve(paths[lib]);\n",
       "          };\n",
       "          s.onerror = () => reject(`Error loading script: ${paths[lib]}`);\n",
       "          s.src = paths[lib];\n",
       "        });\n",
       "    }\n",
       "\n",
       "    function showError(err) {\n",
       "      outputDiv.innerHTML = `<div class=\"error\" style=\"color:red;\">${err}</div>`;\n",
       "      throw err;\n",
       "    }\n",
       "\n",
       "    function displayChart(vegaEmbed) {\n",
       "      vegaEmbed(outputDiv, spec, embedOpt)\n",
       "        .catch(err => showError(`Javascript Error: ${err.message}<br>This usually means there's a typo in your chart specification. See the javascript console for the full traceback.`));\n",
       "    }\n",
       "\n",
       "    if(typeof define === \"function\" && define.amd) {\n",
       "      requirejs.config({paths});\n",
       "      require([\"vega-embed\"], displayChart, err => showError(`Error loading script: ${err.message}`));\n",
       "    } else {\n",
       "      maybeLoadScript(\"vega\", \"5\")\n",
       "        .then(() => maybeLoadScript(\"vega-lite\", \"5.16.3\"))\n",
       "        .then(() => maybeLoadScript(\"vega-embed\", \"6\"))\n",
       "        .catch(showError)\n",
       "        .then(() => displayChart(vegaEmbed));\n",
       "    }\n",
       "  })({\"config\": {\"view\": {\"continuousWidth\": 300, \"continuousHeight\": 300}}, \"data\": {\"name\": \"data-e323666abe75d7fb8e6fa61b29d5e8da\"}, \"mark\": {\"type\": \"bar\"}, \"encoding\": {\"color\": {\"field\": \"mobile\", \"title\": \"Platform\", \"type\": \"nominal\"}, \"column\": {\"field\": \"metric\", \"title\": \"Metric\", \"type\": \"nominal\"}, \"tooltip\": [{\"field\": \"client_region\", \"title\": \"Client Region\", \"type\": \"nominal\"}, {\"field\": \"mobile\", \"title\": \"Platform\", \"type\": \"nominal\"}, {\"field\": \"metric\", \"title\": \"Metric\", \"type\": \"nominal\"}, {\"field\": \"yoy\", \"format\": \",.2f\", \"title\": \"YoY %\", \"type\": \"quantitative\"}], \"x\": {\"field\": \"client_region\", \"title\": \"Client Region\", \"type\": \"nominal\"}, \"y\": {\"field\": \"yoy\", \"title\": \"YoY %\", \"type\": \"quantitative\"}}, \"height\": 200, \"params\": [{\"name\": \"param_3\", \"select\": {\"type\": \"interval\", \"encodings\": [\"x\", \"y\"]}, \"bind\": \"scales\"}], \"title\": \"YoY % by Client Region, Platform, and Metric\", \"width\": 200, \"$schema\": \"https://vega.github.io/schema/vega-lite/v5.16.3.json\", \"datasets\": {\"data-e323666abe75d7fb8e6fa61b29d5e8da\": [{\"client_region\": \"APAC\", \"mobile\": \"Desktop\", \"metric\": \"yoy_avg_ticket\", \"yoy\": -10.940453203380473}, {\"client_region\": \"APAC\", \"mobile\": \"Desktop\", \"metric\": \"yoy_net_gross_booking_usd\", \"yoy\": 13.720000977360769}, {\"client_region\": \"APAC\", \"mobile\": \"Desktop\", \"metric\": \"yoy_net_orders\", \"yoy\": 27.689849171427937}, {\"client_region\": \"APAC\", \"mobile\": \"Mobile\", \"metric\": \"yoy_avg_ticket\", \"yoy\": -26.70747576606591}, {\"client_region\": \"APAC\", \"mobile\": \"Mobile\", \"metric\": \"yoy_net_gross_booking_usd\", \"yoy\": 77.60045961010509}, {\"client_region\": \"APAC\", \"mobile\": \"Mobile\", \"metric\": \"yoy_net_orders\", \"yoy\": 142.3172915197222}, {\"client_region\": \"EMEA\", \"mobile\": \"Desktop\", \"metric\": \"yoy_avg_ticket\", \"yoy\": -9.62406103669885}, {\"client_region\": \"EMEA\", \"mobile\": \"Desktop\", \"metric\": \"yoy_net_gross_booking_usd\", \"yoy\": 12.912639588520758}, {\"client_region\": \"EMEA\", \"mobile\": \"Desktop\", \"metric\": \"yoy_net_orders\", \"yoy\": 24.93661574500603}, {\"client_region\": \"EMEA\", \"mobile\": \"Mobile\", \"metric\": \"yoy_avg_ticket\", \"yoy\": -10.885474642444793}, {\"client_region\": \"EMEA\", \"mobile\": \"Mobile\", \"metric\": \"yoy_net_gross_booking_usd\", \"yoy\": 54.65253308450046}, {\"client_region\": \"EMEA\", \"mobile\": \"Mobile\", \"metric\": \"yoy_net_orders\", \"yoy\": 73.5435749267433}, {\"client_region\": \"LATAM\", \"mobile\": \"Desktop\", \"metric\": \"yoy_avg_ticket\", \"yoy\": -33.59276487894225}, {\"client_region\": \"LATAM\", \"mobile\": \"Desktop\", \"metric\": \"yoy_net_gross_booking_usd\", \"yoy\": -7.3393639550508265}, {\"client_region\": \"LATAM\", \"mobile\": \"Desktop\", \"metric\": \"yoy_net_orders\", \"yoy\": 39.5339466792022}, {\"client_region\": \"LATAM\", \"mobile\": \"Mobile\", \"metric\": \"yoy_avg_ticket\", \"yoy\": -37.79495895118482}, {\"client_region\": \"LATAM\", \"mobile\": \"Mobile\", \"metric\": \"yoy_net_gross_booking_usd\", \"yoy\": 30.130813026571236}, {\"client_region\": \"LATAM\", \"mobile\": \"Mobile\", \"metric\": \"yoy_net_orders\", \"yoy\": 109.19657126253087}, {\"client_region\": \"North America\", \"mobile\": \"Desktop\", \"metric\": \"yoy_avg_ticket\", \"yoy\": -0.5885220581818285}, {\"client_region\": \"North America\", \"mobile\": \"Desktop\", \"metric\": \"yoy_net_gross_booking_usd\", \"yoy\": 8.462415022030356}, {\"client_region\": \"North America\", \"mobile\": \"Desktop\", \"metric\": \"yoy_net_orders\", \"yoy\": 9.10451918390085}, {\"client_region\": \"North America\", \"mobile\": \"Mobile\", \"metric\": \"yoy_avg_ticket\", \"yoy\": 0.5641874090281274}, {\"client_region\": \"North America\", \"mobile\": \"Mobile\", \"metric\": \"yoy_net_gross_booking_usd\", \"yoy\": 58.906710452302534}, {\"client_region\": \"North America\", \"mobile\": \"Mobile\", \"metric\": \"yoy_net_orders\", \"yoy\": 58.01520854136262}]}}, {\"mode\": \"vega-lite\"});\n",
       "</script>"
      ],
      "text/plain": [
       "alt.Chart(...)"
      ]
     },
     "execution_count": 14,
     "metadata": {},
     "output_type": "execute_result"
    }
   ],
   "source": [
    "alt.Chart(df_yoy).mark_bar().encode(\n",
    "    x=alt.X(\"client_region:N\", title=\"Client Region\"),\n",
    "    y=alt.Y(\"yoy:Q\", title=\"YoY %\"),\n",
    "    color=alt.Color(\"mobile:N\", title=\"Platform\"),\n",
    "    column=alt.Column(\"metric:N\", title=\"Metric\"),\n",
    "    tooltip=[\n",
    "        alt.Tooltip(\"client_region:N\", title=\"Client Region\"),\n",
    "        alt.Tooltip(\"mobile:N\", title=\"Platform\"),\n",
    "        alt.Tooltip(\"metric:N\", title=\"Metric\"),\n",
    "        alt.Tooltip(\"yoy:Q\", title=\"YoY %\").format(\",.2f\")\n",
    "    ]\n",
    ").properties(\n",
    "    title=\"YoY % by Client Region, Platform, and Metric\",\n",
    "    width=200,\n",
    "    height=200\n",
    ").interactive()\n"
   ]
  },
  {
   "cell_type": "code",
   "execution_count": 15,
   "metadata": {},
   "outputs": [
    {
     "name": "stdout",
     "output_type": "stream",
     "text": [
      "<class 'pandas.core.frame.DataFrame'>\n",
      "RangeIndex: 20 entries, 0 to 19\n",
      "Data columns (total 6 columns):\n",
      " #   Column                 Non-Null Count  Dtype  \n",
      "---  ------                 --------------  -----  \n",
      " 0   property_region        20 non-null     string \n",
      " 1   mobile                 20 non-null     string \n",
      " 2   year                   20 non-null     int32  \n",
      " 3   net_gross_booking_usd  20 non-null     float64\n",
      " 4   net_orders             20 non-null     int32  \n",
      " 5   avg_ticket             20 non-null     float64\n",
      "dtypes: float64(2), int32(2), string(2)\n",
      "memory usage: 928.0 bytes\n",
      "None\n"
     ]
    },
    {
     "data": {
      "text/html": [
       "<div>\n",
       "<style scoped>\n",
       "    .dataframe tbody tr th:only-of-type {\n",
       "        vertical-align: middle;\n",
       "    }\n",
       "\n",
       "    .dataframe tbody tr th {\n",
       "        vertical-align: top;\n",
       "    }\n",
       "\n",
       "    .dataframe thead th {\n",
       "        text-align: right;\n",
       "    }\n",
       "</style>\n",
       "<table border=\"1\" class=\"dataframe\">\n",
       "  <thead>\n",
       "    <tr style=\"text-align: right;\">\n",
       "      <th></th>\n",
       "      <th>property_region</th>\n",
       "      <th>mobile</th>\n",
       "      <th>metric</th>\n",
       "      <th>yoy</th>\n",
       "    </tr>\n",
       "  </thead>\n",
       "  <tbody>\n",
       "    <tr>\n",
       "      <th>20</th>\n",
       "      <td>APAC</td>\n",
       "      <td>Desktop</td>\n",
       "      <td>yoy_avg_ticket</td>\n",
       "      <td>-11.881339</td>\n",
       "    </tr>\n",
       "    <tr>\n",
       "      <th>0</th>\n",
       "      <td>APAC</td>\n",
       "      <td>Desktop</td>\n",
       "      <td>yoy_net_gross_booking_usd</td>\n",
       "      <td>14.394733</td>\n",
       "    </tr>\n",
       "    <tr>\n",
       "      <th>10</th>\n",
       "      <td>APAC</td>\n",
       "      <td>Desktop</td>\n",
       "      <td>yoy_net_orders</td>\n",
       "      <td>29.818964</td>\n",
       "    </tr>\n",
       "    <tr>\n",
       "      <th>21</th>\n",
       "      <td>APAC</td>\n",
       "      <td>Mobile</td>\n",
       "      <td>yoy_avg_ticket</td>\n",
       "      <td>-27.346209</td>\n",
       "    </tr>\n",
       "    <tr>\n",
       "      <th>1</th>\n",
       "      <td>APAC</td>\n",
       "      <td>Mobile</td>\n",
       "      <td>yoy_net_gross_booking_usd</td>\n",
       "      <td>69.063174</td>\n",
       "    </tr>\n",
       "    <tr>\n",
       "      <th>11</th>\n",
       "      <td>APAC</td>\n",
       "      <td>Mobile</td>\n",
       "      <td>yoy_net_orders</td>\n",
       "      <td>132.696975</td>\n",
       "    </tr>\n",
       "    <tr>\n",
       "      <th>22</th>\n",
       "      <td>EMEA</td>\n",
       "      <td>Desktop</td>\n",
       "      <td>yoy_avg_ticket</td>\n",
       "      <td>-10.554192</td>\n",
       "    </tr>\n",
       "    <tr>\n",
       "      <th>2</th>\n",
       "      <td>EMEA</td>\n",
       "      <td>Desktop</td>\n",
       "      <td>yoy_net_gross_booking_usd</td>\n",
       "      <td>6.783354</td>\n",
       "    </tr>\n",
       "    <tr>\n",
       "      <th>12</th>\n",
       "      <td>EMEA</td>\n",
       "      <td>Desktop</td>\n",
       "      <td>yoy_net_orders</td>\n",
       "      <td>19.383297</td>\n",
       "    </tr>\n",
       "    <tr>\n",
       "      <th>23</th>\n",
       "      <td>EMEA</td>\n",
       "      <td>Mobile</td>\n",
       "      <td>yoy_avg_ticket</td>\n",
       "      <td>-10.606615</td>\n",
       "    </tr>\n",
       "    <tr>\n",
       "      <th>3</th>\n",
       "      <td>EMEA</td>\n",
       "      <td>Mobile</td>\n",
       "      <td>yoy_net_gross_booking_usd</td>\n",
       "      <td>56.223154</td>\n",
       "    </tr>\n",
       "    <tr>\n",
       "      <th>13</th>\n",
       "      <td>EMEA</td>\n",
       "      <td>Mobile</td>\n",
       "      <td>yoy_net_orders</td>\n",
       "      <td>74.759188</td>\n",
       "    </tr>\n",
       "    <tr>\n",
       "      <th>24</th>\n",
       "      <td>LATAM</td>\n",
       "      <td>Desktop</td>\n",
       "      <td>yoy_avg_ticket</td>\n",
       "      <td>-28.011508</td>\n",
       "    </tr>\n",
       "    <tr>\n",
       "      <th>4</th>\n",
       "      <td>LATAM</td>\n",
       "      <td>Desktop</td>\n",
       "      <td>yoy_net_gross_booking_usd</td>\n",
       "      <td>1.368443</td>\n",
       "    </tr>\n",
       "    <tr>\n",
       "      <th>14</th>\n",
       "      <td>LATAM</td>\n",
       "      <td>Desktop</td>\n",
       "      <td>yoy_net_orders</td>\n",
       "      <td>40.812010</td>\n",
       "    </tr>\n",
       "    <tr>\n",
       "      <th>25</th>\n",
       "      <td>LATAM</td>\n",
       "      <td>Mobile</td>\n",
       "      <td>yoy_avg_ticket</td>\n",
       "      <td>-25.510447</td>\n",
       "    </tr>\n",
       "    <tr>\n",
       "      <th>5</th>\n",
       "      <td>LATAM</td>\n",
       "      <td>Mobile</td>\n",
       "      <td>yoy_net_gross_booking_usd</td>\n",
       "      <td>56.276367</td>\n",
       "    </tr>\n",
       "    <tr>\n",
       "      <th>15</th>\n",
       "      <td>LATAM</td>\n",
       "      <td>Mobile</td>\n",
       "      <td>yoy_net_orders</td>\n",
       "      <td>109.796356</td>\n",
       "    </tr>\n",
       "    <tr>\n",
       "      <th>26</th>\n",
       "      <td>North America</td>\n",
       "      <td>Desktop</td>\n",
       "      <td>yoy_avg_ticket</td>\n",
       "      <td>0.173912</td>\n",
       "    </tr>\n",
       "    <tr>\n",
       "      <th>6</th>\n",
       "      <td>North America</td>\n",
       "      <td>Desktop</td>\n",
       "      <td>yoy_net_gross_booking_usd</td>\n",
       "      <td>8.902232</td>\n",
       "    </tr>\n",
       "    <tr>\n",
       "      <th>16</th>\n",
       "      <td>North America</td>\n",
       "      <td>Desktop</td>\n",
       "      <td>yoy_net_orders</td>\n",
       "      <td>8.713166</td>\n",
       "    </tr>\n",
       "    <tr>\n",
       "      <th>27</th>\n",
       "      <td>North America</td>\n",
       "      <td>Mobile</td>\n",
       "      <td>yoy_avg_ticket</td>\n",
       "      <td>1.269359</td>\n",
       "    </tr>\n",
       "    <tr>\n",
       "      <th>7</th>\n",
       "      <td>North America</td>\n",
       "      <td>Mobile</td>\n",
       "      <td>yoy_net_gross_booking_usd</td>\n",
       "      <td>58.827463</td>\n",
       "    </tr>\n",
       "    <tr>\n",
       "      <th>17</th>\n",
       "      <td>North America</td>\n",
       "      <td>Mobile</td>\n",
       "      <td>yoy_net_orders</td>\n",
       "      <td>56.836643</td>\n",
       "    </tr>\n",
       "    <tr>\n",
       "      <th>28</th>\n",
       "      <td>Sub-Saharan Africa</td>\n",
       "      <td>Desktop</td>\n",
       "      <td>yoy_avg_ticket</td>\n",
       "      <td>1.514912</td>\n",
       "    </tr>\n",
       "    <tr>\n",
       "      <th>8</th>\n",
       "      <td>Sub-Saharan Africa</td>\n",
       "      <td>Desktop</td>\n",
       "      <td>yoy_net_gross_booking_usd</td>\n",
       "      <td>45.385899</td>\n",
       "    </tr>\n",
       "    <tr>\n",
       "      <th>18</th>\n",
       "      <td>Sub-Saharan Africa</td>\n",
       "      <td>Desktop</td>\n",
       "      <td>yoy_net_orders</td>\n",
       "      <td>43.216298</td>\n",
       "    </tr>\n",
       "    <tr>\n",
       "      <th>29</th>\n",
       "      <td>Sub-Saharan Africa</td>\n",
       "      <td>Mobile</td>\n",
       "      <td>yoy_avg_ticket</td>\n",
       "      <td>-21.843942</td>\n",
       "    </tr>\n",
       "    <tr>\n",
       "      <th>9</th>\n",
       "      <td>Sub-Saharan Africa</td>\n",
       "      <td>Mobile</td>\n",
       "      <td>yoy_net_gross_booking_usd</td>\n",
       "      <td>43.436697</td>\n",
       "    </tr>\n",
       "    <tr>\n",
       "      <th>19</th>\n",
       "      <td>Sub-Saharan Africa</td>\n",
       "      <td>Mobile</td>\n",
       "      <td>yoy_net_orders</td>\n",
       "      <td>83.526012</td>\n",
       "    </tr>\n",
       "  </tbody>\n",
       "</table>\n",
       "</div>"
      ],
      "text/plain": [
       "       property_region   mobile                     metric         yoy\n",
       "20                APAC  Desktop             yoy_avg_ticket  -11.881339\n",
       "0                 APAC  Desktop  yoy_net_gross_booking_usd   14.394733\n",
       "10                APAC  Desktop             yoy_net_orders   29.818964\n",
       "21                APAC   Mobile             yoy_avg_ticket  -27.346209\n",
       "1                 APAC   Mobile  yoy_net_gross_booking_usd   69.063174\n",
       "11                APAC   Mobile             yoy_net_orders  132.696975\n",
       "22                EMEA  Desktop             yoy_avg_ticket  -10.554192\n",
       "2                 EMEA  Desktop  yoy_net_gross_booking_usd    6.783354\n",
       "12                EMEA  Desktop             yoy_net_orders   19.383297\n",
       "23                EMEA   Mobile             yoy_avg_ticket  -10.606615\n",
       "3                 EMEA   Mobile  yoy_net_gross_booking_usd   56.223154\n",
       "13                EMEA   Mobile             yoy_net_orders   74.759188\n",
       "24               LATAM  Desktop             yoy_avg_ticket  -28.011508\n",
       "4                LATAM  Desktop  yoy_net_gross_booking_usd    1.368443\n",
       "14               LATAM  Desktop             yoy_net_orders   40.812010\n",
       "25               LATAM   Mobile             yoy_avg_ticket  -25.510447\n",
       "5                LATAM   Mobile  yoy_net_gross_booking_usd   56.276367\n",
       "15               LATAM   Mobile             yoy_net_orders  109.796356\n",
       "26       North America  Desktop             yoy_avg_ticket    0.173912\n",
       "6        North America  Desktop  yoy_net_gross_booking_usd    8.902232\n",
       "16       North America  Desktop             yoy_net_orders    8.713166\n",
       "27       North America   Mobile             yoy_avg_ticket    1.269359\n",
       "7        North America   Mobile  yoy_net_gross_booking_usd   58.827463\n",
       "17       North America   Mobile             yoy_net_orders   56.836643\n",
       "28  Sub-Saharan Africa  Desktop             yoy_avg_ticket    1.514912\n",
       "8   Sub-Saharan Africa  Desktop  yoy_net_gross_booking_usd   45.385899\n",
       "18  Sub-Saharan Africa  Desktop             yoy_net_orders   43.216298\n",
       "29  Sub-Saharan Africa   Mobile             yoy_avg_ticket  -21.843942\n",
       "9   Sub-Saharan Africa   Mobile  yoy_net_gross_booking_usd   43.436697\n",
       "19  Sub-Saharan Africa   Mobile             yoy_net_orders   83.526012"
      ]
     },
     "execution_count": 15,
     "metadata": {},
     "output_type": "execute_result"
    }
   ],
   "source": [
    "dimensions = [\"property_region\", \"mobile\"]\n",
    "date_cols = [\"year\"]\n",
    "\n",
    "df_yoy = calc_yoy_over_dimensions(df, dimensions, date_cols).drop(columns=[\"year\"])\n",
    "df_yoy = df_yoy.melt(id_vars=[\"property_region\", \"mobile\"], var_name=\"metric\", value_name=\"yoy\").sort_values([\"property_region\", \"mobile\", \"metric\"])\n",
    "df_yoy"
   ]
  },
  {
   "cell_type": "code",
   "execution_count": 16,
   "metadata": {},
   "outputs": [
    {
     "data": {
      "text/html": [
       "\n",
       "<style>\n",
       "  #altair-viz-da3e2a9349b34405ada337b89be81970.vega-embed {\n",
       "    width: 100%;\n",
       "    display: flex;\n",
       "  }\n",
       "\n",
       "  #altair-viz-da3e2a9349b34405ada337b89be81970.vega-embed details,\n",
       "  #altair-viz-da3e2a9349b34405ada337b89be81970.vega-embed details summary {\n",
       "    position: relative;\n",
       "  }\n",
       "</style>\n",
       "<div id=\"altair-viz-da3e2a9349b34405ada337b89be81970\"></div>\n",
       "<script type=\"text/javascript\">\n",
       "  var VEGA_DEBUG = (typeof VEGA_DEBUG == \"undefined\") ? {} : VEGA_DEBUG;\n",
       "  (function(spec, embedOpt){\n",
       "    let outputDiv = document.currentScript.previousElementSibling;\n",
       "    if (outputDiv.id !== \"altair-viz-da3e2a9349b34405ada337b89be81970\") {\n",
       "      outputDiv = document.getElementById(\"altair-viz-da3e2a9349b34405ada337b89be81970\");\n",
       "    }\n",
       "    const paths = {\n",
       "      \"vega\": \"https://cdn.jsdelivr.net/npm/vega@5?noext\",\n",
       "      \"vega-lib\": \"https://cdn.jsdelivr.net/npm/vega-lib?noext\",\n",
       "      \"vega-lite\": \"https://cdn.jsdelivr.net/npm/vega-lite@5.16.3?noext\",\n",
       "      \"vega-embed\": \"https://cdn.jsdelivr.net/npm/vega-embed@6?noext\",\n",
       "    };\n",
       "\n",
       "    function maybeLoadScript(lib, version) {\n",
       "      var key = `${lib.replace(\"-\", \"\")}_version`;\n",
       "      return (VEGA_DEBUG[key] == version) ?\n",
       "        Promise.resolve(paths[lib]) :\n",
       "        new Promise(function(resolve, reject) {\n",
       "          var s = document.createElement('script');\n",
       "          document.getElementsByTagName(\"head\")[0].appendChild(s);\n",
       "          s.async = true;\n",
       "          s.onload = () => {\n",
       "            VEGA_DEBUG[key] = version;\n",
       "            return resolve(paths[lib]);\n",
       "          };\n",
       "          s.onerror = () => reject(`Error loading script: ${paths[lib]}`);\n",
       "          s.src = paths[lib];\n",
       "        });\n",
       "    }\n",
       "\n",
       "    function showError(err) {\n",
       "      outputDiv.innerHTML = `<div class=\"error\" style=\"color:red;\">${err}</div>`;\n",
       "      throw err;\n",
       "    }\n",
       "\n",
       "    function displayChart(vegaEmbed) {\n",
       "      vegaEmbed(outputDiv, spec, embedOpt)\n",
       "        .catch(err => showError(`Javascript Error: ${err.message}<br>This usually means there's a typo in your chart specification. See the javascript console for the full traceback.`));\n",
       "    }\n",
       "\n",
       "    if(typeof define === \"function\" && define.amd) {\n",
       "      requirejs.config({paths});\n",
       "      require([\"vega-embed\"], displayChart, err => showError(`Error loading script: ${err.message}`));\n",
       "    } else {\n",
       "      maybeLoadScript(\"vega\", \"5\")\n",
       "        .then(() => maybeLoadScript(\"vega-lite\", \"5.16.3\"))\n",
       "        .then(() => maybeLoadScript(\"vega-embed\", \"6\"))\n",
       "        .catch(showError)\n",
       "        .then(() => displayChart(vegaEmbed));\n",
       "    }\n",
       "  })({\"config\": {\"view\": {\"continuousWidth\": 300, \"continuousHeight\": 300}}, \"data\": {\"name\": \"data-4dd6894d8aaced429b15060f3a5f083f\"}, \"mark\": {\"type\": \"bar\"}, \"encoding\": {\"color\": {\"field\": \"mobile\", \"title\": \"Platform\", \"type\": \"nominal\"}, \"column\": {\"field\": \"metric\", \"title\": \"Metric\", \"type\": \"nominal\"}, \"tooltip\": [{\"field\": \"property_region\", \"title\": \"Property Region\", \"type\": \"nominal\"}, {\"field\": \"mobile\", \"title\": \"Platform\", \"type\": \"nominal\"}, {\"field\": \"metric\", \"title\": \"Metric\", \"type\": \"nominal\"}, {\"field\": \"yoy\", \"format\": \",.2f\", \"title\": \"YoY %\", \"type\": \"quantitative\"}], \"x\": {\"field\": \"property_region\", \"title\": \"Property Region\", \"type\": \"nominal\"}, \"y\": {\"field\": \"yoy\", \"title\": \"YoY %\", \"type\": \"quantitative\"}}, \"height\": 200, \"params\": [{\"name\": \"param_4\", \"select\": {\"type\": \"interval\", \"encodings\": [\"x\", \"y\"]}, \"bind\": \"scales\"}], \"title\": \"YoY % by Property Region, Platform, and Metric\", \"width\": 200, \"$schema\": \"https://vega.github.io/schema/vega-lite/v5.16.3.json\", \"datasets\": {\"data-4dd6894d8aaced429b15060f3a5f083f\": [{\"property_region\": \"APAC\", \"mobile\": \"Desktop\", \"metric\": \"yoy_avg_ticket\", \"yoy\": -11.881338756061554}, {\"property_region\": \"APAC\", \"mobile\": \"Desktop\", \"metric\": \"yoy_net_gross_booking_usd\", \"yoy\": 14.394733327288245}, {\"property_region\": \"APAC\", \"mobile\": \"Desktop\", \"metric\": \"yoy_net_orders\", \"yoy\": 29.818964238017507}, {\"property_region\": \"APAC\", \"mobile\": \"Mobile\", \"metric\": \"yoy_avg_ticket\", \"yoy\": -27.346208722064347}, {\"property_region\": \"APAC\", \"mobile\": \"Mobile\", \"metric\": \"yoy_net_gross_booking_usd\", \"yoy\": 69.06317423564934}, {\"property_region\": \"APAC\", \"mobile\": \"Mobile\", \"metric\": \"yoy_net_orders\", \"yoy\": 132.69697459957936}, {\"property_region\": \"EMEA\", \"mobile\": \"Desktop\", \"metric\": \"yoy_avg_ticket\", \"yoy\": -10.554192152692954}, {\"property_region\": \"EMEA\", \"mobile\": \"Desktop\", \"metric\": \"yoy_net_gross_booking_usd\", \"yoy\": 6.783354145231679}, {\"property_region\": \"EMEA\", \"mobile\": \"Desktop\", \"metric\": \"yoy_net_orders\", \"yoy\": 19.383296674475293}, {\"property_region\": \"EMEA\", \"mobile\": \"Mobile\", \"metric\": \"yoy_avg_ticket\", \"yoy\": -10.60661467436459}, {\"property_region\": \"EMEA\", \"mobile\": \"Mobile\", \"metric\": \"yoy_net_gross_booking_usd\", \"yoy\": 56.223153934305415}, {\"property_region\": \"EMEA\", \"mobile\": \"Mobile\", \"metric\": \"yoy_net_orders\", \"yoy\": 74.75918756765682}, {\"property_region\": \"LATAM\", \"mobile\": \"Desktop\", \"metric\": \"yoy_avg_ticket\", \"yoy\": -28.011507745702012}, {\"property_region\": \"LATAM\", \"mobile\": \"Desktop\", \"metric\": \"yoy_net_gross_booking_usd\", \"yoy\": 1.3684427345326267}, {\"property_region\": \"LATAM\", \"mobile\": \"Desktop\", \"metric\": \"yoy_net_orders\", \"yoy\": 40.81200975351802}, {\"property_region\": \"LATAM\", \"mobile\": \"Mobile\", \"metric\": \"yoy_avg_ticket\", \"yoy\": -25.510447214650036}, {\"property_region\": \"LATAM\", \"mobile\": \"Mobile\", \"metric\": \"yoy_net_gross_booking_usd\", \"yoy\": 56.276367226199376}, {\"property_region\": \"LATAM\", \"mobile\": \"Mobile\", \"metric\": \"yoy_net_orders\", \"yoy\": 109.79635584137193}, {\"property_region\": \"North America\", \"mobile\": \"Desktop\", \"metric\": \"yoy_avg_ticket\", \"yoy\": 0.1739124011913562}, {\"property_region\": \"North America\", \"mobile\": \"Desktop\", \"metric\": \"yoy_net_gross_booking_usd\", \"yoy\": 8.902231584285847}, {\"property_region\": \"North America\", \"mobile\": \"Desktop\", \"metric\": \"yoy_net_orders\", \"yoy\": 8.713165907045761}, {\"property_region\": \"North America\", \"mobile\": \"Mobile\", \"metric\": \"yoy_avg_ticket\", \"yoy\": 1.269358812019794}, {\"property_region\": \"North America\", \"mobile\": \"Mobile\", \"metric\": \"yoy_net_gross_booking_usd\", \"yoy\": 58.82746291019325}, {\"property_region\": \"North America\", \"mobile\": \"Mobile\", \"metric\": \"yoy_net_orders\", \"yoy\": 56.836643159768705}, {\"property_region\": \"Sub-Saharan Africa\", \"mobile\": \"Desktop\", \"metric\": \"yoy_avg_ticket\", \"yoy\": 1.5149117269853907}, {\"property_region\": \"Sub-Saharan Africa\", \"mobile\": \"Desktop\", \"metric\": \"yoy_net_gross_booking_usd\", \"yoy\": 45.38589871953176}, {\"property_region\": \"Sub-Saharan Africa\", \"mobile\": \"Desktop\", \"metric\": \"yoy_net_orders\", \"yoy\": 43.21629822280018}, {\"property_region\": \"Sub-Saharan Africa\", \"mobile\": \"Mobile\", \"metric\": \"yoy_avg_ticket\", \"yoy\": -21.843941636965237}, {\"property_region\": \"Sub-Saharan Africa\", \"mobile\": \"Mobile\", \"metric\": \"yoy_net_gross_booking_usd\", \"yoy\": 43.436696706725655}, {\"property_region\": \"Sub-Saharan Africa\", \"mobile\": \"Mobile\", \"metric\": \"yoy_net_orders\", \"yoy\": 83.52601156069363}]}}, {\"mode\": \"vega-lite\"});\n",
       "</script>"
      ],
      "text/plain": [
       "alt.Chart(...)"
      ]
     },
     "execution_count": 16,
     "metadata": {},
     "output_type": "execute_result"
    }
   ],
   "source": [
    "alt.Chart(df_yoy).mark_bar().encode(\n",
    "    x=alt.X(\"property_region:N\", title=\"Property Region\"),\n",
    "    y=alt.Y(\"yoy:Q\", title=\"YoY %\"),\n",
    "    color=alt.Color(\"mobile:N\", title=\"Platform\"),\n",
    "    column=alt.Column(\"metric:N\", title=\"Metric\"),\n",
    "    tooltip=[\n",
    "        alt.Tooltip(\"property_region:N\", title=\"Property Region\"),\n",
    "        alt.Tooltip(\"mobile:N\", title=\"Platform\"),\n",
    "        alt.Tooltip(\"metric:N\", title=\"Metric\"),\n",
    "        alt.Tooltip(\"yoy:Q\", title=\"YoY %\").format(\",.2f\")\n",
    "    ]\n",
    ").properties(\n",
    "    title=\"YoY % by Property Region, Platform, and Metric\",\n",
    "    width=200,\n",
    "    height=200\n",
    ").interactive()\n"
   ]
  },
  {
   "cell_type": "code",
   "execution_count": 17,
   "metadata": {},
   "outputs": [
    {
     "name": "stdout",
     "output_type": "stream",
     "text": [
      "<class 'pandas.core.frame.DataFrame'>\n",
      "RangeIndex: 16 entries, 0 to 15\n",
      "Data columns (total 6 columns):\n",
      " #   Column                 Non-Null Count  Dtype  \n",
      "---  ------                 --------------  -----  \n",
      " 0   client_region          16 non-null     string \n",
      " 1   platform               16 non-null     string \n",
      " 2   year                   16 non-null     int32  \n",
      " 3   net_gross_booking_usd  16 non-null     float64\n",
      " 4   net_orders             16 non-null     int32  \n",
      " 5   avg_ticket             16 non-null     float64\n",
      "dtypes: float64(2), int32(2), string(2)\n",
      "memory usage: 768.0 bytes\n",
      "None\n"
     ]
    },
    {
     "data": {
      "text/html": [
       "<div>\n",
       "<style scoped>\n",
       "    .dataframe tbody tr th:only-of-type {\n",
       "        vertical-align: middle;\n",
       "    }\n",
       "\n",
       "    .dataframe tbody tr th {\n",
       "        vertical-align: top;\n",
       "    }\n",
       "\n",
       "    .dataframe thead th {\n",
       "        text-align: right;\n",
       "    }\n",
       "</style>\n",
       "<table border=\"1\" class=\"dataframe\">\n",
       "  <thead>\n",
       "    <tr style=\"text-align: right;\">\n",
       "      <th></th>\n",
       "      <th>client_region</th>\n",
       "      <th>platform</th>\n",
       "      <th>metric</th>\n",
       "      <th>yoy</th>\n",
       "    </tr>\n",
       "  </thead>\n",
       "  <tbody>\n",
       "    <tr>\n",
       "      <th>16</th>\n",
       "      <td>APAC</td>\n",
       "      <td>Mobile App</td>\n",
       "      <td>yoy_avg_ticket</td>\n",
       "      <td>-34.822461</td>\n",
       "    </tr>\n",
       "    <tr>\n",
       "      <th>0</th>\n",
       "      <td>APAC</td>\n",
       "      <td>Mobile App</td>\n",
       "      <td>yoy_net_gross_booking_usd</td>\n",
       "      <td>86.881021</td>\n",
       "    </tr>\n",
       "    <tr>\n",
       "      <th>8</th>\n",
       "      <td>APAC</td>\n",
       "      <td>Mobile App</td>\n",
       "      <td>yoy_net_orders</td>\n",
       "      <td>186.726107</td>\n",
       "    </tr>\n",
       "    <tr>\n",
       "      <th>17</th>\n",
       "      <td>APAC</td>\n",
       "      <td>Mobile Web</td>\n",
       "      <td>yoy_avg_ticket</td>\n",
       "      <td>-13.549747</td>\n",
       "    </tr>\n",
       "    <tr>\n",
       "      <th>1</th>\n",
       "      <td>APAC</td>\n",
       "      <td>Mobile Web</td>\n",
       "      <td>yoy_net_gross_booking_usd</td>\n",
       "      <td>64.126557</td>\n",
       "    </tr>\n",
       "    <tr>\n",
       "      <th>9</th>\n",
       "      <td>APAC</td>\n",
       "      <td>Mobile Web</td>\n",
       "      <td>yoy_net_orders</td>\n",
       "      <td>89.850870</td>\n",
       "    </tr>\n",
       "    <tr>\n",
       "      <th>18</th>\n",
       "      <td>EMEA</td>\n",
       "      <td>Mobile App</td>\n",
       "      <td>yoy_avg_ticket</td>\n",
       "      <td>-8.936254</td>\n",
       "    </tr>\n",
       "    <tr>\n",
       "      <th>2</th>\n",
       "      <td>EMEA</td>\n",
       "      <td>Mobile App</td>\n",
       "      <td>yoy_net_gross_booking_usd</td>\n",
       "      <td>65.674776</td>\n",
       "    </tr>\n",
       "    <tr>\n",
       "      <th>10</th>\n",
       "      <td>EMEA</td>\n",
       "      <td>Mobile App</td>\n",
       "      <td>yoy_net_orders</td>\n",
       "      <td>81.932748</td>\n",
       "    </tr>\n",
       "    <tr>\n",
       "      <th>19</th>\n",
       "      <td>EMEA</td>\n",
       "      <td>Mobile Web</td>\n",
       "      <td>yoy_avg_ticket</td>\n",
       "      <td>-11.450570</td>\n",
       "    </tr>\n",
       "    <tr>\n",
       "      <th>3</th>\n",
       "      <td>EMEA</td>\n",
       "      <td>Mobile Web</td>\n",
       "      <td>yoy_net_gross_booking_usd</td>\n",
       "      <td>49.875448</td>\n",
       "    </tr>\n",
       "    <tr>\n",
       "      <th>11</th>\n",
       "      <td>EMEA</td>\n",
       "      <td>Mobile Web</td>\n",
       "      <td>yoy_net_orders</td>\n",
       "      <td>69.256255</td>\n",
       "    </tr>\n",
       "    <tr>\n",
       "      <th>20</th>\n",
       "      <td>LATAM</td>\n",
       "      <td>Mobile App</td>\n",
       "      <td>yoy_avg_ticket</td>\n",
       "      <td>-14.843304</td>\n",
       "    </tr>\n",
       "    <tr>\n",
       "      <th>4</th>\n",
       "      <td>LATAM</td>\n",
       "      <td>Mobile App</td>\n",
       "      <td>yoy_net_gross_booking_usd</td>\n",
       "      <td>131.103825</td>\n",
       "    </tr>\n",
       "    <tr>\n",
       "      <th>12</th>\n",
       "      <td>LATAM</td>\n",
       "      <td>Mobile App</td>\n",
       "      <td>yoy_net_orders</td>\n",
       "      <td>171.386555</td>\n",
       "    </tr>\n",
       "    <tr>\n",
       "      <th>21</th>\n",
       "      <td>LATAM</td>\n",
       "      <td>Mobile Web</td>\n",
       "      <td>yoy_avg_ticket</td>\n",
       "      <td>-44.858901</td>\n",
       "    </tr>\n",
       "    <tr>\n",
       "      <th>5</th>\n",
       "      <td>LATAM</td>\n",
       "      <td>Mobile Web</td>\n",
       "      <td>yoy_net_gross_booking_usd</td>\n",
       "      <td>-2.771413</td>\n",
       "    </tr>\n",
       "    <tr>\n",
       "      <th>13</th>\n",
       "      <td>LATAM</td>\n",
       "      <td>Mobile Web</td>\n",
       "      <td>yoy_net_orders</td>\n",
       "      <td>76.326893</td>\n",
       "    </tr>\n",
       "    <tr>\n",
       "      <th>22</th>\n",
       "      <td>North America</td>\n",
       "      <td>Mobile App</td>\n",
       "      <td>yoy_avg_ticket</td>\n",
       "      <td>3.499049</td>\n",
       "    </tr>\n",
       "    <tr>\n",
       "      <th>6</th>\n",
       "      <td>North America</td>\n",
       "      <td>Mobile App</td>\n",
       "      <td>yoy_net_gross_booking_usd</td>\n",
       "      <td>69.929281</td>\n",
       "    </tr>\n",
       "    <tr>\n",
       "      <th>14</th>\n",
       "      <td>North America</td>\n",
       "      <td>Mobile App</td>\n",
       "      <td>yoy_net_orders</td>\n",
       "      <td>64.184390</td>\n",
       "    </tr>\n",
       "    <tr>\n",
       "      <th>23</th>\n",
       "      <td>North America</td>\n",
       "      <td>Mobile Web</td>\n",
       "      <td>yoy_avg_ticket</td>\n",
       "      <td>-1.203693</td>\n",
       "    </tr>\n",
       "    <tr>\n",
       "      <th>7</th>\n",
       "      <td>North America</td>\n",
       "      <td>Mobile Web</td>\n",
       "      <td>yoy_net_gross_booking_usd</td>\n",
       "      <td>52.306545</td>\n",
       "    </tr>\n",
       "    <tr>\n",
       "      <th>15</th>\n",
       "      <td>North America</td>\n",
       "      <td>Mobile Web</td>\n",
       "      <td>yoy_net_orders</td>\n",
       "      <td>54.162184</td>\n",
       "    </tr>\n",
       "  </tbody>\n",
       "</table>\n",
       "</div>"
      ],
      "text/plain": [
       "    client_region    platform                     metric         yoy\n",
       "16           APAC  Mobile App             yoy_avg_ticket  -34.822461\n",
       "0            APAC  Mobile App  yoy_net_gross_booking_usd   86.881021\n",
       "8            APAC  Mobile App             yoy_net_orders  186.726107\n",
       "17           APAC  Mobile Web             yoy_avg_ticket  -13.549747\n",
       "1            APAC  Mobile Web  yoy_net_gross_booking_usd   64.126557\n",
       "9            APAC  Mobile Web             yoy_net_orders   89.850870\n",
       "18           EMEA  Mobile App             yoy_avg_ticket   -8.936254\n",
       "2            EMEA  Mobile App  yoy_net_gross_booking_usd   65.674776\n",
       "10           EMEA  Mobile App             yoy_net_orders   81.932748\n",
       "19           EMEA  Mobile Web             yoy_avg_ticket  -11.450570\n",
       "3            EMEA  Mobile Web  yoy_net_gross_booking_usd   49.875448\n",
       "11           EMEA  Mobile Web             yoy_net_orders   69.256255\n",
       "20          LATAM  Mobile App             yoy_avg_ticket  -14.843304\n",
       "4           LATAM  Mobile App  yoy_net_gross_booking_usd  131.103825\n",
       "12          LATAM  Mobile App             yoy_net_orders  171.386555\n",
       "21          LATAM  Mobile Web             yoy_avg_ticket  -44.858901\n",
       "5           LATAM  Mobile Web  yoy_net_gross_booking_usd   -2.771413\n",
       "13          LATAM  Mobile Web             yoy_net_orders   76.326893\n",
       "22  North America  Mobile App             yoy_avg_ticket    3.499049\n",
       "6   North America  Mobile App  yoy_net_gross_booking_usd   69.929281\n",
       "14  North America  Mobile App             yoy_net_orders   64.184390\n",
       "23  North America  Mobile Web             yoy_avg_ticket   -1.203693\n",
       "7   North America  Mobile Web  yoy_net_gross_booking_usd   52.306545\n",
       "15  North America  Mobile Web             yoy_net_orders   54.162184"
      ]
     },
     "execution_count": 17,
     "metadata": {},
     "output_type": "execute_result"
    }
   ],
   "source": [
    "dimensions = [\"client_region\", \"platform\"]\n",
    "date_cols = [\"year\"]\n",
    "\n",
    "df_yoy = calc_yoy_over_dimensions(df[df[\"platform\"].isin([\"Mobile App\", \"Mobile Web\"])], dimensions, date_cols).drop(columns=[\"year\"])\n",
    "df_yoy = df_yoy.melt(id_vars=[\"client_region\", \"platform\"], var_name=\"metric\", value_name=\"yoy\").sort_values([\"client_region\", \"platform\", \"metric\"])\n",
    "df_yoy"
   ]
  },
  {
   "cell_type": "code",
   "execution_count": 18,
   "metadata": {},
   "outputs": [
    {
     "data": {
      "text/html": [
       "\n",
       "<style>\n",
       "  #altair-viz-1e07c547ee2d4a79934c0e60991f8684.vega-embed {\n",
       "    width: 100%;\n",
       "    display: flex;\n",
       "  }\n",
       "\n",
       "  #altair-viz-1e07c547ee2d4a79934c0e60991f8684.vega-embed details,\n",
       "  #altair-viz-1e07c547ee2d4a79934c0e60991f8684.vega-embed details summary {\n",
       "    position: relative;\n",
       "  }\n",
       "</style>\n",
       "<div id=\"altair-viz-1e07c547ee2d4a79934c0e60991f8684\"></div>\n",
       "<script type=\"text/javascript\">\n",
       "  var VEGA_DEBUG = (typeof VEGA_DEBUG == \"undefined\") ? {} : VEGA_DEBUG;\n",
       "  (function(spec, embedOpt){\n",
       "    let outputDiv = document.currentScript.previousElementSibling;\n",
       "    if (outputDiv.id !== \"altair-viz-1e07c547ee2d4a79934c0e60991f8684\") {\n",
       "      outputDiv = document.getElementById(\"altair-viz-1e07c547ee2d4a79934c0e60991f8684\");\n",
       "    }\n",
       "    const paths = {\n",
       "      \"vega\": \"https://cdn.jsdelivr.net/npm/vega@5?noext\",\n",
       "      \"vega-lib\": \"https://cdn.jsdelivr.net/npm/vega-lib?noext\",\n",
       "      \"vega-lite\": \"https://cdn.jsdelivr.net/npm/vega-lite@5.16.3?noext\",\n",
       "      \"vega-embed\": \"https://cdn.jsdelivr.net/npm/vega-embed@6?noext\",\n",
       "    };\n",
       "\n",
       "    function maybeLoadScript(lib, version) {\n",
       "      var key = `${lib.replace(\"-\", \"\")}_version`;\n",
       "      return (VEGA_DEBUG[key] == version) ?\n",
       "        Promise.resolve(paths[lib]) :\n",
       "        new Promise(function(resolve, reject) {\n",
       "          var s = document.createElement('script');\n",
       "          document.getElementsByTagName(\"head\")[0].appendChild(s);\n",
       "          s.async = true;\n",
       "          s.onload = () => {\n",
       "            VEGA_DEBUG[key] = version;\n",
       "            return resolve(paths[lib]);\n",
       "          };\n",
       "          s.onerror = () => reject(`Error loading script: ${paths[lib]}`);\n",
       "          s.src = paths[lib];\n",
       "        });\n",
       "    }\n",
       "\n",
       "    function showError(err) {\n",
       "      outputDiv.innerHTML = `<div class=\"error\" style=\"color:red;\">${err}</div>`;\n",
       "      throw err;\n",
       "    }\n",
       "\n",
       "    function displayChart(vegaEmbed) {\n",
       "      vegaEmbed(outputDiv, spec, embedOpt)\n",
       "        .catch(err => showError(`Javascript Error: ${err.message}<br>This usually means there's a typo in your chart specification. See the javascript console for the full traceback.`));\n",
       "    }\n",
       "\n",
       "    if(typeof define === \"function\" && define.amd) {\n",
       "      requirejs.config({paths});\n",
       "      require([\"vega-embed\"], displayChart, err => showError(`Error loading script: ${err.message}`));\n",
       "    } else {\n",
       "      maybeLoadScript(\"vega\", \"5\")\n",
       "        .then(() => maybeLoadScript(\"vega-lite\", \"5.16.3\"))\n",
       "        .then(() => maybeLoadScript(\"vega-embed\", \"6\"))\n",
       "        .catch(showError)\n",
       "        .then(() => displayChart(vegaEmbed));\n",
       "    }\n",
       "  })({\"config\": {\"view\": {\"continuousWidth\": 300, \"continuousHeight\": 300}}, \"data\": {\"name\": \"data-9eb595f3b533130ba657e9790fa6f390\"}, \"mark\": {\"type\": \"bar\"}, \"encoding\": {\"color\": {\"field\": \"platform\", \"title\": \"Mobile Platform\", \"type\": \"nominal\"}, \"column\": {\"field\": \"metric\", \"title\": \"Metric\", \"type\": \"nominal\"}, \"tooltip\": [{\"field\": \"client_region\", \"title\": \"Client Region\", \"type\": \"nominal\"}, {\"field\": \"platform\", \"title\": \"Mobile Platform\", \"type\": \"nominal\"}, {\"field\": \"metric\", \"title\": \"Metric\", \"type\": \"nominal\"}, {\"field\": \"yoy\", \"format\": \",.2f\", \"title\": \"YoY %\", \"type\": \"quantitative\"}], \"x\": {\"field\": \"client_region\", \"title\": \"Client Region\", \"type\": \"nominal\"}, \"y\": {\"field\": \"yoy\", \"title\": \"YoY %\", \"type\": \"quantitative\"}}, \"height\": 200, \"params\": [{\"name\": \"param_5\", \"select\": {\"type\": \"interval\", \"encodings\": [\"x\", \"y\"]}, \"bind\": \"scales\"}], \"title\": \"YoY % by Client Region, Mobile Platform, and Metric\", \"width\": 200, \"$schema\": \"https://vega.github.io/schema/vega-lite/v5.16.3.json\", \"datasets\": {\"data-9eb595f3b533130ba657e9790fa6f390\": [{\"client_region\": \"APAC\", \"platform\": \"Mobile App\", \"metric\": \"yoy_avg_ticket\", \"yoy\": -34.82246077848532}, {\"client_region\": \"APAC\", \"platform\": \"Mobile App\", \"metric\": \"yoy_net_gross_booking_usd\", \"yoy\": 86.88102084341531}, {\"client_region\": \"APAC\", \"platform\": \"Mobile App\", \"metric\": \"yoy_net_orders\", \"yoy\": 186.72610699258664}, {\"client_region\": \"APAC\", \"platform\": \"Mobile Web\", \"metric\": \"yoy_avg_ticket\", \"yoy\": -13.549747434633286}, {\"client_region\": \"APAC\", \"platform\": \"Mobile Web\", \"metric\": \"yoy_net_gross_booking_usd\", \"yoy\": 64.12655654808437}, {\"client_region\": \"APAC\", \"platform\": \"Mobile Web\", \"metric\": \"yoy_net_orders\", \"yoy\": 89.85086992543496}, {\"client_region\": \"EMEA\", \"platform\": \"Mobile App\", \"metric\": \"yoy_avg_ticket\", \"yoy\": -8.936253668796112}, {\"client_region\": \"EMEA\", \"platform\": \"Mobile App\", \"metric\": \"yoy_net_gross_booking_usd\", \"yoy\": 65.67477581541293}, {\"client_region\": \"EMEA\", \"platform\": \"Mobile App\", \"metric\": \"yoy_net_orders\", \"yoy\": 81.9327476522266}, {\"client_region\": \"EMEA\", \"platform\": \"Mobile Web\", \"metric\": \"yoy_avg_ticket\", \"yoy\": -11.450570497954827}, {\"client_region\": \"EMEA\", \"platform\": \"Mobile Web\", \"metric\": \"yoy_net_gross_booking_usd\", \"yoy\": 49.87544788426725}, {\"client_region\": \"EMEA\", \"platform\": \"Mobile Web\", \"metric\": \"yoy_net_orders\", \"yoy\": 69.25625464453802}, {\"client_region\": \"LATAM\", \"platform\": \"Mobile App\", \"metric\": \"yoy_avg_ticket\", \"yoy\": -14.843303543840724}, {\"client_region\": \"LATAM\", \"platform\": \"Mobile App\", \"metric\": \"yoy_net_gross_booking_usd\", \"yoy\": 131.10382454215662}, {\"client_region\": \"LATAM\", \"platform\": \"Mobile App\", \"metric\": \"yoy_net_orders\", \"yoy\": 171.38655462184875}, {\"client_region\": \"LATAM\", \"platform\": \"Mobile Web\", \"metric\": \"yoy_avg_ticket\", \"yoy\": -44.85890085653678}, {\"client_region\": \"LATAM\", \"platform\": \"Mobile Web\", \"metric\": \"yoy_net_gross_booking_usd\", \"yoy\": -2.7714130137468262}, {\"client_region\": \"LATAM\", \"platform\": \"Mobile Web\", \"metric\": \"yoy_net_orders\", \"yoy\": 76.32689318232289}, {\"client_region\": \"North America\", \"platform\": \"Mobile App\", \"metric\": \"yoy_avg_ticket\", \"yoy\": 3.4990485147502914}, {\"client_region\": \"North America\", \"platform\": \"Mobile App\", \"metric\": \"yoy_net_gross_booking_usd\", \"yoy\": 69.92928128782955}, {\"client_region\": \"North America\", \"platform\": \"Mobile App\", \"metric\": \"yoy_net_orders\", \"yoy\": 64.18438983389483}, {\"client_region\": \"North America\", \"platform\": \"Mobile Web\", \"metric\": \"yoy_avg_ticket\", \"yoy\": -1.2036929336895374}, {\"client_region\": \"North America\", \"platform\": \"Mobile Web\", \"metric\": \"yoy_net_gross_booking_usd\", \"yoy\": 52.30654516953146}, {\"client_region\": \"North America\", \"platform\": \"Mobile Web\", \"metric\": \"yoy_net_orders\", \"yoy\": 54.16218449066703}]}}, {\"mode\": \"vega-lite\"});\n",
       "</script>"
      ],
      "text/plain": [
       "alt.Chart(...)"
      ]
     },
     "execution_count": 18,
     "metadata": {},
     "output_type": "execute_result"
    }
   ],
   "source": [
    "alt.Chart(df_yoy).mark_bar().encode(\n",
    "    x=alt.X(\"client_region:N\", title=\"Client Region\"),\n",
    "    y=alt.Y(\"yoy:Q\", title=\"YoY %\"),\n",
    "    color=alt.Color(\"platform:N\", title=\"Mobile Platform\"),\n",
    "    column=alt.Column(\"metric:N\", title=\"Metric\"),\n",
    "    tooltip=[\n",
    "        alt.Tooltip(\"client_region:N\", title=\"Client Region\"),\n",
    "        alt.Tooltip(\"platform:N\", title=\"Mobile Platform\"),\n",
    "        alt.Tooltip(\"metric:N\", title=\"Metric\"),\n",
    "        alt.Tooltip(\"yoy:Q\", title=\"YoY %\").format(\",.2f\")\n",
    "    ]\n",
    ").properties(\n",
    "    title=\"YoY % by Client Region, Mobile Platform, and Metric\",\n",
    "    width=200,\n",
    "    height=200\n",
    ").interactive()\n"
   ]
  },
  {
   "cell_type": "markdown",
   "metadata": {},
   "source": [
    "## Mobile vs. Desktop Share of Wallet"
   ]
  },
  {
   "cell_type": "code",
   "execution_count": 19,
   "metadata": {},
   "outputs": [],
   "source": [
    "def aggregate_and_normalize_share(df, dimensions, total_dimensions, normalize=True):\n",
    "    # aggregate net gross bookings, net orders, and calculate average ticket\n",
    "    df_agg = df.groupby(dimensions).agg({\"net_gross_booking_usd\": \"sum\", \"net_orders\": \"sum\"}).reset_index()    \n",
    "    df_agg[\"avg_ticket\"] = df_agg[\"net_gross_booking_usd\"] / df_agg[\"net_orders\"]\n",
    "\n",
    "    if normalize:\n",
    "        # normalize share of wallet of net gross bookings and net orders among platforms per year\n",
    "        df_agg[\"net_gross_booking_usd\"] = (df_agg[\"net_gross_booking_usd\"] / df_agg.groupby(total_dimensions)[\"net_gross_booking_usd\"].transform(\"sum\")).mul(100).round(2)\n",
    "        df_agg[\"net_orders\"] = (df_agg[\"net_orders\"] / df_agg.groupby(total_dimensions)[\"net_orders\"].transform(\"sum\")).mul(100).round(2)\n",
    "\n",
    "        # sanity check\n",
    "        print(df_agg.groupby(total_dimensions)[\"net_gross_booking_usd\"].sum())\n",
    "\n",
    "    return df_agg"
   ]
  },
  {
   "cell_type": "code",
   "execution_count": 20,
   "metadata": {},
   "outputs": [
    {
     "name": "stdout",
     "output_type": "stream",
     "text": [
      "client_region  year\n",
      "APAC           2022    100.01\n",
      "               2023    100.00\n",
      "EMEA           2022    100.00\n",
      "               2023    100.00\n",
      "LATAM          2022    100.00\n",
      "               2023     99.99\n",
      "North America  2022    100.00\n",
      "               2023    100.00\n",
      "Name: net_gross_booking_usd, dtype: float64\n"
     ]
    }
   ],
   "source": [
    "dimensions = [\"client_region\", \"platform\", \"mobile\", \"year\"]\n",
    "total_dimensions = [\"client_region\", \"year\"]\n",
    "\n",
    "df_agg = aggregate_and_normalize_share(df, dimensions, total_dimensions)"
   ]
  },
  {
   "cell_type": "code",
   "execution_count": 21,
   "metadata": {},
   "outputs": [
    {
     "name": "stdout",
     "output_type": "stream",
     "text": [
      "Desktop\n"
     ]
    },
    {
     "data": {
      "text/html": [
       "<div>\n",
       "<style scoped>\n",
       "    .dataframe tbody tr th:only-of-type {\n",
       "        vertical-align: middle;\n",
       "    }\n",
       "\n",
       "    .dataframe tbody tr th {\n",
       "        vertical-align: top;\n",
       "    }\n",
       "\n",
       "    .dataframe thead th {\n",
       "        text-align: right;\n",
       "    }\n",
       "</style>\n",
       "<table border=\"1\" class=\"dataframe\">\n",
       "  <thead>\n",
       "    <tr style=\"text-align: right;\">\n",
       "      <th></th>\n",
       "      <th>client_region</th>\n",
       "      <th>platform</th>\n",
       "      <th>mobile</th>\n",
       "      <th>year</th>\n",
       "      <th>net_gross_booking_usd</th>\n",
       "      <th>net_orders</th>\n",
       "      <th>avg_ticket</th>\n",
       "    </tr>\n",
       "  </thead>\n",
       "  <tbody>\n",
       "    <tr>\n",
       "      <th>0</th>\n",
       "      <td>APAC</td>\n",
       "      <td>Desktop</td>\n",
       "      <td>Desktop</td>\n",
       "      <td>2022</td>\n",
       "      <td>73.34</td>\n",
       "      <td>71.25</td>\n",
       "      <td>353.952488</td>\n",
       "    </tr>\n",
       "    <tr>\n",
       "      <th>1</th>\n",
       "      <td>APAC</td>\n",
       "      <td>Desktop</td>\n",
       "      <td>Desktop</td>\n",
       "      <td>2023</td>\n",
       "      <td>63.78</td>\n",
       "      <td>56.64</td>\n",
       "      <td>315.228481</td>\n",
       "    </tr>\n",
       "    <tr>\n",
       "      <th>6</th>\n",
       "      <td>EMEA</td>\n",
       "      <td>Desktop</td>\n",
       "      <td>Desktop</td>\n",
       "      <td>2022</td>\n",
       "      <td>78.26</td>\n",
       "      <td>74.15</td>\n",
       "      <td>351.115128</td>\n",
       "    </tr>\n",
       "    <tr>\n",
       "      <th>7</th>\n",
       "      <td>EMEA</td>\n",
       "      <td>Desktop</td>\n",
       "      <td>Desktop</td>\n",
       "      <td>2023</td>\n",
       "      <td>72.44</td>\n",
       "      <td>67.38</td>\n",
       "      <td>317.323594</td>\n",
       "    </tr>\n",
       "    <tr>\n",
       "      <th>12</th>\n",
       "      <td>LATAM</td>\n",
       "      <td>Desktop</td>\n",
       "      <td>Desktop</td>\n",
       "      <td>2022</td>\n",
       "      <td>83.44</td>\n",
       "      <td>81.23</td>\n",
       "      <td>462.351192</td>\n",
       "    </tr>\n",
       "    <tr>\n",
       "      <th>13</th>\n",
       "      <td>LATAM</td>\n",
       "      <td>Desktop</td>\n",
       "      <td>Desktop</td>\n",
       "      <td>2023</td>\n",
       "      <td>78.20</td>\n",
       "      <td>74.27</td>\n",
       "      <td>307.034643</td>\n",
       "    </tr>\n",
       "    <tr>\n",
       "      <th>18</th>\n",
       "      <td>North America</td>\n",
       "      <td>Desktop</td>\n",
       "      <td>Desktop</td>\n",
       "      <td>2022</td>\n",
       "      <td>76.10</td>\n",
       "      <td>68.05</td>\n",
       "      <td>279.674072</td>\n",
       "    </tr>\n",
       "    <tr>\n",
       "      <th>19</th>\n",
       "      <td>North America</td>\n",
       "      <td>Desktop</td>\n",
       "      <td>Desktop</td>\n",
       "      <td>2023</td>\n",
       "      <td>68.49</td>\n",
       "      <td>59.53</td>\n",
       "      <td>278.028128</td>\n",
       "    </tr>\n",
       "  </tbody>\n",
       "</table>\n",
       "</div>"
      ],
      "text/plain": [
       "    client_region platform   mobile  year  net_gross_booking_usd  net_orders  \\\n",
       "0            APAC  Desktop  Desktop  2022                  73.34       71.25   \n",
       "1            APAC  Desktop  Desktop  2023                  63.78       56.64   \n",
       "6            EMEA  Desktop  Desktop  2022                  78.26       74.15   \n",
       "7            EMEA  Desktop  Desktop  2023                  72.44       67.38   \n",
       "12          LATAM  Desktop  Desktop  2022                  83.44       81.23   \n",
       "13          LATAM  Desktop  Desktop  2023                  78.20       74.27   \n",
       "18  North America  Desktop  Desktop  2022                  76.10       68.05   \n",
       "19  North America  Desktop  Desktop  2023                  68.49       59.53   \n",
       "\n",
       "    avg_ticket  \n",
       "0   353.952488  \n",
       "1   315.228481  \n",
       "6   351.115128  \n",
       "7   317.323594  \n",
       "12  462.351192  \n",
       "13  307.034643  \n",
       "18  279.674072  \n",
       "19  278.028128  "
      ]
     },
     "execution_count": 21,
     "metadata": {},
     "output_type": "execute_result"
    }
   ],
   "source": [
    "print(\"Desktop\")\n",
    "df_agg[df_agg[\"mobile\"] == \"Desktop\"]"
   ]
  },
  {
   "cell_type": "code",
   "execution_count": 22,
   "metadata": {},
   "outputs": [
    {
     "name": "stdout",
     "output_type": "stream",
     "text": [
      "Mobile\n"
     ]
    },
    {
     "data": {
      "text/html": [
       "<div>\n",
       "<style scoped>\n",
       "    .dataframe tbody tr th:only-of-type {\n",
       "        vertical-align: middle;\n",
       "    }\n",
       "\n",
       "    .dataframe tbody tr th {\n",
       "        vertical-align: top;\n",
       "    }\n",
       "\n",
       "    .dataframe thead th {\n",
       "        text-align: right;\n",
       "    }\n",
       "</style>\n",
       "<table border=\"1\" class=\"dataframe\">\n",
       "  <thead>\n",
       "    <tr style=\"text-align: right;\">\n",
       "      <th></th>\n",
       "      <th>client_region</th>\n",
       "      <th>platform</th>\n",
       "      <th>mobile</th>\n",
       "      <th>year</th>\n",
       "      <th>net_gross_booking_usd</th>\n",
       "      <th>net_orders</th>\n",
       "      <th>avg_ticket</th>\n",
       "    </tr>\n",
       "  </thead>\n",
       "  <tbody>\n",
       "    <tr>\n",
       "      <th>2</th>\n",
       "      <td>APAC</td>\n",
       "      <td>Mobile App</td>\n",
       "      <td>Mobile</td>\n",
       "      <td>2022</td>\n",
       "      <td>15.79</td>\n",
       "      <td>15.57</td>\n",
       "      <td>348.745913</td>\n",
       "    </tr>\n",
       "    <tr>\n",
       "      <th>3</th>\n",
       "      <td>APAC</td>\n",
       "      <td>Mobile App</td>\n",
       "      <td>Mobile</td>\n",
       "      <td>2023</td>\n",
       "      <td>22.57</td>\n",
       "      <td>27.79</td>\n",
       "      <td>227.304004</td>\n",
       "    </tr>\n",
       "    <tr>\n",
       "      <th>4</th>\n",
       "      <td>APAC</td>\n",
       "      <td>Mobile Web</td>\n",
       "      <td>Mobile</td>\n",
       "      <td>2022</td>\n",
       "      <td>10.88</td>\n",
       "      <td>13.18</td>\n",
       "      <td>283.793344</td>\n",
       "    </tr>\n",
       "    <tr>\n",
       "      <th>5</th>\n",
       "      <td>APAC</td>\n",
       "      <td>Mobile Web</td>\n",
       "      <td>Mobile</td>\n",
       "      <td>2023</td>\n",
       "      <td>13.65</td>\n",
       "      <td>15.57</td>\n",
       "      <td>245.340062</td>\n",
       "    </tr>\n",
       "    <tr>\n",
       "      <th>8</th>\n",
       "      <td>EMEA</td>\n",
       "      <td>Mobile App</td>\n",
       "      <td>Mobile</td>\n",
       "      <td>2022</td>\n",
       "      <td>6.57</td>\n",
       "      <td>8.74</td>\n",
       "      <td>250.196476</td>\n",
       "    </tr>\n",
       "    <tr>\n",
       "      <th>9</th>\n",
       "      <td>EMEA</td>\n",
       "      <td>Mobile App</td>\n",
       "      <td>Mobile</td>\n",
       "      <td>2023</td>\n",
       "      <td>8.93</td>\n",
       "      <td>11.57</td>\n",
       "      <td>227.838285</td>\n",
       "    </tr>\n",
       "    <tr>\n",
       "      <th>10</th>\n",
       "      <td>EMEA</td>\n",
       "      <td>Mobile Web</td>\n",
       "      <td>Mobile</td>\n",
       "      <td>2022</td>\n",
       "      <td>15.17</td>\n",
       "      <td>17.10</td>\n",
       "      <td>295.022382</td>\n",
       "    </tr>\n",
       "    <tr>\n",
       "      <th>11</th>\n",
       "      <td>EMEA</td>\n",
       "      <td>Mobile Web</td>\n",
       "      <td>Mobile</td>\n",
       "      <td>2023</td>\n",
       "      <td>18.63</td>\n",
       "      <td>21.05</td>\n",
       "      <td>261.240636</td>\n",
       "    </tr>\n",
       "    <tr>\n",
       "      <th>14</th>\n",
       "      <td>LATAM</td>\n",
       "      <td>Mobile App</td>\n",
       "      <td>Mobile</td>\n",
       "      <td>2022</td>\n",
       "      <td>4.07</td>\n",
       "      <td>6.49</td>\n",
       "      <td>282.227228</td>\n",
       "    </tr>\n",
       "    <tr>\n",
       "      <th>15</th>\n",
       "      <td>LATAM</td>\n",
       "      <td>Mobile App</td>\n",
       "      <td>Mobile</td>\n",
       "      <td>2023</td>\n",
       "      <td>9.51</td>\n",
       "      <td>11.54</td>\n",
       "      <td>240.335384</td>\n",
       "    </tr>\n",
       "    <tr>\n",
       "      <th>16</th>\n",
       "      <td>LATAM</td>\n",
       "      <td>Mobile Web</td>\n",
       "      <td>Mobile</td>\n",
       "      <td>2022</td>\n",
       "      <td>12.49</td>\n",
       "      <td>12.28</td>\n",
       "      <td>457.776979</td>\n",
       "    </tr>\n",
       "    <tr>\n",
       "      <th>17</th>\n",
       "      <td>LATAM</td>\n",
       "      <td>Mobile Web</td>\n",
       "      <td>Mobile</td>\n",
       "      <td>2023</td>\n",
       "      <td>12.28</td>\n",
       "      <td>14.19</td>\n",
       "      <td>252.423258</td>\n",
       "    </tr>\n",
       "    <tr>\n",
       "      <th>20</th>\n",
       "      <td>North America</td>\n",
       "      <td>Mobile App</td>\n",
       "      <td>Mobile</td>\n",
       "      <td>2022</td>\n",
       "      <td>8.95</td>\n",
       "      <td>12.28</td>\n",
       "      <td>182.274669</td>\n",
       "    </tr>\n",
       "    <tr>\n",
       "      <th>21</th>\n",
       "      <td>North America</td>\n",
       "      <td>Mobile App</td>\n",
       "      <td>Mobile</td>\n",
       "      <td>2023</td>\n",
       "      <td>12.62</td>\n",
       "      <td>16.17</td>\n",
       "      <td>188.652549</td>\n",
       "    </tr>\n",
       "    <tr>\n",
       "      <th>22</th>\n",
       "      <td>North America</td>\n",
       "      <td>Mobile Web</td>\n",
       "      <td>Mobile</td>\n",
       "      <td>2022</td>\n",
       "      <td>14.95</td>\n",
       "      <td>19.67</td>\n",
       "      <td>190.120345</td>\n",
       "    </tr>\n",
       "    <tr>\n",
       "      <th>23</th>\n",
       "      <td>North America</td>\n",
       "      <td>Mobile Web</td>\n",
       "      <td>Mobile</td>\n",
       "      <td>2023</td>\n",
       "      <td>18.89</td>\n",
       "      <td>24.31</td>\n",
       "      <td>187.831880</td>\n",
       "    </tr>\n",
       "  </tbody>\n",
       "</table>\n",
       "</div>"
      ],
      "text/plain": [
       "    client_region    platform  mobile  year  net_gross_booking_usd  \\\n",
       "2            APAC  Mobile App  Mobile  2022                  15.79   \n",
       "3            APAC  Mobile App  Mobile  2023                  22.57   \n",
       "4            APAC  Mobile Web  Mobile  2022                  10.88   \n",
       "5            APAC  Mobile Web  Mobile  2023                  13.65   \n",
       "8            EMEA  Mobile App  Mobile  2022                   6.57   \n",
       "9            EMEA  Mobile App  Mobile  2023                   8.93   \n",
       "10           EMEA  Mobile Web  Mobile  2022                  15.17   \n",
       "11           EMEA  Mobile Web  Mobile  2023                  18.63   \n",
       "14          LATAM  Mobile App  Mobile  2022                   4.07   \n",
       "15          LATAM  Mobile App  Mobile  2023                   9.51   \n",
       "16          LATAM  Mobile Web  Mobile  2022                  12.49   \n",
       "17          LATAM  Mobile Web  Mobile  2023                  12.28   \n",
       "20  North America  Mobile App  Mobile  2022                   8.95   \n",
       "21  North America  Mobile App  Mobile  2023                  12.62   \n",
       "22  North America  Mobile Web  Mobile  2022                  14.95   \n",
       "23  North America  Mobile Web  Mobile  2023                  18.89   \n",
       "\n",
       "    net_orders  avg_ticket  \n",
       "2        15.57  348.745913  \n",
       "3        27.79  227.304004  \n",
       "4        13.18  283.793344  \n",
       "5        15.57  245.340062  \n",
       "8         8.74  250.196476  \n",
       "9        11.57  227.838285  \n",
       "10       17.10  295.022382  \n",
       "11       21.05  261.240636  \n",
       "14        6.49  282.227228  \n",
       "15       11.54  240.335384  \n",
       "16       12.28  457.776979  \n",
       "17       14.19  252.423258  \n",
       "20       12.28  182.274669  \n",
       "21       16.17  188.652549  \n",
       "22       19.67  190.120345  \n",
       "23       24.31  187.831880  "
      ]
     },
     "execution_count": 22,
     "metadata": {},
     "output_type": "execute_result"
    }
   ],
   "source": [
    "print(\"Mobile\")\n",
    "df_agg[df_agg[\"mobile\"] == \"Mobile\"]"
   ]
  },
  {
   "cell_type": "code",
   "execution_count": 23,
   "metadata": {},
   "outputs": [
    {
     "name": "stdout",
     "output_type": "stream",
     "text": [
      "year\n",
      "2022    100.0\n",
      "2023    100.0\n",
      "Name: net_gross_booking_usd, dtype: float64\n"
     ]
    },
    {
     "data": {
      "application/vnd.plotly.v1+json": {
       "config": {
        "plotlyServerURL": "https://plot.ly"
       },
       "data": [
        {
         "link": {
          "color": [
           "rgba(31,119,180, 0.4)",
           "rgba(255,127,14, 0.4)",
           "rgba(31,119,180, 0.4)",
           "rgba(255,127,14, 0.4)"
          ],
          "source": [
           0,
           1,
           0,
           1
          ],
          "target": [
           6,
           6,
           7,
           7
          ],
          "value": [
           69.38,
           60.66,
           30.62,
           39.34
          ]
         },
         "node": {
          "color": [
           "rgba(31,119,180,0.8)",
           "rgba(255,127,14,0.8)",
           "rgba(44,160,44,0.8)",
           "rgba(214,39,40,0.8)",
           "rgba(31,119,180,0.8)",
           "rgba(255,127,14,0.8)",
           "rgba(44,160,44,0.8)",
           "rgba(214,39,40,0.8)"
          ],
          "label": [
           "Source: 2022",
           "Source: 2023",
           "Source: Desktop",
           "Source: Mobile",
           "Target: 2022",
           "Target: 2023",
           "Target: Desktop",
           "Target: Mobile"
          ],
          "line": {
           "color": "black",
           "width": 0.5
          },
          "pad": 15,
          "thickness": 20
         },
         "type": "sankey"
        }
       ],
       "layout": {
        "font": {
         "size": 10
        },
        "template": {
         "data": {
          "bar": [
           {
            "error_x": {
             "color": "#2a3f5f"
            },
            "error_y": {
             "color": "#2a3f5f"
            },
            "marker": {
             "line": {
              "color": "#E5ECF6",
              "width": 0.5
             },
             "pattern": {
              "fillmode": "overlay",
              "size": 10,
              "solidity": 0.2
             }
            },
            "type": "bar"
           }
          ],
          "barpolar": [
           {
            "marker": {
             "line": {
              "color": "#E5ECF6",
              "width": 0.5
             },
             "pattern": {
              "fillmode": "overlay",
              "size": 10,
              "solidity": 0.2
             }
            },
            "type": "barpolar"
           }
          ],
          "carpet": [
           {
            "aaxis": {
             "endlinecolor": "#2a3f5f",
             "gridcolor": "white",
             "linecolor": "white",
             "minorgridcolor": "white",
             "startlinecolor": "#2a3f5f"
            },
            "baxis": {
             "endlinecolor": "#2a3f5f",
             "gridcolor": "white",
             "linecolor": "white",
             "minorgridcolor": "white",
             "startlinecolor": "#2a3f5f"
            },
            "type": "carpet"
           }
          ],
          "choropleth": [
           {
            "colorbar": {
             "outlinewidth": 0,
             "ticks": ""
            },
            "type": "choropleth"
           }
          ],
          "contour": [
           {
            "colorbar": {
             "outlinewidth": 0,
             "ticks": ""
            },
            "colorscale": [
             [
              0,
              "#0d0887"
             ],
             [
              0.1111111111111111,
              "#46039f"
             ],
             [
              0.2222222222222222,
              "#7201a8"
             ],
             [
              0.3333333333333333,
              "#9c179e"
             ],
             [
              0.4444444444444444,
              "#bd3786"
             ],
             [
              0.5555555555555556,
              "#d8576b"
             ],
             [
              0.6666666666666666,
              "#ed7953"
             ],
             [
              0.7777777777777778,
              "#fb9f3a"
             ],
             [
              0.8888888888888888,
              "#fdca26"
             ],
             [
              1,
              "#f0f921"
             ]
            ],
            "type": "contour"
           }
          ],
          "contourcarpet": [
           {
            "colorbar": {
             "outlinewidth": 0,
             "ticks": ""
            },
            "type": "contourcarpet"
           }
          ],
          "heatmap": [
           {
            "colorbar": {
             "outlinewidth": 0,
             "ticks": ""
            },
            "colorscale": [
             [
              0,
              "#0d0887"
             ],
             [
              0.1111111111111111,
              "#46039f"
             ],
             [
              0.2222222222222222,
              "#7201a8"
             ],
             [
              0.3333333333333333,
              "#9c179e"
             ],
             [
              0.4444444444444444,
              "#bd3786"
             ],
             [
              0.5555555555555556,
              "#d8576b"
             ],
             [
              0.6666666666666666,
              "#ed7953"
             ],
             [
              0.7777777777777778,
              "#fb9f3a"
             ],
             [
              0.8888888888888888,
              "#fdca26"
             ],
             [
              1,
              "#f0f921"
             ]
            ],
            "type": "heatmap"
           }
          ],
          "heatmapgl": [
           {
            "colorbar": {
             "outlinewidth": 0,
             "ticks": ""
            },
            "colorscale": [
             [
              0,
              "#0d0887"
             ],
             [
              0.1111111111111111,
              "#46039f"
             ],
             [
              0.2222222222222222,
              "#7201a8"
             ],
             [
              0.3333333333333333,
              "#9c179e"
             ],
             [
              0.4444444444444444,
              "#bd3786"
             ],
             [
              0.5555555555555556,
              "#d8576b"
             ],
             [
              0.6666666666666666,
              "#ed7953"
             ],
             [
              0.7777777777777778,
              "#fb9f3a"
             ],
             [
              0.8888888888888888,
              "#fdca26"
             ],
             [
              1,
              "#f0f921"
             ]
            ],
            "type": "heatmapgl"
           }
          ],
          "histogram": [
           {
            "marker": {
             "pattern": {
              "fillmode": "overlay",
              "size": 10,
              "solidity": 0.2
             }
            },
            "type": "histogram"
           }
          ],
          "histogram2d": [
           {
            "colorbar": {
             "outlinewidth": 0,
             "ticks": ""
            },
            "colorscale": [
             [
              0,
              "#0d0887"
             ],
             [
              0.1111111111111111,
              "#46039f"
             ],
             [
              0.2222222222222222,
              "#7201a8"
             ],
             [
              0.3333333333333333,
              "#9c179e"
             ],
             [
              0.4444444444444444,
              "#bd3786"
             ],
             [
              0.5555555555555556,
              "#d8576b"
             ],
             [
              0.6666666666666666,
              "#ed7953"
             ],
             [
              0.7777777777777778,
              "#fb9f3a"
             ],
             [
              0.8888888888888888,
              "#fdca26"
             ],
             [
              1,
              "#f0f921"
             ]
            ],
            "type": "histogram2d"
           }
          ],
          "histogram2dcontour": [
           {
            "colorbar": {
             "outlinewidth": 0,
             "ticks": ""
            },
            "colorscale": [
             [
              0,
              "#0d0887"
             ],
             [
              0.1111111111111111,
              "#46039f"
             ],
             [
              0.2222222222222222,
              "#7201a8"
             ],
             [
              0.3333333333333333,
              "#9c179e"
             ],
             [
              0.4444444444444444,
              "#bd3786"
             ],
             [
              0.5555555555555556,
              "#d8576b"
             ],
             [
              0.6666666666666666,
              "#ed7953"
             ],
             [
              0.7777777777777778,
              "#fb9f3a"
             ],
             [
              0.8888888888888888,
              "#fdca26"
             ],
             [
              1,
              "#f0f921"
             ]
            ],
            "type": "histogram2dcontour"
           }
          ],
          "mesh3d": [
           {
            "colorbar": {
             "outlinewidth": 0,
             "ticks": ""
            },
            "type": "mesh3d"
           }
          ],
          "parcoords": [
           {
            "line": {
             "colorbar": {
              "outlinewidth": 0,
              "ticks": ""
             }
            },
            "type": "parcoords"
           }
          ],
          "pie": [
           {
            "automargin": true,
            "type": "pie"
           }
          ],
          "scatter": [
           {
            "fillpattern": {
             "fillmode": "overlay",
             "size": 10,
             "solidity": 0.2
            },
            "type": "scatter"
           }
          ],
          "scatter3d": [
           {
            "line": {
             "colorbar": {
              "outlinewidth": 0,
              "ticks": ""
             }
            },
            "marker": {
             "colorbar": {
              "outlinewidth": 0,
              "ticks": ""
             }
            },
            "type": "scatter3d"
           }
          ],
          "scattercarpet": [
           {
            "marker": {
             "colorbar": {
              "outlinewidth": 0,
              "ticks": ""
             }
            },
            "type": "scattercarpet"
           }
          ],
          "scattergeo": [
           {
            "marker": {
             "colorbar": {
              "outlinewidth": 0,
              "ticks": ""
             }
            },
            "type": "scattergeo"
           }
          ],
          "scattergl": [
           {
            "marker": {
             "colorbar": {
              "outlinewidth": 0,
              "ticks": ""
             }
            },
            "type": "scattergl"
           }
          ],
          "scattermapbox": [
           {
            "marker": {
             "colorbar": {
              "outlinewidth": 0,
              "ticks": ""
             }
            },
            "type": "scattermapbox"
           }
          ],
          "scatterpolar": [
           {
            "marker": {
             "colorbar": {
              "outlinewidth": 0,
              "ticks": ""
             }
            },
            "type": "scatterpolar"
           }
          ],
          "scatterpolargl": [
           {
            "marker": {
             "colorbar": {
              "outlinewidth": 0,
              "ticks": ""
             }
            },
            "type": "scatterpolargl"
           }
          ],
          "scatterternary": [
           {
            "marker": {
             "colorbar": {
              "outlinewidth": 0,
              "ticks": ""
             }
            },
            "type": "scatterternary"
           }
          ],
          "surface": [
           {
            "colorbar": {
             "outlinewidth": 0,
             "ticks": ""
            },
            "colorscale": [
             [
              0,
              "#0d0887"
             ],
             [
              0.1111111111111111,
              "#46039f"
             ],
             [
              0.2222222222222222,
              "#7201a8"
             ],
             [
              0.3333333333333333,
              "#9c179e"
             ],
             [
              0.4444444444444444,
              "#bd3786"
             ],
             [
              0.5555555555555556,
              "#d8576b"
             ],
             [
              0.6666666666666666,
              "#ed7953"
             ],
             [
              0.7777777777777778,
              "#fb9f3a"
             ],
             [
              0.8888888888888888,
              "#fdca26"
             ],
             [
              1,
              "#f0f921"
             ]
            ],
            "type": "surface"
           }
          ],
          "table": [
           {
            "cells": {
             "fill": {
              "color": "#EBF0F8"
             },
             "line": {
              "color": "white"
             }
            },
            "header": {
             "fill": {
              "color": "#C8D4E3"
             },
             "line": {
              "color": "white"
             }
            },
            "type": "table"
           }
          ]
         },
         "layout": {
          "annotationdefaults": {
           "arrowcolor": "#2a3f5f",
           "arrowhead": 0,
           "arrowwidth": 1
          },
          "autotypenumbers": "strict",
          "coloraxis": {
           "colorbar": {
            "outlinewidth": 0,
            "ticks": ""
           }
          },
          "colorscale": {
           "diverging": [
            [
             0,
             "#8e0152"
            ],
            [
             0.1,
             "#c51b7d"
            ],
            [
             0.2,
             "#de77ae"
            ],
            [
             0.3,
             "#f1b6da"
            ],
            [
             0.4,
             "#fde0ef"
            ],
            [
             0.5,
             "#f7f7f7"
            ],
            [
             0.6,
             "#e6f5d0"
            ],
            [
             0.7,
             "#b8e186"
            ],
            [
             0.8,
             "#7fbc41"
            ],
            [
             0.9,
             "#4d9221"
            ],
            [
             1,
             "#276419"
            ]
           ],
           "sequential": [
            [
             0,
             "#0d0887"
            ],
            [
             0.1111111111111111,
             "#46039f"
            ],
            [
             0.2222222222222222,
             "#7201a8"
            ],
            [
             0.3333333333333333,
             "#9c179e"
            ],
            [
             0.4444444444444444,
             "#bd3786"
            ],
            [
             0.5555555555555556,
             "#d8576b"
            ],
            [
             0.6666666666666666,
             "#ed7953"
            ],
            [
             0.7777777777777778,
             "#fb9f3a"
            ],
            [
             0.8888888888888888,
             "#fdca26"
            ],
            [
             1,
             "#f0f921"
            ]
           ],
           "sequentialminus": [
            [
             0,
             "#0d0887"
            ],
            [
             0.1111111111111111,
             "#46039f"
            ],
            [
             0.2222222222222222,
             "#7201a8"
            ],
            [
             0.3333333333333333,
             "#9c179e"
            ],
            [
             0.4444444444444444,
             "#bd3786"
            ],
            [
             0.5555555555555556,
             "#d8576b"
            ],
            [
             0.6666666666666666,
             "#ed7953"
            ],
            [
             0.7777777777777778,
             "#fb9f3a"
            ],
            [
             0.8888888888888888,
             "#fdca26"
            ],
            [
             1,
             "#f0f921"
            ]
           ]
          },
          "colorway": [
           "#636efa",
           "#EF553B",
           "#00cc96",
           "#ab63fa",
           "#FFA15A",
           "#19d3f3",
           "#FF6692",
           "#B6E880",
           "#FF97FF",
           "#FECB52"
          ],
          "font": {
           "color": "#2a3f5f"
          },
          "geo": {
           "bgcolor": "white",
           "lakecolor": "white",
           "landcolor": "#E5ECF6",
           "showlakes": true,
           "showland": true,
           "subunitcolor": "white"
          },
          "hoverlabel": {
           "align": "left"
          },
          "hovermode": "closest",
          "mapbox": {
           "style": "light"
          },
          "paper_bgcolor": "white",
          "plot_bgcolor": "#E5ECF6",
          "polar": {
           "angularaxis": {
            "gridcolor": "white",
            "linecolor": "white",
            "ticks": ""
           },
           "bgcolor": "#E5ECF6",
           "radialaxis": {
            "gridcolor": "white",
            "linecolor": "white",
            "ticks": ""
           }
          },
          "scene": {
           "xaxis": {
            "backgroundcolor": "#E5ECF6",
            "gridcolor": "white",
            "gridwidth": 2,
            "linecolor": "white",
            "showbackground": true,
            "ticks": "",
            "zerolinecolor": "white"
           },
           "yaxis": {
            "backgroundcolor": "#E5ECF6",
            "gridcolor": "white",
            "gridwidth": 2,
            "linecolor": "white",
            "showbackground": true,
            "ticks": "",
            "zerolinecolor": "white"
           },
           "zaxis": {
            "backgroundcolor": "#E5ECF6",
            "gridcolor": "white",
            "gridwidth": 2,
            "linecolor": "white",
            "showbackground": true,
            "ticks": "",
            "zerolinecolor": "white"
           }
          },
          "shapedefaults": {
           "line": {
            "color": "#2a3f5f"
           }
          },
          "ternary": {
           "aaxis": {
            "gridcolor": "white",
            "linecolor": "white",
            "ticks": ""
           },
           "baxis": {
            "gridcolor": "white",
            "linecolor": "white",
            "ticks": ""
           },
           "bgcolor": "#E5ECF6",
           "caxis": {
            "gridcolor": "white",
            "linecolor": "white",
            "ticks": ""
           }
          },
          "title": {
           "x": 0.05
          },
          "xaxis": {
           "automargin": true,
           "gridcolor": "white",
           "linecolor": "white",
           "ticks": "",
           "title": {
            "standoff": 15
           },
           "zerolinecolor": "white",
           "zerolinewidth": 2
          },
          "yaxis": {
           "automargin": true,
           "gridcolor": "white",
           "linecolor": "white",
           "ticks": "",
           "title": {
            "standoff": 15
           },
           "zerolinecolor": "white",
           "zerolinewidth": 2
          }
         }
        },
        "title": {
         "text": "Sankey Diagram"
        }
       }
      }
     },
     "metadata": {},
     "output_type": "display_data"
    }
   ],
   "source": [
    "dimensions = [\"mobile\", \"year\"]\n",
    "total_dimensions = [\"year\"]\n",
    "\n",
    "df_agg = aggregate_and_normalize_share(df, dimensions, total_dimensions)\n",
    "\n",
    "df_sankey = df_agg.copy()\n",
    "df_sankey[\"year\"] = df_sankey[\"year\"].astype(str)\n",
    "sankey_chart_creator = SankeyBipartite(\n",
    "     df=df_sankey, \n",
    "     flow_column=\"net_orders\", \n",
    "     source_column=\"year\", \n",
    "     target_column=\"mobile\",\n",
    "     normalized=True\n",
    ")\n",
    "sankey_chart_creator.generate_sankey_chart()"
   ]
  },
  {
   "cell_type": "code",
   "execution_count": 24,
   "metadata": {},
   "outputs": [],
   "source": [
    "dimensions = [\"platform\", \"mobile\", \"year\"]\n",
    "total_dimensions = [\"year\"]\n",
    "\n",
    "df_agg = aggregate_and_normalize_share(df, dimensions, total_dimensions, normalize=False)"
   ]
  },
  {
   "cell_type": "code",
   "execution_count": 25,
   "metadata": {},
   "outputs": [
    {
     "data": {
      "text/html": [
       "<div>\n",
       "<style scoped>\n",
       "    .dataframe tbody tr th:only-of-type {\n",
       "        vertical-align: middle;\n",
       "    }\n",
       "\n",
       "    .dataframe tbody tr th {\n",
       "        vertical-align: top;\n",
       "    }\n",
       "\n",
       "    .dataframe thead th {\n",
       "        text-align: right;\n",
       "    }\n",
       "</style>\n",
       "<table border=\"1\" class=\"dataframe\">\n",
       "  <thead>\n",
       "    <tr style=\"text-align: right;\">\n",
       "      <th></th>\n",
       "      <th>platform</th>\n",
       "      <th>mobile</th>\n",
       "      <th>year</th>\n",
       "      <th>net_gross_booking_usd</th>\n",
       "      <th>net_orders</th>\n",
       "      <th>avg_ticket</th>\n",
       "    </tr>\n",
       "  </thead>\n",
       "  <tbody>\n",
       "    <tr>\n",
       "      <th>0</th>\n",
       "      <td>Desktop</td>\n",
       "      <td>Desktop</td>\n",
       "      <td>2022</td>\n",
       "      <td>3.201887e+08</td>\n",
       "      <td>1065379</td>\n",
       "      <td>300.539717</td>\n",
       "    </tr>\n",
       "    <tr>\n",
       "      <th>1</th>\n",
       "      <td>Desktop</td>\n",
       "      <td>Desktop</td>\n",
       "      <td>2023</td>\n",
       "      <td>3.489966e+08</td>\n",
       "      <td>1210587</td>\n",
       "      <td>288.287069</td>\n",
       "    </tr>\n",
       "    <tr>\n",
       "      <th>2</th>\n",
       "      <td>Mobile App</td>\n",
       "      <td>Mobile</td>\n",
       "      <td>2022</td>\n",
       "      <td>3.822054e+07</td>\n",
       "      <td>183998</td>\n",
       "      <td>207.722601</td>\n",
       "    </tr>\n",
       "    <tr>\n",
       "      <th>3</th>\n",
       "      <td>Mobile App</td>\n",
       "      <td>Mobile</td>\n",
       "      <td>2023</td>\n",
       "      <td>6.636336e+07</td>\n",
       "      <td>332041</td>\n",
       "      <td>199.864945</td>\n",
       "    </tr>\n",
       "    <tr>\n",
       "      <th>4</th>\n",
       "      <td>Mobile Web</td>\n",
       "      <td>Mobile</td>\n",
       "      <td>2022</td>\n",
       "      <td>6.056930e+07</td>\n",
       "      <td>286099</td>\n",
       "      <td>211.707489</td>\n",
       "    </tr>\n",
       "    <tr>\n",
       "      <th>5</th>\n",
       "      <td>Mobile Web</td>\n",
       "      <td>Mobile</td>\n",
       "      <td>2023</td>\n",
       "      <td>9.145085e+07</td>\n",
       "      <td>452960</td>\n",
       "      <td>201.896076</td>\n",
       "    </tr>\n",
       "  </tbody>\n",
       "</table>\n",
       "</div>"
      ],
      "text/plain": [
       "     platform   mobile  year  net_gross_booking_usd  net_orders  avg_ticket\n",
       "0     Desktop  Desktop  2022           3.201887e+08     1065379  300.539717\n",
       "1     Desktop  Desktop  2023           3.489966e+08     1210587  288.287069\n",
       "2  Mobile App   Mobile  2022           3.822054e+07      183998  207.722601\n",
       "3  Mobile App   Mobile  2023           6.636336e+07      332041  199.864945\n",
       "4  Mobile Web   Mobile  2022           6.056930e+07      286099  211.707489\n",
       "5  Mobile Web   Mobile  2023           9.145085e+07      452960  201.896076"
      ]
     },
     "execution_count": 25,
     "metadata": {},
     "output_type": "execute_result"
    }
   ],
   "source": [
    "df_agg"
   ]
  },
  {
   "cell_type": "code",
   "execution_count": 26,
   "metadata": {},
   "outputs": [
    {
     "data": {
      "application/vnd.plotly.v1+json": {
       "config": {
        "plotlyServerURL": "https://plot.ly"
       },
       "data": [
        {
         "link": {
          "color": [
           "rgba(31, 119, 180, 0.25)",
           "rgba(31, 119, 180, 0.25)",
           "rgba(214, 39, 40, 0.25)",
           "rgba(214, 39, 40, 0.25)",
           "rgba(255, 127, 14, 0.25)",
           "rgba(255, 127, 14, 0.25)",
           "rgba(44, 160, 44, 0.25)",
           "rgba(44, 160, 44, 0.25)"
          ],
          "source": [
           0,
           0,
           3,
           3,
           1,
           1,
           2,
           2
          ],
          "target": [
           1,
           2,
           4,
           5,
           4,
           5,
           4,
           5
          ],
          "value": [
           104583899.30697799,
           152020147.52519998,
           320188702.7446999,
           348996577.765,
           38220543.062978,
           66363356.24399999,
           60569300.891499996,
           91450846.63369998
          ]
         },
         "node": {
          "color": [
           "rgba(31, 119, 180, 0.25)",
           "rgba(255, 127, 14, 0.25)",
           "rgba(44, 160, 44, 0.25)",
           "rgba(214, 39, 40, 0.25)",
           "rgba(148, 103, 189, 0.25)",
           "rgba(140, 86, 75, 0.25)"
          ],
          "label": [
           "mobile: Mobile",
           "platform: Mobile App",
           "platform: Mobile Web",
           "platform: Desktop",
           "year: 2022",
           "year: 2023"
          ],
          "line": {
           "color": "black",
           "width": 0.5
          },
          "pad": 15,
          "thickness": 20
         },
         "type": "sankey"
        }
       ],
       "layout": {
        "font": {
         "size": 10
        },
        "template": {
         "data": {
          "bar": [
           {
            "error_x": {
             "color": "#2a3f5f"
            },
            "error_y": {
             "color": "#2a3f5f"
            },
            "marker": {
             "line": {
              "color": "#E5ECF6",
              "width": 0.5
             },
             "pattern": {
              "fillmode": "overlay",
              "size": 10,
              "solidity": 0.2
             }
            },
            "type": "bar"
           }
          ],
          "barpolar": [
           {
            "marker": {
             "line": {
              "color": "#E5ECF6",
              "width": 0.5
             },
             "pattern": {
              "fillmode": "overlay",
              "size": 10,
              "solidity": 0.2
             }
            },
            "type": "barpolar"
           }
          ],
          "carpet": [
           {
            "aaxis": {
             "endlinecolor": "#2a3f5f",
             "gridcolor": "white",
             "linecolor": "white",
             "minorgridcolor": "white",
             "startlinecolor": "#2a3f5f"
            },
            "baxis": {
             "endlinecolor": "#2a3f5f",
             "gridcolor": "white",
             "linecolor": "white",
             "minorgridcolor": "white",
             "startlinecolor": "#2a3f5f"
            },
            "type": "carpet"
           }
          ],
          "choropleth": [
           {
            "colorbar": {
             "outlinewidth": 0,
             "ticks": ""
            },
            "type": "choropleth"
           }
          ],
          "contour": [
           {
            "colorbar": {
             "outlinewidth": 0,
             "ticks": ""
            },
            "colorscale": [
             [
              0,
              "#0d0887"
             ],
             [
              0.1111111111111111,
              "#46039f"
             ],
             [
              0.2222222222222222,
              "#7201a8"
             ],
             [
              0.3333333333333333,
              "#9c179e"
             ],
             [
              0.4444444444444444,
              "#bd3786"
             ],
             [
              0.5555555555555556,
              "#d8576b"
             ],
             [
              0.6666666666666666,
              "#ed7953"
             ],
             [
              0.7777777777777778,
              "#fb9f3a"
             ],
             [
              0.8888888888888888,
              "#fdca26"
             ],
             [
              1,
              "#f0f921"
             ]
            ],
            "type": "contour"
           }
          ],
          "contourcarpet": [
           {
            "colorbar": {
             "outlinewidth": 0,
             "ticks": ""
            },
            "type": "contourcarpet"
           }
          ],
          "heatmap": [
           {
            "colorbar": {
             "outlinewidth": 0,
             "ticks": ""
            },
            "colorscale": [
             [
              0,
              "#0d0887"
             ],
             [
              0.1111111111111111,
              "#46039f"
             ],
             [
              0.2222222222222222,
              "#7201a8"
             ],
             [
              0.3333333333333333,
              "#9c179e"
             ],
             [
              0.4444444444444444,
              "#bd3786"
             ],
             [
              0.5555555555555556,
              "#d8576b"
             ],
             [
              0.6666666666666666,
              "#ed7953"
             ],
             [
              0.7777777777777778,
              "#fb9f3a"
             ],
             [
              0.8888888888888888,
              "#fdca26"
             ],
             [
              1,
              "#f0f921"
             ]
            ],
            "type": "heatmap"
           }
          ],
          "heatmapgl": [
           {
            "colorbar": {
             "outlinewidth": 0,
             "ticks": ""
            },
            "colorscale": [
             [
              0,
              "#0d0887"
             ],
             [
              0.1111111111111111,
              "#46039f"
             ],
             [
              0.2222222222222222,
              "#7201a8"
             ],
             [
              0.3333333333333333,
              "#9c179e"
             ],
             [
              0.4444444444444444,
              "#bd3786"
             ],
             [
              0.5555555555555556,
              "#d8576b"
             ],
             [
              0.6666666666666666,
              "#ed7953"
             ],
             [
              0.7777777777777778,
              "#fb9f3a"
             ],
             [
              0.8888888888888888,
              "#fdca26"
             ],
             [
              1,
              "#f0f921"
             ]
            ],
            "type": "heatmapgl"
           }
          ],
          "histogram": [
           {
            "marker": {
             "pattern": {
              "fillmode": "overlay",
              "size": 10,
              "solidity": 0.2
             }
            },
            "type": "histogram"
           }
          ],
          "histogram2d": [
           {
            "colorbar": {
             "outlinewidth": 0,
             "ticks": ""
            },
            "colorscale": [
             [
              0,
              "#0d0887"
             ],
             [
              0.1111111111111111,
              "#46039f"
             ],
             [
              0.2222222222222222,
              "#7201a8"
             ],
             [
              0.3333333333333333,
              "#9c179e"
             ],
             [
              0.4444444444444444,
              "#bd3786"
             ],
             [
              0.5555555555555556,
              "#d8576b"
             ],
             [
              0.6666666666666666,
              "#ed7953"
             ],
             [
              0.7777777777777778,
              "#fb9f3a"
             ],
             [
              0.8888888888888888,
              "#fdca26"
             ],
             [
              1,
              "#f0f921"
             ]
            ],
            "type": "histogram2d"
           }
          ],
          "histogram2dcontour": [
           {
            "colorbar": {
             "outlinewidth": 0,
             "ticks": ""
            },
            "colorscale": [
             [
              0,
              "#0d0887"
             ],
             [
              0.1111111111111111,
              "#46039f"
             ],
             [
              0.2222222222222222,
              "#7201a8"
             ],
             [
              0.3333333333333333,
              "#9c179e"
             ],
             [
              0.4444444444444444,
              "#bd3786"
             ],
             [
              0.5555555555555556,
              "#d8576b"
             ],
             [
              0.6666666666666666,
              "#ed7953"
             ],
             [
              0.7777777777777778,
              "#fb9f3a"
             ],
             [
              0.8888888888888888,
              "#fdca26"
             ],
             [
              1,
              "#f0f921"
             ]
            ],
            "type": "histogram2dcontour"
           }
          ],
          "mesh3d": [
           {
            "colorbar": {
             "outlinewidth": 0,
             "ticks": ""
            },
            "type": "mesh3d"
           }
          ],
          "parcoords": [
           {
            "line": {
             "colorbar": {
              "outlinewidth": 0,
              "ticks": ""
             }
            },
            "type": "parcoords"
           }
          ],
          "pie": [
           {
            "automargin": true,
            "type": "pie"
           }
          ],
          "scatter": [
           {
            "fillpattern": {
             "fillmode": "overlay",
             "size": 10,
             "solidity": 0.2
            },
            "type": "scatter"
           }
          ],
          "scatter3d": [
           {
            "line": {
             "colorbar": {
              "outlinewidth": 0,
              "ticks": ""
             }
            },
            "marker": {
             "colorbar": {
              "outlinewidth": 0,
              "ticks": ""
             }
            },
            "type": "scatter3d"
           }
          ],
          "scattercarpet": [
           {
            "marker": {
             "colorbar": {
              "outlinewidth": 0,
              "ticks": ""
             }
            },
            "type": "scattercarpet"
           }
          ],
          "scattergeo": [
           {
            "marker": {
             "colorbar": {
              "outlinewidth": 0,
              "ticks": ""
             }
            },
            "type": "scattergeo"
           }
          ],
          "scattergl": [
           {
            "marker": {
             "colorbar": {
              "outlinewidth": 0,
              "ticks": ""
             }
            },
            "type": "scattergl"
           }
          ],
          "scattermapbox": [
           {
            "marker": {
             "colorbar": {
              "outlinewidth": 0,
              "ticks": ""
             }
            },
            "type": "scattermapbox"
           }
          ],
          "scatterpolar": [
           {
            "marker": {
             "colorbar": {
              "outlinewidth": 0,
              "ticks": ""
             }
            },
            "type": "scatterpolar"
           }
          ],
          "scatterpolargl": [
           {
            "marker": {
             "colorbar": {
              "outlinewidth": 0,
              "ticks": ""
             }
            },
            "type": "scatterpolargl"
           }
          ],
          "scatterternary": [
           {
            "marker": {
             "colorbar": {
              "outlinewidth": 0,
              "ticks": ""
             }
            },
            "type": "scatterternary"
           }
          ],
          "surface": [
           {
            "colorbar": {
             "outlinewidth": 0,
             "ticks": ""
            },
            "colorscale": [
             [
              0,
              "#0d0887"
             ],
             [
              0.1111111111111111,
              "#46039f"
             ],
             [
              0.2222222222222222,
              "#7201a8"
             ],
             [
              0.3333333333333333,
              "#9c179e"
             ],
             [
              0.4444444444444444,
              "#bd3786"
             ],
             [
              0.5555555555555556,
              "#d8576b"
             ],
             [
              0.6666666666666666,
              "#ed7953"
             ],
             [
              0.7777777777777778,
              "#fb9f3a"
             ],
             [
              0.8888888888888888,
              "#fdca26"
             ],
             [
              1,
              "#f0f921"
             ]
            ],
            "type": "surface"
           }
          ],
          "table": [
           {
            "cells": {
             "fill": {
              "color": "#EBF0F8"
             },
             "line": {
              "color": "white"
             }
            },
            "header": {
             "fill": {
              "color": "#C8D4E3"
             },
             "line": {
              "color": "white"
             }
            },
            "type": "table"
           }
          ]
         },
         "layout": {
          "annotationdefaults": {
           "arrowcolor": "#2a3f5f",
           "arrowhead": 0,
           "arrowwidth": 1
          },
          "autotypenumbers": "strict",
          "coloraxis": {
           "colorbar": {
            "outlinewidth": 0,
            "ticks": ""
           }
          },
          "colorscale": {
           "diverging": [
            [
             0,
             "#8e0152"
            ],
            [
             0.1,
             "#c51b7d"
            ],
            [
             0.2,
             "#de77ae"
            ],
            [
             0.3,
             "#f1b6da"
            ],
            [
             0.4,
             "#fde0ef"
            ],
            [
             0.5,
             "#f7f7f7"
            ],
            [
             0.6,
             "#e6f5d0"
            ],
            [
             0.7,
             "#b8e186"
            ],
            [
             0.8,
             "#7fbc41"
            ],
            [
             0.9,
             "#4d9221"
            ],
            [
             1,
             "#276419"
            ]
           ],
           "sequential": [
            [
             0,
             "#0d0887"
            ],
            [
             0.1111111111111111,
             "#46039f"
            ],
            [
             0.2222222222222222,
             "#7201a8"
            ],
            [
             0.3333333333333333,
             "#9c179e"
            ],
            [
             0.4444444444444444,
             "#bd3786"
            ],
            [
             0.5555555555555556,
             "#d8576b"
            ],
            [
             0.6666666666666666,
             "#ed7953"
            ],
            [
             0.7777777777777778,
             "#fb9f3a"
            ],
            [
             0.8888888888888888,
             "#fdca26"
            ],
            [
             1,
             "#f0f921"
            ]
           ],
           "sequentialminus": [
            [
             0,
             "#0d0887"
            ],
            [
             0.1111111111111111,
             "#46039f"
            ],
            [
             0.2222222222222222,
             "#7201a8"
            ],
            [
             0.3333333333333333,
             "#9c179e"
            ],
            [
             0.4444444444444444,
             "#bd3786"
            ],
            [
             0.5555555555555556,
             "#d8576b"
            ],
            [
             0.6666666666666666,
             "#ed7953"
            ],
            [
             0.7777777777777778,
             "#fb9f3a"
            ],
            [
             0.8888888888888888,
             "#fdca26"
            ],
            [
             1,
             "#f0f921"
            ]
           ]
          },
          "colorway": [
           "#636efa",
           "#EF553B",
           "#00cc96",
           "#ab63fa",
           "#FFA15A",
           "#19d3f3",
           "#FF6692",
           "#B6E880",
           "#FF97FF",
           "#FECB52"
          ],
          "font": {
           "color": "#2a3f5f"
          },
          "geo": {
           "bgcolor": "white",
           "lakecolor": "white",
           "landcolor": "#E5ECF6",
           "showlakes": true,
           "showland": true,
           "subunitcolor": "white"
          },
          "hoverlabel": {
           "align": "left"
          },
          "hovermode": "closest",
          "mapbox": {
           "style": "light"
          },
          "paper_bgcolor": "white",
          "plot_bgcolor": "#E5ECF6",
          "polar": {
           "angularaxis": {
            "gridcolor": "white",
            "linecolor": "white",
            "ticks": ""
           },
           "bgcolor": "#E5ECF6",
           "radialaxis": {
            "gridcolor": "white",
            "linecolor": "white",
            "ticks": ""
           }
          },
          "scene": {
           "xaxis": {
            "backgroundcolor": "#E5ECF6",
            "gridcolor": "white",
            "gridwidth": 2,
            "linecolor": "white",
            "showbackground": true,
            "ticks": "",
            "zerolinecolor": "white"
           },
           "yaxis": {
            "backgroundcolor": "#E5ECF6",
            "gridcolor": "white",
            "gridwidth": 2,
            "linecolor": "white",
            "showbackground": true,
            "ticks": "",
            "zerolinecolor": "white"
           },
           "zaxis": {
            "backgroundcolor": "#E5ECF6",
            "gridcolor": "white",
            "gridwidth": 2,
            "linecolor": "white",
            "showbackground": true,
            "ticks": "",
            "zerolinecolor": "white"
           }
          },
          "shapedefaults": {
           "line": {
            "color": "#2a3f5f"
           }
          },
          "ternary": {
           "aaxis": {
            "gridcolor": "white",
            "linecolor": "white",
            "ticks": ""
           },
           "baxis": {
            "gridcolor": "white",
            "linecolor": "white",
            "ticks": ""
           },
           "bgcolor": "#E5ECF6",
           "caxis": {
            "gridcolor": "white",
            "linecolor": "white",
            "ticks": ""
           }
          },
          "title": {
           "x": 0.05
          },
          "xaxis": {
           "automargin": true,
           "gridcolor": "white",
           "linecolor": "white",
           "ticks": "",
           "title": {
            "standoff": 15
           },
           "zerolinecolor": "white",
           "zerolinewidth": 2
          },
          "yaxis": {
           "automargin": true,
           "gridcolor": "white",
           "linecolor": "white",
           "ticks": "",
           "title": {
            "standoff": 15
           },
           "zerolinecolor": "white",
           "zerolinewidth": 2
          }
         }
        },
        "title": {
         "text": "Sankey Diagram for net_gross_booking_usd"
        }
       }
      }
     },
     "metadata": {},
     "output_type": "display_data"
    }
   ],
   "source": [
    "sankey_tree_chart = SankeyTree(\n",
    "    dataframe=df_agg,\n",
    "    metric=\"net_gross_booking_usd\",\n",
    "    root_nodes_col=\"mobile\",\n",
    "    sequence_cols=[\"platform\", \"year\"]\n",
    ")\n",
    "\n",
    "sankey_tree_chart.plot()"
   ]
  },
  {
   "cell_type": "code",
   "execution_count": 27,
   "metadata": {},
   "outputs": [
    {
     "data": {
      "application/vnd.plotly.v1+json": {
       "config": {
        "plotlyServerURL": "https://plot.ly"
       },
       "data": [
        {
         "link": {
          "color": [
           "rgba(31, 119, 180, 0.25)",
           "rgba(31, 119, 180, 0.25)",
           "rgba(31, 119, 180, 0.25)",
           "rgba(148, 103, 189, 0.25)",
           "rgba(148, 103, 189, 0.25)",
           "rgba(148, 103, 189, 0.25)",
           "rgba(255, 127, 14, 0.25)",
           "rgba(44, 160, 44, 0.25)",
           "rgba(214, 39, 40, 0.25)"
          ],
          "source": [
           0,
           0,
           0,
           4,
           4,
           4,
           1,
           2,
           3
          ],
          "target": [
           1,
           2,
           3,
           1,
           2,
           3,
           5,
           6,
           6
          ],
          "value": [
           320188702.7446999,
           38220543.062978,
           60569300.891499996,
           348996577.765,
           66363356.24399999,
           91450846.63369998,
           669185280.5096998,
           104583899.30697799,
           152020147.52519998
          ]
         },
         "node": {
          "color": [
           "rgba(31, 119, 180, 0.25)",
           "rgba(255, 127, 14, 0.25)",
           "rgba(44, 160, 44, 0.25)",
           "rgba(214, 39, 40, 0.25)",
           "rgba(148, 103, 189, 0.25)",
           "rgba(140, 86, 75, 0.25)",
           "rgba(227, 119, 194, 0.25)"
          ],
          "label": [
           "year: 2022",
           "platform: Desktop",
           "platform: Mobile App",
           "platform: Mobile Web",
           "year: 2023",
           "mobile: Desktop",
           "mobile: Mobile"
          ],
          "line": {
           "color": "black",
           "width": 0.5
          },
          "pad": 15,
          "thickness": 20
         },
         "type": "sankey"
        }
       ],
       "layout": {
        "font": {
         "size": 10
        },
        "template": {
         "data": {
          "bar": [
           {
            "error_x": {
             "color": "#2a3f5f"
            },
            "error_y": {
             "color": "#2a3f5f"
            },
            "marker": {
             "line": {
              "color": "#E5ECF6",
              "width": 0.5
             },
             "pattern": {
              "fillmode": "overlay",
              "size": 10,
              "solidity": 0.2
             }
            },
            "type": "bar"
           }
          ],
          "barpolar": [
           {
            "marker": {
             "line": {
              "color": "#E5ECF6",
              "width": 0.5
             },
             "pattern": {
              "fillmode": "overlay",
              "size": 10,
              "solidity": 0.2
             }
            },
            "type": "barpolar"
           }
          ],
          "carpet": [
           {
            "aaxis": {
             "endlinecolor": "#2a3f5f",
             "gridcolor": "white",
             "linecolor": "white",
             "minorgridcolor": "white",
             "startlinecolor": "#2a3f5f"
            },
            "baxis": {
             "endlinecolor": "#2a3f5f",
             "gridcolor": "white",
             "linecolor": "white",
             "minorgridcolor": "white",
             "startlinecolor": "#2a3f5f"
            },
            "type": "carpet"
           }
          ],
          "choropleth": [
           {
            "colorbar": {
             "outlinewidth": 0,
             "ticks": ""
            },
            "type": "choropleth"
           }
          ],
          "contour": [
           {
            "colorbar": {
             "outlinewidth": 0,
             "ticks": ""
            },
            "colorscale": [
             [
              0,
              "#0d0887"
             ],
             [
              0.1111111111111111,
              "#46039f"
             ],
             [
              0.2222222222222222,
              "#7201a8"
             ],
             [
              0.3333333333333333,
              "#9c179e"
             ],
             [
              0.4444444444444444,
              "#bd3786"
             ],
             [
              0.5555555555555556,
              "#d8576b"
             ],
             [
              0.6666666666666666,
              "#ed7953"
             ],
             [
              0.7777777777777778,
              "#fb9f3a"
             ],
             [
              0.8888888888888888,
              "#fdca26"
             ],
             [
              1,
              "#f0f921"
             ]
            ],
            "type": "contour"
           }
          ],
          "contourcarpet": [
           {
            "colorbar": {
             "outlinewidth": 0,
             "ticks": ""
            },
            "type": "contourcarpet"
           }
          ],
          "heatmap": [
           {
            "colorbar": {
             "outlinewidth": 0,
             "ticks": ""
            },
            "colorscale": [
             [
              0,
              "#0d0887"
             ],
             [
              0.1111111111111111,
              "#46039f"
             ],
             [
              0.2222222222222222,
              "#7201a8"
             ],
             [
              0.3333333333333333,
              "#9c179e"
             ],
             [
              0.4444444444444444,
              "#bd3786"
             ],
             [
              0.5555555555555556,
              "#d8576b"
             ],
             [
              0.6666666666666666,
              "#ed7953"
             ],
             [
              0.7777777777777778,
              "#fb9f3a"
             ],
             [
              0.8888888888888888,
              "#fdca26"
             ],
             [
              1,
              "#f0f921"
             ]
            ],
            "type": "heatmap"
           }
          ],
          "heatmapgl": [
           {
            "colorbar": {
             "outlinewidth": 0,
             "ticks": ""
            },
            "colorscale": [
             [
              0,
              "#0d0887"
             ],
             [
              0.1111111111111111,
              "#46039f"
             ],
             [
              0.2222222222222222,
              "#7201a8"
             ],
             [
              0.3333333333333333,
              "#9c179e"
             ],
             [
              0.4444444444444444,
              "#bd3786"
             ],
             [
              0.5555555555555556,
              "#d8576b"
             ],
             [
              0.6666666666666666,
              "#ed7953"
             ],
             [
              0.7777777777777778,
              "#fb9f3a"
             ],
             [
              0.8888888888888888,
              "#fdca26"
             ],
             [
              1,
              "#f0f921"
             ]
            ],
            "type": "heatmapgl"
           }
          ],
          "histogram": [
           {
            "marker": {
             "pattern": {
              "fillmode": "overlay",
              "size": 10,
              "solidity": 0.2
             }
            },
            "type": "histogram"
           }
          ],
          "histogram2d": [
           {
            "colorbar": {
             "outlinewidth": 0,
             "ticks": ""
            },
            "colorscale": [
             [
              0,
              "#0d0887"
             ],
             [
              0.1111111111111111,
              "#46039f"
             ],
             [
              0.2222222222222222,
              "#7201a8"
             ],
             [
              0.3333333333333333,
              "#9c179e"
             ],
             [
              0.4444444444444444,
              "#bd3786"
             ],
             [
              0.5555555555555556,
              "#d8576b"
             ],
             [
              0.6666666666666666,
              "#ed7953"
             ],
             [
              0.7777777777777778,
              "#fb9f3a"
             ],
             [
              0.8888888888888888,
              "#fdca26"
             ],
             [
              1,
              "#f0f921"
             ]
            ],
            "type": "histogram2d"
           }
          ],
          "histogram2dcontour": [
           {
            "colorbar": {
             "outlinewidth": 0,
             "ticks": ""
            },
            "colorscale": [
             [
              0,
              "#0d0887"
             ],
             [
              0.1111111111111111,
              "#46039f"
             ],
             [
              0.2222222222222222,
              "#7201a8"
             ],
             [
              0.3333333333333333,
              "#9c179e"
             ],
             [
              0.4444444444444444,
              "#bd3786"
             ],
             [
              0.5555555555555556,
              "#d8576b"
             ],
             [
              0.6666666666666666,
              "#ed7953"
             ],
             [
              0.7777777777777778,
              "#fb9f3a"
             ],
             [
              0.8888888888888888,
              "#fdca26"
             ],
             [
              1,
              "#f0f921"
             ]
            ],
            "type": "histogram2dcontour"
           }
          ],
          "mesh3d": [
           {
            "colorbar": {
             "outlinewidth": 0,
             "ticks": ""
            },
            "type": "mesh3d"
           }
          ],
          "parcoords": [
           {
            "line": {
             "colorbar": {
              "outlinewidth": 0,
              "ticks": ""
             }
            },
            "type": "parcoords"
           }
          ],
          "pie": [
           {
            "automargin": true,
            "type": "pie"
           }
          ],
          "scatter": [
           {
            "fillpattern": {
             "fillmode": "overlay",
             "size": 10,
             "solidity": 0.2
            },
            "type": "scatter"
           }
          ],
          "scatter3d": [
           {
            "line": {
             "colorbar": {
              "outlinewidth": 0,
              "ticks": ""
             }
            },
            "marker": {
             "colorbar": {
              "outlinewidth": 0,
              "ticks": ""
             }
            },
            "type": "scatter3d"
           }
          ],
          "scattercarpet": [
           {
            "marker": {
             "colorbar": {
              "outlinewidth": 0,
              "ticks": ""
             }
            },
            "type": "scattercarpet"
           }
          ],
          "scattergeo": [
           {
            "marker": {
             "colorbar": {
              "outlinewidth": 0,
              "ticks": ""
             }
            },
            "type": "scattergeo"
           }
          ],
          "scattergl": [
           {
            "marker": {
             "colorbar": {
              "outlinewidth": 0,
              "ticks": ""
             }
            },
            "type": "scattergl"
           }
          ],
          "scattermapbox": [
           {
            "marker": {
             "colorbar": {
              "outlinewidth": 0,
              "ticks": ""
             }
            },
            "type": "scattermapbox"
           }
          ],
          "scatterpolar": [
           {
            "marker": {
             "colorbar": {
              "outlinewidth": 0,
              "ticks": ""
             }
            },
            "type": "scatterpolar"
           }
          ],
          "scatterpolargl": [
           {
            "marker": {
             "colorbar": {
              "outlinewidth": 0,
              "ticks": ""
             }
            },
            "type": "scatterpolargl"
           }
          ],
          "scatterternary": [
           {
            "marker": {
             "colorbar": {
              "outlinewidth": 0,
              "ticks": ""
             }
            },
            "type": "scatterternary"
           }
          ],
          "surface": [
           {
            "colorbar": {
             "outlinewidth": 0,
             "ticks": ""
            },
            "colorscale": [
             [
              0,
              "#0d0887"
             ],
             [
              0.1111111111111111,
              "#46039f"
             ],
             [
              0.2222222222222222,
              "#7201a8"
             ],
             [
              0.3333333333333333,
              "#9c179e"
             ],
             [
              0.4444444444444444,
              "#bd3786"
             ],
             [
              0.5555555555555556,
              "#d8576b"
             ],
             [
              0.6666666666666666,
              "#ed7953"
             ],
             [
              0.7777777777777778,
              "#fb9f3a"
             ],
             [
              0.8888888888888888,
              "#fdca26"
             ],
             [
              1,
              "#f0f921"
             ]
            ],
            "type": "surface"
           }
          ],
          "table": [
           {
            "cells": {
             "fill": {
              "color": "#EBF0F8"
             },
             "line": {
              "color": "white"
             }
            },
            "header": {
             "fill": {
              "color": "#C8D4E3"
             },
             "line": {
              "color": "white"
             }
            },
            "type": "table"
           }
          ]
         },
         "layout": {
          "annotationdefaults": {
           "arrowcolor": "#2a3f5f",
           "arrowhead": 0,
           "arrowwidth": 1
          },
          "autotypenumbers": "strict",
          "coloraxis": {
           "colorbar": {
            "outlinewidth": 0,
            "ticks": ""
           }
          },
          "colorscale": {
           "diverging": [
            [
             0,
             "#8e0152"
            ],
            [
             0.1,
             "#c51b7d"
            ],
            [
             0.2,
             "#de77ae"
            ],
            [
             0.3,
             "#f1b6da"
            ],
            [
             0.4,
             "#fde0ef"
            ],
            [
             0.5,
             "#f7f7f7"
            ],
            [
             0.6,
             "#e6f5d0"
            ],
            [
             0.7,
             "#b8e186"
            ],
            [
             0.8,
             "#7fbc41"
            ],
            [
             0.9,
             "#4d9221"
            ],
            [
             1,
             "#276419"
            ]
           ],
           "sequential": [
            [
             0,
             "#0d0887"
            ],
            [
             0.1111111111111111,
             "#46039f"
            ],
            [
             0.2222222222222222,
             "#7201a8"
            ],
            [
             0.3333333333333333,
             "#9c179e"
            ],
            [
             0.4444444444444444,
             "#bd3786"
            ],
            [
             0.5555555555555556,
             "#d8576b"
            ],
            [
             0.6666666666666666,
             "#ed7953"
            ],
            [
             0.7777777777777778,
             "#fb9f3a"
            ],
            [
             0.8888888888888888,
             "#fdca26"
            ],
            [
             1,
             "#f0f921"
            ]
           ],
           "sequentialminus": [
            [
             0,
             "#0d0887"
            ],
            [
             0.1111111111111111,
             "#46039f"
            ],
            [
             0.2222222222222222,
             "#7201a8"
            ],
            [
             0.3333333333333333,
             "#9c179e"
            ],
            [
             0.4444444444444444,
             "#bd3786"
            ],
            [
             0.5555555555555556,
             "#d8576b"
            ],
            [
             0.6666666666666666,
             "#ed7953"
            ],
            [
             0.7777777777777778,
             "#fb9f3a"
            ],
            [
             0.8888888888888888,
             "#fdca26"
            ],
            [
             1,
             "#f0f921"
            ]
           ]
          },
          "colorway": [
           "#636efa",
           "#EF553B",
           "#00cc96",
           "#ab63fa",
           "#FFA15A",
           "#19d3f3",
           "#FF6692",
           "#B6E880",
           "#FF97FF",
           "#FECB52"
          ],
          "font": {
           "color": "#2a3f5f"
          },
          "geo": {
           "bgcolor": "white",
           "lakecolor": "white",
           "landcolor": "#E5ECF6",
           "showlakes": true,
           "showland": true,
           "subunitcolor": "white"
          },
          "hoverlabel": {
           "align": "left"
          },
          "hovermode": "closest",
          "mapbox": {
           "style": "light"
          },
          "paper_bgcolor": "white",
          "plot_bgcolor": "#E5ECF6",
          "polar": {
           "angularaxis": {
            "gridcolor": "white",
            "linecolor": "white",
            "ticks": ""
           },
           "bgcolor": "#E5ECF6",
           "radialaxis": {
            "gridcolor": "white",
            "linecolor": "white",
            "ticks": ""
           }
          },
          "scene": {
           "xaxis": {
            "backgroundcolor": "#E5ECF6",
            "gridcolor": "white",
            "gridwidth": 2,
            "linecolor": "white",
            "showbackground": true,
            "ticks": "",
            "zerolinecolor": "white"
           },
           "yaxis": {
            "backgroundcolor": "#E5ECF6",
            "gridcolor": "white",
            "gridwidth": 2,
            "linecolor": "white",
            "showbackground": true,
            "ticks": "",
            "zerolinecolor": "white"
           },
           "zaxis": {
            "backgroundcolor": "#E5ECF6",
            "gridcolor": "white",
            "gridwidth": 2,
            "linecolor": "white",
            "showbackground": true,
            "ticks": "",
            "zerolinecolor": "white"
           }
          },
          "shapedefaults": {
           "line": {
            "color": "#2a3f5f"
           }
          },
          "ternary": {
           "aaxis": {
            "gridcolor": "white",
            "linecolor": "white",
            "ticks": ""
           },
           "baxis": {
            "gridcolor": "white",
            "linecolor": "white",
            "ticks": ""
           },
           "bgcolor": "#E5ECF6",
           "caxis": {
            "gridcolor": "white",
            "linecolor": "white",
            "ticks": ""
           }
          },
          "title": {
           "x": 0.05
          },
          "xaxis": {
           "automargin": true,
           "gridcolor": "white",
           "linecolor": "white",
           "ticks": "",
           "title": {
            "standoff": 15
           },
           "zerolinecolor": "white",
           "zerolinewidth": 2
          },
          "yaxis": {
           "automargin": true,
           "gridcolor": "white",
           "linecolor": "white",
           "ticks": "",
           "title": {
            "standoff": 15
           },
           "zerolinecolor": "white",
           "zerolinewidth": 2
          }
         }
        },
        "title": {
         "text": "Sankey Diagram for net_gross_booking_usd"
        }
       }
      }
     },
     "metadata": {},
     "output_type": "display_data"
    }
   ],
   "source": [
    "sankey_tree_chart = SankeyTree(\n",
    "    dataframe=df_agg,\n",
    "    metric=\"net_gross_booking_usd\",\n",
    "    root_nodes_col=\"year\",\n",
    "    sequence_cols=[\"platform\", \"mobile\"]\n",
    ")\n",
    "\n",
    "sankey_tree_chart.plot()"
   ]
  },
  {
   "cell_type": "code",
   "execution_count": null,
   "metadata": {},
   "outputs": [],
   "source": []
  }
 ],
 "metadata": {
  "kernelspec": {
   "display_name": "analytics-case-202402-xCF_eS4F-py3.11",
   "language": "python",
   "name": "python3"
  },
  "language_info": {
   "codemirror_mode": {
    "name": "ipython",
    "version": 3
   },
   "file_extension": ".py",
   "mimetype": "text/x-python",
   "name": "python",
   "nbconvert_exporter": "python",
   "pygments_lexer": "ipython3",
   "version": "3.11.1"
  }
 },
 "nbformat": 4,
 "nbformat_minor": 2
}
