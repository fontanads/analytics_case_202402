{
 "cells": [
  {
   "cell_type": "code",
   "execution_count": 10,
   "metadata": {},
   "outputs": [],
   "source": [
    "from etl.dataloader import DataLoader\n",
    "from utils.os_ import get_git_root\n",
    "import os\n",
    "\n",
    "import pandas as pd"
   ]
  },
  {
   "cell_type": "markdown",
   "metadata": {},
   "source": [
    "# Source info to dataset"
   ]
  },
  {
   "cell_type": "code",
   "execution_count": 2,
   "metadata": {},
   "outputs": [],
   "source": [
    "git_root = get_git_root(os.getcwd())\n",
    "path_to_file = os.path.join(git_root, \"raw\")\n",
    "filename = \"Analytics Interview Question_mobile_new_2024.xlsx\""
   ]
  },
  {
   "cell_type": "markdown",
   "metadata": {},
   "source": [
    "# Loading dataset"
   ]
  },
  {
   "cell_type": "code",
   "execution_count": 3,
   "metadata": {},
   "outputs": [],
   "source": [
    "data_loader = DataLoader()\n",
    "df = data_loader.load_data_xlsx_from_tab(\n",
    "    path=os.path.join(path_to_file, filename), \n",
    "    sheet_name=\"Data\")"
   ]
  },
  {
   "cell_type": "markdown",
   "metadata": {},
   "source": [
    "# Raw data inspection"
   ]
  },
  {
   "cell_type": "markdown",
   "metadata": {},
   "source": [
    "## data types and missing values"
   ]
  },
  {
   "cell_type": "code",
   "execution_count": 4,
   "metadata": {},
   "outputs": [
    {
     "name": "stdout",
     "output_type": "stream",
     "text": [
      "<class 'pandas.core.frame.DataFrame'>\n",
      "RangeIndex: 73688 entries, 0 to 73687\n",
      "Data columns (total 9 columns):\n",
      " #   Column                       Non-Null Count  Dtype  \n",
      "---  ------                       --------------  -----  \n",
      " 0   Week                         73688 non-null  object \n",
      " 1   Mobile Indicator Name        73688 non-null  object \n",
      " 2   Platform Type Name           73688 non-null  object \n",
      " 3   Super Region                 53423 non-null  object \n",
      " 4   Country Name                 73688 non-null  object \n",
      " 5   Booking Window Group         73688 non-null  object \n",
      " 6   Property Country             73688 non-null  object \n",
      " 7   Net Gross Booking Value USD  73688 non-null  float64\n",
      " 8   Net Orders                   73688 non-null  int64  \n",
      "dtypes: float64(1), int64(1), object(7)\n",
      "memory usage: 5.1+ MB\n"
     ]
    }
   ],
   "source": [
    "df.info()"
   ]
  },
  {
   "cell_type": "code",
   "execution_count": 6,
   "metadata": {},
   "outputs": [
    {
     "data": {
      "text/plain": [
       "Week                               0\n",
       "Mobile Indicator Name              0\n",
       "Platform Type Name                 0\n",
       "Super Region                   20265\n",
       "Country Name                       0\n",
       "Booking Window Group               0\n",
       "Property Country                   0\n",
       "Net Gross Booking Value USD        0\n",
       "Net Orders                         0\n",
       "dtype: int64"
      ]
     },
     "execution_count": 6,
     "metadata": {},
     "output_type": "execute_result"
    }
   ],
   "source": [
    "df.isna().sum()"
   ]
  },
  {
   "cell_type": "code",
   "execution_count": 83,
   "metadata": {},
   "outputs": [
    {
     "name": "stdout",
     "output_type": "stream",
     "text": [
      "0\n"
     ]
    },
    {
     "data": {
      "text/html": [
       "<div>\n",
       "<style scoped>\n",
       "    .dataframe tbody tr th:only-of-type {\n",
       "        vertical-align: middle;\n",
       "    }\n",
       "\n",
       "    .dataframe tbody tr th {\n",
       "        vertical-align: top;\n",
       "    }\n",
       "\n",
       "    .dataframe thead th {\n",
       "        text-align: right;\n",
       "    }\n",
       "</style>\n",
       "<table border=\"1\" class=\"dataframe\">\n",
       "  <thead>\n",
       "    <tr style=\"text-align: right;\">\n",
       "      <th></th>\n",
       "      <th>Week</th>\n",
       "      <th>Mobile Indicator Name</th>\n",
       "      <th>Platform Type Name</th>\n",
       "      <th>Super Region</th>\n",
       "      <th>Country Name</th>\n",
       "      <th>Booking Window Group</th>\n",
       "      <th>Property Country</th>\n",
       "    </tr>\n",
       "  </thead>\n",
       "  <tbody>\n",
       "  </tbody>\n",
       "</table>\n",
       "</div>"
      ],
      "text/plain": [
       "Empty DataFrame\n",
       "Columns: [Week, Mobile Indicator Name, Platform Type Name, Super Region, Country Name, Booking Window Group, Property Country]\n",
       "Index: []"
      ]
     },
     "execution_count": 83,
     "metadata": {},
     "output_type": "execute_result"
    }
   ],
   "source": [
    "# sanity check: no duplicates in dimensions tuple\n",
    "df_tmp = df.drop(columns=[\"Net Gross Booking Value USD\", \"Net Orders\"]).copy().fillna({\"Super Region\": \"North America\"})\n",
    "print(df_tmp.duplicated().sum())\n",
    "df_tmp[df_tmp.duplicated(keep=False)]"
   ]
  },
  {
   "cell_type": "markdown",
   "metadata": {},
   "source": [
    "## sampling and inspecting rows"
   ]
  },
  {
   "cell_type": "code",
   "execution_count": 5,
   "metadata": {},
   "outputs": [
    {
     "data": {
      "text/html": [
       "<div>\n",
       "<style scoped>\n",
       "    .dataframe tbody tr th:only-of-type {\n",
       "        vertical-align: middle;\n",
       "    }\n",
       "\n",
       "    .dataframe tbody tr th {\n",
       "        vertical-align: top;\n",
       "    }\n",
       "\n",
       "    .dataframe thead th {\n",
       "        text-align: right;\n",
       "    }\n",
       "</style>\n",
       "<table border=\"1\" class=\"dataframe\">\n",
       "  <thead>\n",
       "    <tr style=\"text-align: right;\">\n",
       "      <th></th>\n",
       "      <th>Week</th>\n",
       "      <th>Mobile Indicator Name</th>\n",
       "      <th>Platform Type Name</th>\n",
       "      <th>Super Region</th>\n",
       "      <th>Country Name</th>\n",
       "      <th>Booking Window Group</th>\n",
       "      <th>Property Country</th>\n",
       "      <th>Net Gross Booking Value USD</th>\n",
       "      <th>Net Orders</th>\n",
       "    </tr>\n",
       "  </thead>\n",
       "  <tbody>\n",
       "    <tr>\n",
       "      <th>2285</th>\n",
       "      <td>2022-W45</td>\n",
       "      <td>Desktop</td>\n",
       "      <td>Desktop</td>\n",
       "      <td>EMEA</td>\n",
       "      <td>United Kingdom</td>\n",
       "      <td>15-30 days</td>\n",
       "      <td>Portugal</td>\n",
       "      <td>4456.5019</td>\n",
       "      <td>13</td>\n",
       "    </tr>\n",
       "    <tr>\n",
       "      <th>70053</th>\n",
       "      <td>2023-W48</td>\n",
       "      <td>Mobile</td>\n",
       "      <td>Mobile App</td>\n",
       "      <td>EMEA</td>\n",
       "      <td>United Kingdom</td>\n",
       "      <td>2-3 days</td>\n",
       "      <td>Vietnam</td>\n",
       "      <td>1331.4997</td>\n",
       "      <td>10</td>\n",
       "    </tr>\n",
       "    <tr>\n",
       "      <th>3704</th>\n",
       "      <td>2022-W45</td>\n",
       "      <td>Desktop</td>\n",
       "      <td>Desktop</td>\n",
       "      <td>NaN</td>\n",
       "      <td>US</td>\n",
       "      <td>61-90 days</td>\n",
       "      <td>Mexico</td>\n",
       "      <td>56513.8638</td>\n",
       "      <td>99</td>\n",
       "    </tr>\n",
       "    <tr>\n",
       "      <th>11171</th>\n",
       "      <td>2022-W46</td>\n",
       "      <td>Desktop</td>\n",
       "      <td>Desktop</td>\n",
       "      <td>LATAM</td>\n",
       "      <td>Brazil</td>\n",
       "      <td>46-60 days</td>\n",
       "      <td>Brazil</td>\n",
       "      <td>133558.6414</td>\n",
       "      <td>222</td>\n",
       "    </tr>\n",
       "    <tr>\n",
       "      <th>60824</th>\n",
       "      <td>2023-W47</td>\n",
       "      <td>Mobile</td>\n",
       "      <td>Mobile App</td>\n",
       "      <td>NaN</td>\n",
       "      <td>US</td>\n",
       "      <td>8-14 days</td>\n",
       "      <td>Montenegro</td>\n",
       "      <td>145.8645</td>\n",
       "      <td>1</td>\n",
       "    </tr>\n",
       "    <tr>\n",
       "      <th>38824</th>\n",
       "      <td>2023-W45</td>\n",
       "      <td>Mobile</td>\n",
       "      <td>Mobile App</td>\n",
       "      <td>APAC</td>\n",
       "      <td>Hong Kong</td>\n",
       "      <td>+90 days</td>\n",
       "      <td>Macau</td>\n",
       "      <td>146.4924</td>\n",
       "      <td>-1</td>\n",
       "    </tr>\n",
       "    <tr>\n",
       "      <th>31567</th>\n",
       "      <td>2022-W48</td>\n",
       "      <td>Mobile</td>\n",
       "      <td>Mobile Web</td>\n",
       "      <td>APAC</td>\n",
       "      <td>South Korea</td>\n",
       "      <td>8-14 days</td>\n",
       "      <td>Cyprus</td>\n",
       "      <td>245.8080</td>\n",
       "      <td>1</td>\n",
       "    </tr>\n",
       "    <tr>\n",
       "      <th>21982</th>\n",
       "      <td>2022-W47</td>\n",
       "      <td>Mobile</td>\n",
       "      <td>Mobile App</td>\n",
       "      <td>EMEA</td>\n",
       "      <td>Norway</td>\n",
       "      <td>2-3 days</td>\n",
       "      <td>Iceland</td>\n",
       "      <td>134.4465</td>\n",
       "      <td>1</td>\n",
       "    </tr>\n",
       "    <tr>\n",
       "      <th>9229</th>\n",
       "      <td>2022-W46</td>\n",
       "      <td>Desktop</td>\n",
       "      <td>Desktop</td>\n",
       "      <td>APAC</td>\n",
       "      <td>South Korea</td>\n",
       "      <td>46-60 days</td>\n",
       "      <td>Palau</td>\n",
       "      <td>-352.4880</td>\n",
       "      <td>-1</td>\n",
       "    </tr>\n",
       "    <tr>\n",
       "      <th>33554</th>\n",
       "      <td>2022-W48</td>\n",
       "      <td>Mobile</td>\n",
       "      <td>Mobile Web</td>\n",
       "      <td>NaN</td>\n",
       "      <td>US</td>\n",
       "      <td>8-14 days</td>\n",
       "      <td>South Korea</td>\n",
       "      <td>-338.1200</td>\n",
       "      <td>3</td>\n",
       "    </tr>\n",
       "  </tbody>\n",
       "</table>\n",
       "</div>"
      ],
      "text/plain": [
       "           Week Mobile Indicator Name Platform Type Name Super Region  \\\n",
       "2285   2022-W45               Desktop            Desktop         EMEA   \n",
       "70053  2023-W48                Mobile         Mobile App         EMEA   \n",
       "3704   2022-W45               Desktop            Desktop          NaN   \n",
       "11171  2022-W46               Desktop            Desktop        LATAM   \n",
       "60824  2023-W47                Mobile         Mobile App          NaN   \n",
       "38824  2023-W45                Mobile         Mobile App         APAC   \n",
       "31567  2022-W48                Mobile         Mobile Web         APAC   \n",
       "21982  2022-W47                Mobile         Mobile App         EMEA   \n",
       "9229   2022-W46               Desktop            Desktop         APAC   \n",
       "33554  2022-W48                Mobile         Mobile Web          NaN   \n",
       "\n",
       "         Country Name Booking Window Group Property Country  \\\n",
       "2285   United Kingdom           15-30 days         Portugal   \n",
       "70053  United Kingdom             2-3 days          Vietnam   \n",
       "3704               US           61-90 days           Mexico   \n",
       "11171          Brazil           46-60 days           Brazil   \n",
       "60824              US            8-14 days       Montenegro   \n",
       "38824       Hong Kong             +90 days            Macau   \n",
       "31567     South Korea            8-14 days           Cyprus   \n",
       "21982          Norway             2-3 days          Iceland   \n",
       "9229      South Korea           46-60 days            Palau   \n",
       "33554              US            8-14 days      South Korea   \n",
       "\n",
       "       Net Gross Booking Value USD  Net Orders  \n",
       "2285                     4456.5019          13  \n",
       "70053                    1331.4997          10  \n",
       "3704                    56513.8638          99  \n",
       "11171                  133558.6414         222  \n",
       "60824                     145.8645           1  \n",
       "38824                     146.4924          -1  \n",
       "31567                     245.8080           1  \n",
       "21982                     134.4465           1  \n",
       "9229                     -352.4880          -1  \n",
       "33554                    -338.1200           3  "
      ]
     },
     "execution_count": 5,
     "metadata": {},
     "output_type": "execute_result"
    }
   ],
   "source": [
    "df.sample(10)"
   ]
  },
  {
   "cell_type": "markdown",
   "metadata": {},
   "source": [
    "## checking unique values"
   ]
  },
  {
   "cell_type": "code",
   "execution_count": 12,
   "metadata": {},
   "outputs": [],
   "source": [
    "def return_series_of_unique_values(s: pd.Series):\n",
    "    return pd.Series(s.unique()).sort_values()"
   ]
  },
  {
   "cell_type": "code",
   "execution_count": 13,
   "metadata": {},
   "outputs": [
    {
     "data": {
      "text/plain": [
       "0    2022-W45\n",
       "1    2022-W46\n",
       "2    2022-W47\n",
       "3    2022-W48\n",
       "4    2023-W45\n",
       "5    2023-W46\n",
       "6    2023-W47\n",
       "7    2023-W48\n",
       "dtype: object"
      ]
     },
     "execution_count": 13,
     "metadata": {},
     "output_type": "execute_result"
    }
   ],
   "source": [
    "weeks = return_series_of_unique_values(df[\"Week\"])\n",
    "weeks"
   ]
  },
  {
   "cell_type": "code",
   "execution_count": 14,
   "metadata": {},
   "outputs": [
    {
     "data": {
      "text/plain": [
       "0    Desktop\n",
       "1     Mobile\n",
       "dtype: object"
      ]
     },
     "execution_count": 14,
     "metadata": {},
     "output_type": "execute_result"
    }
   ],
   "source": [
    "devices = weeks = return_series_of_unique_values(df[\"Mobile Indicator Name\"])\n",
    "devices"
   ]
  },
  {
   "cell_type": "code",
   "execution_count": 15,
   "metadata": {},
   "outputs": [
    {
     "data": {
      "text/plain": [
       "0       Desktop\n",
       "1    Mobile App\n",
       "2    Mobile Web\n",
       "dtype: object"
      ]
     },
     "execution_count": 15,
     "metadata": {},
     "output_type": "execute_result"
    }
   ],
   "source": [
    "platforms = weeks = return_series_of_unique_values(df[\"Platform Type Name\"])\n",
    "platforms"
   ]
  },
  {
   "cell_type": "code",
   "execution_count": 16,
   "metadata": {},
   "outputs": [
    {
     "data": {
      "text/html": [
       "<div>\n",
       "<style scoped>\n",
       "    .dataframe tbody tr th:only-of-type {\n",
       "        vertical-align: middle;\n",
       "    }\n",
       "\n",
       "    .dataframe tbody tr th {\n",
       "        vertical-align: top;\n",
       "    }\n",
       "\n",
       "    .dataframe thead th {\n",
       "        text-align: right;\n",
       "    }\n",
       "</style>\n",
       "<table border=\"1\" class=\"dataframe\">\n",
       "  <thead>\n",
       "    <tr style=\"text-align: right;\">\n",
       "      <th></th>\n",
       "      <th>Mobile Indicator Name</th>\n",
       "      <th>Platform Type Name</th>\n",
       "    </tr>\n",
       "  </thead>\n",
       "  <tbody>\n",
       "    <tr>\n",
       "      <th>0</th>\n",
       "      <td>Desktop</td>\n",
       "      <td>Desktop</td>\n",
       "    </tr>\n",
       "    <tr>\n",
       "      <th>4181</th>\n",
       "      <td>Mobile</td>\n",
       "      <td>Mobile App</td>\n",
       "    </tr>\n",
       "    <tr>\n",
       "      <th>6141</th>\n",
       "      <td>Mobile</td>\n",
       "      <td>Mobile Web</td>\n",
       "    </tr>\n",
       "  </tbody>\n",
       "</table>\n",
       "</div>"
      ],
      "text/plain": [
       "     Mobile Indicator Name Platform Type Name\n",
       "0                  Desktop            Desktop\n",
       "4181                Mobile         Mobile App\n",
       "6141                Mobile         Mobile Web"
      ]
     },
     "execution_count": 16,
     "metadata": {},
     "output_type": "execute_result"
    }
   ],
   "source": [
    "# sanity check\n",
    "df[[\"Mobile Indicator Name\", \"Platform Type Name\"]].drop_duplicates()"
   ]
  },
  {
   "cell_type": "code",
   "execution_count": 36,
   "metadata": {},
   "outputs": [
    {
     "data": {
      "text/plain": [
       "Mobile Indicator Name  Platform Type Name\n",
       "Desktop                Desktop               35048\n",
       "Mobile                 Mobile Web            19852\n",
       "                       Mobile App            18788\n",
       "Name: count, dtype: int64"
      ]
     },
     "execution_count": 36,
     "metadata": {},
     "output_type": "execute_result"
    }
   ],
   "source": [
    "df[[\"Mobile Indicator Name\", \"Platform Type Name\"]].value_counts()"
   ]
  },
  {
   "cell_type": "code",
   "execution_count": 17,
   "metadata": {},
   "outputs": [
    {
     "data": {
      "text/plain": [
       "0     APAC\n",
       "1     EMEA\n",
       "2    LATAM\n",
       "3      NaN\n",
       "dtype: object"
      ]
     },
     "execution_count": 17,
     "metadata": {},
     "output_type": "execute_result"
    }
   ],
   "source": [
    "super_regions = return_series_of_unique_values(df[\"Super Region\"])\n",
    "super_regions"
   ]
  },
  {
   "cell_type": "code",
   "execution_count": 35,
   "metadata": {},
   "outputs": [
    {
     "data": {
      "text/plain": [
       "Super Region\n",
       "APAC     23805\n",
       "EMEA     23477\n",
       "NA       20265\n",
       "LATAM     6141\n",
       "Name: count, dtype: int64"
      ]
     },
     "execution_count": 35,
     "metadata": {},
     "output_type": "execute_result"
    }
   ],
   "source": [
    "df[\"Super Region\"].fillna(\"NA\").value_counts()"
   ]
  },
  {
   "cell_type": "code",
   "execution_count": 18,
   "metadata": {},
   "outputs": [
    {
     "data": {
      "text/plain": [
       "0    US\n",
       "dtype: object"
      ]
     },
     "execution_count": 18,
     "metadata": {},
     "output_type": "execute_result"
    }
   ],
   "source": [
    "countries_missing_super_region = return_series_of_unique_values(df[df[\"Super Region\"].isna()][\"Country Name\"])\n",
    "countries_missing_super_region"
   ]
  },
  {
   "cell_type": "code",
   "execution_count": 20,
   "metadata": {},
   "outputs": [
    {
     "data": {
      "text/plain": [
       "0         Australia\n",
       "1            Brazil\n",
       "2         Hong Kong\n",
       "3            Norway\n",
       "4       South Korea\n",
       "5                US\n",
       "6    United Kingdom\n",
       "dtype: object"
      ]
     },
     "execution_count": 20,
     "metadata": {},
     "output_type": "execute_result"
    }
   ],
   "source": [
    "countries = return_series_of_unique_values(df[\"Country Name\"]).reset_index(drop=True)\n",
    "countries"
   ]
  },
  {
   "cell_type": "code",
   "execution_count": 23,
   "metadata": {},
   "outputs": [
    {
     "data": {
      "text/html": [
       "<div>\n",
       "<style scoped>\n",
       "    .dataframe tbody tr th:only-of-type {\n",
       "        vertical-align: middle;\n",
       "    }\n",
       "\n",
       "    .dataframe tbody tr th {\n",
       "        vertical-align: top;\n",
       "    }\n",
       "\n",
       "    .dataframe thead th {\n",
       "        text-align: right;\n",
       "    }\n",
       "</style>\n",
       "<table border=\"1\" class=\"dataframe\">\n",
       "  <thead>\n",
       "    <tr style=\"text-align: right;\">\n",
       "      <th></th>\n",
       "      <th>Super Region</th>\n",
       "      <th>Country Name</th>\n",
       "    </tr>\n",
       "  </thead>\n",
       "  <tbody>\n",
       "    <tr>\n",
       "      <th>1</th>\n",
       "      <td>APAC</td>\n",
       "      <td>Australia</td>\n",
       "    </tr>\n",
       "    <tr>\n",
       "      <th>2</th>\n",
       "      <td>APAC</td>\n",
       "      <td>Hong Kong</td>\n",
       "    </tr>\n",
       "    <tr>\n",
       "      <th>0</th>\n",
       "      <td>APAC</td>\n",
       "      <td>South Korea</td>\n",
       "    </tr>\n",
       "    <tr>\n",
       "      <th>4</th>\n",
       "      <td>EMEA</td>\n",
       "      <td>Norway</td>\n",
       "    </tr>\n",
       "    <tr>\n",
       "      <th>3</th>\n",
       "      <td>EMEA</td>\n",
       "      <td>United Kingdom</td>\n",
       "    </tr>\n",
       "    <tr>\n",
       "      <th>5</th>\n",
       "      <td>LATAM</td>\n",
       "      <td>Brazil</td>\n",
       "    </tr>\n",
       "    <tr>\n",
       "      <th>6</th>\n",
       "      <td>NaN</td>\n",
       "      <td>US</td>\n",
       "    </tr>\n",
       "  </tbody>\n",
       "</table>\n",
       "</div>"
      ],
      "text/plain": [
       "  Super Region    Country Name\n",
       "1         APAC       Australia\n",
       "2         APAC       Hong Kong\n",
       "0         APAC     South Korea\n",
       "4         EMEA          Norway\n",
       "3         EMEA  United Kingdom\n",
       "5        LATAM          Brazil\n",
       "6          NaN              US"
      ]
     },
     "execution_count": 23,
     "metadata": {},
     "output_type": "execute_result"
    }
   ],
   "source": [
    "# sanity check\n",
    "df[[\"Super Region\", \"Country Name\"]].drop_duplicates().reset_index(drop=True).sort_values(by=[\"Super Region\", \"Country Name\"])"
   ]
  },
  {
   "cell_type": "code",
   "execution_count": 25,
   "metadata": {},
   "outputs": [
    {
     "data": {
      "text/plain": [
       "0             Albania\n",
       "1             Algeria\n",
       "2      American Samoa\n",
       "3             Andorra\n",
       "4              Angola\n",
       "            ...      \n",
       "201           Vanuatu\n",
       "202         Venezuela\n",
       "203           Vietnam\n",
       "204            Zambia\n",
       "205          Zimbabwe\n",
       "Length: 206, dtype: object"
      ]
     },
     "execution_count": 25,
     "metadata": {},
     "output_type": "execute_result"
    }
   ],
   "source": [
    "destination_country = return_series_of_unique_values(df[\"Property Country\"]).reset_index(drop=True)\n",
    "destination_country"
   ]
  },
  {
   "cell_type": "code",
   "execution_count": 31,
   "metadata": {},
   "outputs": [
    {
     "data": {
      "text/plain": [
       "Super Region   Property Country        \n",
       "APAC           Thailand                    646\n",
       "               United States of America    642\n",
       "               Japan                       640\n",
       "               Australia                   637\n",
       "               United Kingdom              616\n",
       "               Singapore                   615\n",
       "EMEA           United States of America    434\n",
       "               United Kingdom              433\n",
       "               Spain & Canary Islands      431\n",
       "               Thailand                    430\n",
       "               Germany                     424\n",
       "               France                      411\n",
       "LATAM          Brazil                      216\n",
       "               United States of America    216\n",
       "               Italy                       202\n",
       "               Argentina                   200\n",
       "               Uruguay                     195\n",
       "               France                      194\n",
       "North America  United States of America    238\n",
       "               Canada                      221\n",
       "               Mexico                      221\n",
       "               Dominican Republic          217\n",
       "               Australia                   216\n",
       "               Costa Rica                  216\n",
       "Name: count, dtype: int64"
      ]
     },
     "execution_count": 31,
     "metadata": {},
     "output_type": "execute_result"
    }
   ],
   "source": [
    "df[[\"Super Region\", \"Property Country\"]]\\\n",
    "    .fillna({\"Super Region\": \"North America\"})\\\n",
    "    .groupby(\"Super Region\")[\"Property Country\"]\\\n",
    "    .value_counts().groupby(level=0).head(6)"
   ]
  },
  {
   "cell_type": "code",
   "execution_count": 32,
   "metadata": {},
   "outputs": [
    {
     "data": {
      "text/plain": [
       "0      +90 days\n",
       "1      0-1 days\n",
       "2    15-30 days\n",
       "3      2-3 days\n",
       "4    31-45 days\n",
       "5      4-7 days\n",
       "6    46-60 days\n",
       "7    61-90 days\n",
       "8     8-14 days\n",
       "9     Post Book\n",
       "dtype: object"
      ]
     },
     "execution_count": 32,
     "metadata": {},
     "output_type": "execute_result"
    }
   ],
   "source": [
    "booking_window_group = return_series_of_unique_values(df[\"Booking Window Group\"]).reset_index(drop=True)\n",
    "booking_window_group"
   ]
  },
  {
   "cell_type": "code",
   "execution_count": 34,
   "metadata": {},
   "outputs": [
    {
     "data": {
      "text/plain": [
       "Booking Window Group\n",
       "0-1 days      9331\n",
       "15-30 days    9080\n",
       "+90 days      8529\n",
       "8-14 days     8243\n",
       "4-7 days      8175\n",
       "31-45 days    8084\n",
       "2-3 days      8018\n",
       "46-60 days    7131\n",
       "61-90 days    7057\n",
       "Post Book       40\n",
       "Name: count, dtype: int64"
      ]
     },
     "execution_count": 34,
     "metadata": {},
     "output_type": "execute_result"
    }
   ],
   "source": [
    "df[\"Booking Window Group\"].value_counts()"
   ]
  },
  {
   "cell_type": "code",
   "execution_count": 38,
   "metadata": {},
   "outputs": [
    {
     "data": {
      "text/html": [
       "<div>\n",
       "<style scoped>\n",
       "    .dataframe tbody tr th:only-of-type {\n",
       "        vertical-align: middle;\n",
       "    }\n",
       "\n",
       "    .dataframe tbody tr th {\n",
       "        vertical-align: top;\n",
       "    }\n",
       "\n",
       "    .dataframe thead th {\n",
       "        text-align: right;\n",
       "    }\n",
       "</style>\n",
       "<table border=\"1\" class=\"dataframe\">\n",
       "  <thead>\n",
       "    <tr style=\"text-align: right;\">\n",
       "      <th></th>\n",
       "      <th>Net Gross Booking Value USD</th>\n",
       "      <th>Net Orders</th>\n",
       "    </tr>\n",
       "  </thead>\n",
       "  <tbody>\n",
       "    <tr>\n",
       "      <th>count</th>\n",
       "      <td>7.368800e+04</td>\n",
       "      <td>73688.000000</td>\n",
       "    </tr>\n",
       "    <tr>\n",
       "      <th>mean</th>\n",
       "      <td>1.274363e+04</td>\n",
       "      <td>47.954606</td>\n",
       "    </tr>\n",
       "    <tr>\n",
       "      <th>std</th>\n",
       "      <td>2.072294e+05</td>\n",
       "      <td>991.128900</td>\n",
       "    </tr>\n",
       "    <tr>\n",
       "      <th>min</th>\n",
       "      <td>-9.689693e+04</td>\n",
       "      <td>-50.000000</td>\n",
       "    </tr>\n",
       "    <tr>\n",
       "      <th>25%</th>\n",
       "      <td>2.158794e+02</td>\n",
       "      <td>1.000000</td>\n",
       "    </tr>\n",
       "    <tr>\n",
       "      <th>50%</th>\n",
       "      <td>8.575607e+02</td>\n",
       "      <td>2.000000</td>\n",
       "    </tr>\n",
       "    <tr>\n",
       "      <th>75%</th>\n",
       "      <td>3.198414e+03</td>\n",
       "      <td>8.000000</td>\n",
       "    </tr>\n",
       "    <tr>\n",
       "      <th>max</th>\n",
       "      <td>1.166149e+07</td>\n",
       "      <td>63230.000000</td>\n",
       "    </tr>\n",
       "  </tbody>\n",
       "</table>\n",
       "</div>"
      ],
      "text/plain": [
       "       Net Gross Booking Value USD    Net Orders\n",
       "count                 7.368800e+04  73688.000000\n",
       "mean                  1.274363e+04     47.954606\n",
       "std                   2.072294e+05    991.128900\n",
       "min                  -9.689693e+04    -50.000000\n",
       "25%                   2.158794e+02      1.000000\n",
       "50%                   8.575607e+02      2.000000\n",
       "75%                   3.198414e+03      8.000000\n",
       "max                   1.166149e+07  63230.000000"
      ]
     },
     "execution_count": 38,
     "metadata": {},
     "output_type": "execute_result"
    }
   ],
   "source": [
    "df[[\"Net Gross Booking Value USD\", \"Net Orders\"]].describe()"
   ]
  },
  {
   "cell_type": "code",
   "execution_count": 51,
   "metadata": {},
   "outputs": [
    {
     "data": {
      "text/plain": [
       "6200"
      ]
     },
     "execution_count": 51,
     "metadata": {},
     "output_type": "execute_result"
    }
   ],
   "source": [
    "df[df[\"Net Gross Booking Value USD\"] < 0].shape[0]"
   ]
  },
  {
   "cell_type": "code",
   "execution_count": 41,
   "metadata": {},
   "outputs": [
    {
     "data": {
      "text/plain": [
       "0.0841385300184562"
      ]
     },
     "execution_count": 41,
     "metadata": {},
     "output_type": "execute_result"
    }
   ],
   "source": [
    "df[df[\"Net Gross Booking Value USD\"] < 0].shape[0] / df.shape[0]"
   ]
  },
  {
   "cell_type": "code",
   "execution_count": 44,
   "metadata": {},
   "outputs": [
    {
     "data": {
      "text/plain": [
       "count    6200.000000\n",
       "mean       -0.031452\n",
       "std         3.932132\n",
       "min       -50.000000\n",
       "25%        -1.000000\n",
       "50%        -1.000000\n",
       "75%         0.000000\n",
       "max       110.000000\n",
       "Name: Net Orders, dtype: float64"
      ]
     },
     "execution_count": 44,
     "metadata": {},
     "output_type": "execute_result"
    }
   ],
   "source": [
    "df[df[\"Net Gross Booking Value USD\"] < 0][\"Net Orders\"].describe()"
   ]
  },
  {
   "cell_type": "code",
   "execution_count": 50,
   "metadata": {},
   "outputs": [
    {
     "data": {
      "text/html": [
       "<div>\n",
       "<style scoped>\n",
       "    .dataframe tbody tr th:only-of-type {\n",
       "        vertical-align: middle;\n",
       "    }\n",
       "\n",
       "    .dataframe tbody tr th {\n",
       "        vertical-align: top;\n",
       "    }\n",
       "\n",
       "    .dataframe thead th {\n",
       "        text-align: right;\n",
       "    }\n",
       "</style>\n",
       "<table border=\"1\" class=\"dataframe\">\n",
       "  <thead>\n",
       "    <tr style=\"text-align: right;\">\n",
       "      <th></th>\n",
       "      <th>Week</th>\n",
       "      <th>Mobile Indicator Name</th>\n",
       "      <th>Platform Type Name</th>\n",
       "      <th>Super Region</th>\n",
       "      <th>Country Name</th>\n",
       "      <th>Booking Window Group</th>\n",
       "      <th>Property Country</th>\n",
       "      <th>Net Gross Booking Value USD</th>\n",
       "      <th>Net Orders</th>\n",
       "    </tr>\n",
       "  </thead>\n",
       "  <tbody>\n",
       "    <tr>\n",
       "      <th>3440</th>\n",
       "      <td>2022-W45</td>\n",
       "      <td>Desktop</td>\n",
       "      <td>Desktop</td>\n",
       "      <td>NaN</td>\n",
       "      <td>US</td>\n",
       "      <td>0-1 days</td>\n",
       "      <td>Germany</td>\n",
       "      <td>-21707.4969</td>\n",
       "      <td>110</td>\n",
       "    </tr>\n",
       "    <tr>\n",
       "      <th>3275</th>\n",
       "      <td>2022-W45</td>\n",
       "      <td>Desktop</td>\n",
       "      <td>Desktop</td>\n",
       "      <td>NaN</td>\n",
       "      <td>US</td>\n",
       "      <td>0-1 days</td>\n",
       "      <td>China</td>\n",
       "      <td>-13937.1861</td>\n",
       "      <td>91</td>\n",
       "    </tr>\n",
       "    <tr>\n",
       "      <th>3418</th>\n",
       "      <td>2022-W45</td>\n",
       "      <td>Desktop</td>\n",
       "      <td>Desktop</td>\n",
       "      <td>NaN</td>\n",
       "      <td>US</td>\n",
       "      <td>0-1 days</td>\n",
       "      <td>France</td>\n",
       "      <td>-66789.2746</td>\n",
       "      <td>90</td>\n",
       "    </tr>\n",
       "    <tr>\n",
       "      <th>3974</th>\n",
       "      <td>2022-W45</td>\n",
       "      <td>Desktop</td>\n",
       "      <td>Desktop</td>\n",
       "      <td>NaN</td>\n",
       "      <td>US</td>\n",
       "      <td>0-1 days</td>\n",
       "      <td>Spain &amp; Canary Islands</td>\n",
       "      <td>-5504.0696</td>\n",
       "      <td>74</td>\n",
       "    </tr>\n",
       "    <tr>\n",
       "      <th>20188</th>\n",
       "      <td>2022-W47</td>\n",
       "      <td>Desktop</td>\n",
       "      <td>Desktop</td>\n",
       "      <td>NaN</td>\n",
       "      <td>US</td>\n",
       "      <td>0-1 days</td>\n",
       "      <td>China</td>\n",
       "      <td>-32542.9080</td>\n",
       "      <td>69</td>\n",
       "    </tr>\n",
       "    <tr>\n",
       "      <th>...</th>\n",
       "      <td>...</td>\n",
       "      <td>...</td>\n",
       "      <td>...</td>\n",
       "      <td>...</td>\n",
       "      <td>...</td>\n",
       "      <td>...</td>\n",
       "      <td>...</td>\n",
       "      <td>...</td>\n",
       "      <td>...</td>\n",
       "    </tr>\n",
       "    <tr>\n",
       "      <th>38145</th>\n",
       "      <td>2023-W45</td>\n",
       "      <td>Desktop</td>\n",
       "      <td>Desktop</td>\n",
       "      <td>NaN</td>\n",
       "      <td>US</td>\n",
       "      <td>8-14 days</td>\n",
       "      <td>St. Kitts and Nevis</td>\n",
       "      <td>-145.6400</td>\n",
       "      <td>1</td>\n",
       "    </tr>\n",
       "    <tr>\n",
       "      <th>38168</th>\n",
       "      <td>2023-W45</td>\n",
       "      <td>Desktop</td>\n",
       "      <td>Desktop</td>\n",
       "      <td>NaN</td>\n",
       "      <td>US</td>\n",
       "      <td>4-7 days</td>\n",
       "      <td>St. Vincent and the Grenadines</td>\n",
       "      <td>-96.0000</td>\n",
       "      <td>1</td>\n",
       "    </tr>\n",
       "    <tr>\n",
       "      <th>38215</th>\n",
       "      <td>2023-W45</td>\n",
       "      <td>Desktop</td>\n",
       "      <td>Desktop</td>\n",
       "      <td>NaN</td>\n",
       "      <td>US</td>\n",
       "      <td>61-90 days</td>\n",
       "      <td>Tanzania</td>\n",
       "      <td>-610.0000</td>\n",
       "      <td>1</td>\n",
       "    </tr>\n",
       "    <tr>\n",
       "      <th>38381</th>\n",
       "      <td>2023-W45</td>\n",
       "      <td>Mobile</td>\n",
       "      <td>Mobile App</td>\n",
       "      <td>APAC</td>\n",
       "      <td>Hong Kong</td>\n",
       "      <td>61-90 days</td>\n",
       "      <td>Australia</td>\n",
       "      <td>-92.6899</td>\n",
       "      <td>1</td>\n",
       "    </tr>\n",
       "    <tr>\n",
       "      <th>73687</th>\n",
       "      <td>2023-W48</td>\n",
       "      <td>Mobile</td>\n",
       "      <td>Mobile Web</td>\n",
       "      <td>NaN</td>\n",
       "      <td>US</td>\n",
       "      <td>+90 days</td>\n",
       "      <td>Vietnam</td>\n",
       "      <td>-69.6500</td>\n",
       "      <td>1</td>\n",
       "    </tr>\n",
       "  </tbody>\n",
       "</table>\n",
       "<p>1319 rows × 9 columns</p>\n",
       "</div>"
      ],
      "text/plain": [
       "           Week Mobile Indicator Name Platform Type Name Super Region  \\\n",
       "3440   2022-W45               Desktop            Desktop          NaN   \n",
       "3275   2022-W45               Desktop            Desktop          NaN   \n",
       "3418   2022-W45               Desktop            Desktop          NaN   \n",
       "3974   2022-W45               Desktop            Desktop          NaN   \n",
       "20188  2022-W47               Desktop            Desktop          NaN   \n",
       "...         ...                   ...                ...          ...   \n",
       "38145  2023-W45               Desktop            Desktop          NaN   \n",
       "38168  2023-W45               Desktop            Desktop          NaN   \n",
       "38215  2023-W45               Desktop            Desktop          NaN   \n",
       "38381  2023-W45                Mobile         Mobile App         APAC   \n",
       "73687  2023-W48                Mobile         Mobile Web          NaN   \n",
       "\n",
       "      Country Name Booking Window Group                Property Country  \\\n",
       "3440            US             0-1 days                         Germany   \n",
       "3275            US             0-1 days                           China   \n",
       "3418            US             0-1 days                          France   \n",
       "3974            US             0-1 days          Spain & Canary Islands   \n",
       "20188           US             0-1 days                           China   \n",
       "...            ...                  ...                             ...   \n",
       "38145           US            8-14 days             St. Kitts and Nevis   \n",
       "38168           US             4-7 days  St. Vincent and the Grenadines   \n",
       "38215           US           61-90 days                        Tanzania   \n",
       "38381    Hong Kong           61-90 days                       Australia   \n",
       "73687           US             +90 days                         Vietnam   \n",
       "\n",
       "       Net Gross Booking Value USD  Net Orders  \n",
       "3440                   -21707.4969         110  \n",
       "3275                   -13937.1861          91  \n",
       "3418                   -66789.2746          90  \n",
       "3974                    -5504.0696          74  \n",
       "20188                  -32542.9080          69  \n",
       "...                            ...         ...  \n",
       "38145                    -145.6400           1  \n",
       "38168                     -96.0000           1  \n",
       "38215                    -610.0000           1  \n",
       "38381                     -92.6899           1  \n",
       "73687                     -69.6500           1  \n",
       "\n",
       "[1319 rows x 9 columns]"
      ]
     },
     "execution_count": 50,
     "metadata": {},
     "output_type": "execute_result"
    }
   ],
   "source": [
    "df[(df[\"Net Gross Booking Value USD\"] < 0) & (df[\"Net Orders\"] > 0)].sort_values(by=\"Net Orders\", ascending=False)"
   ]
  },
  {
   "cell_type": "code",
   "execution_count": 57,
   "metadata": {},
   "outputs": [
    {
     "data": {
      "text/html": [
       "<div>\n",
       "<style scoped>\n",
       "    .dataframe tbody tr th:only-of-type {\n",
       "        vertical-align: middle;\n",
       "    }\n",
       "\n",
       "    .dataframe tbody tr th {\n",
       "        vertical-align: top;\n",
       "    }\n",
       "\n",
       "    .dataframe thead th {\n",
       "        text-align: right;\n",
       "    }\n",
       "</style>\n",
       "<table border=\"1\" class=\"dataframe\">\n",
       "  <thead>\n",
       "    <tr style=\"text-align: right;\">\n",
       "      <th></th>\n",
       "      <th></th>\n",
       "      <th>Net Gross Booking Value USD</th>\n",
       "      <th>Net Orders</th>\n",
       "      <th>avg_order_ticket</th>\n",
       "    </tr>\n",
       "    <tr>\n",
       "      <th>Week</th>\n",
       "      <th>Super Region</th>\n",
       "      <th></th>\n",
       "      <th></th>\n",
       "      <th></th>\n",
       "    </tr>\n",
       "  </thead>\n",
       "  <tbody>\n",
       "    <tr>\n",
       "      <th rowspan=\"4\" valign=\"top\">2022-W45</th>\n",
       "      <th>APAC</th>\n",
       "      <td>25.42</td>\n",
       "      <td>31.21</td>\n",
       "      <td>814.59</td>\n",
       "    </tr>\n",
       "    <tr>\n",
       "      <th>EMEA</th>\n",
       "      <td>16.61</td>\n",
       "      <td>47.55</td>\n",
       "      <td>349.39</td>\n",
       "    </tr>\n",
       "    <tr>\n",
       "      <th>LATAM</th>\n",
       "      <td>4.02</td>\n",
       "      <td>9.04</td>\n",
       "      <td>444.80</td>\n",
       "    </tr>\n",
       "    <tr>\n",
       "      <th>North America</th>\n",
       "      <td>81.26</td>\n",
       "      <td>316.58</td>\n",
       "      <td>256.67</td>\n",
       "    </tr>\n",
       "    <tr>\n",
       "      <th rowspan=\"4\" valign=\"top\">2022-W46</th>\n",
       "      <th>APAC</th>\n",
       "      <td>11.71</td>\n",
       "      <td>35.10</td>\n",
       "      <td>333.58</td>\n",
       "    </tr>\n",
       "    <tr>\n",
       "      <th>EMEA</th>\n",
       "      <td>17.06</td>\n",
       "      <td>51.42</td>\n",
       "      <td>331.85</td>\n",
       "    </tr>\n",
       "    <tr>\n",
       "      <th>LATAM</th>\n",
       "      <td>4.18</td>\n",
       "      <td>9.44</td>\n",
       "      <td>442.41</td>\n",
       "    </tr>\n",
       "    <tr>\n",
       "      <th>North America</th>\n",
       "      <td>81.63</td>\n",
       "      <td>317.36</td>\n",
       "      <td>257.22</td>\n",
       "    </tr>\n",
       "    <tr>\n",
       "      <th rowspan=\"4\" valign=\"top\">2022-W47</th>\n",
       "      <th>APAC</th>\n",
       "      <td>9.74</td>\n",
       "      <td>30.78</td>\n",
       "      <td>316.37</td>\n",
       "    </tr>\n",
       "    <tr>\n",
       "      <th>EMEA</th>\n",
       "      <td>14.82</td>\n",
       "      <td>45.47</td>\n",
       "      <td>325.92</td>\n",
       "    </tr>\n",
       "    <tr>\n",
       "      <th>LATAM</th>\n",
       "      <td>3.92</td>\n",
       "      <td>8.88</td>\n",
       "      <td>441.48</td>\n",
       "    </tr>\n",
       "    <tr>\n",
       "      <th>North America</th>\n",
       "      <td>70.76</td>\n",
       "      <td>288.57</td>\n",
       "      <td>245.19</td>\n",
       "    </tr>\n",
       "    <tr>\n",
       "      <th rowspan=\"4\" valign=\"top\">2022-W48</th>\n",
       "      <th>APAC</th>\n",
       "      <td>10.20</td>\n",
       "      <td>31.14</td>\n",
       "      <td>327.58</td>\n",
       "    </tr>\n",
       "    <tr>\n",
       "      <th>EMEA</th>\n",
       "      <td>14.32</td>\n",
       "      <td>44.38</td>\n",
       "      <td>322.76</td>\n",
       "    </tr>\n",
       "    <tr>\n",
       "      <th>LATAM</th>\n",
       "      <td>4.39</td>\n",
       "      <td>9.31</td>\n",
       "      <td>471.25</td>\n",
       "    </tr>\n",
       "    <tr>\n",
       "      <th>North America</th>\n",
       "      <td>61.99</td>\n",
       "      <td>260.08</td>\n",
       "      <td>238.36</td>\n",
       "    </tr>\n",
       "    <tr>\n",
       "      <th rowspan=\"4\" valign=\"top\">2023-W45</th>\n",
       "      <th>APAC</th>\n",
       "      <td>14.94</td>\n",
       "      <td>51.96</td>\n",
       "      <td>287.47</td>\n",
       "    </tr>\n",
       "    <tr>\n",
       "      <th>EMEA</th>\n",
       "      <td>20.64</td>\n",
       "      <td>68.95</td>\n",
       "      <td>299.32</td>\n",
       "    </tr>\n",
       "    <tr>\n",
       "      <th>LATAM</th>\n",
       "      <td>4.40</td>\n",
       "      <td>14.88</td>\n",
       "      <td>295.65</td>\n",
       "    </tr>\n",
       "    <tr>\n",
       "      <th>North America</th>\n",
       "      <td>97.63</td>\n",
       "      <td>388.24</td>\n",
       "      <td>251.47</td>\n",
       "    </tr>\n",
       "    <tr>\n",
       "      <th rowspan=\"4\" valign=\"top\">2023-W46</th>\n",
       "      <th>APAC</th>\n",
       "      <td>14.61</td>\n",
       "      <td>51.92</td>\n",
       "      <td>281.45</td>\n",
       "    </tr>\n",
       "    <tr>\n",
       "      <th>EMEA</th>\n",
       "      <td>20.59</td>\n",
       "      <td>67.26</td>\n",
       "      <td>306.17</td>\n",
       "    </tr>\n",
       "    <tr>\n",
       "      <th>LATAM</th>\n",
       "      <td>4.29</td>\n",
       "      <td>15.13</td>\n",
       "      <td>283.73</td>\n",
       "    </tr>\n",
       "    <tr>\n",
       "      <th>North America</th>\n",
       "      <td>95.87</td>\n",
       "      <td>385.34</td>\n",
       "      <td>248.80</td>\n",
       "    </tr>\n",
       "    <tr>\n",
       "      <th rowspan=\"4\" valign=\"top\">2023-W47</th>\n",
       "      <th>APAC</th>\n",
       "      <td>13.37</td>\n",
       "      <td>49.27</td>\n",
       "      <td>271.30</td>\n",
       "    </tr>\n",
       "    <tr>\n",
       "      <th>EMEA</th>\n",
       "      <td>17.77</td>\n",
       "      <td>61.58</td>\n",
       "      <td>288.53</td>\n",
       "    </tr>\n",
       "    <tr>\n",
       "      <th>LATAM</th>\n",
       "      <td>3.53</td>\n",
       "      <td>12.38</td>\n",
       "      <td>284.74</td>\n",
       "    </tr>\n",
       "    <tr>\n",
       "      <th>North America</th>\n",
       "      <td>88.15</td>\n",
       "      <td>378.09</td>\n",
       "      <td>233.15</td>\n",
       "    </tr>\n",
       "    <tr>\n",
       "      <th rowspan=\"4\" valign=\"top\">2023-W48</th>\n",
       "      <th>APAC</th>\n",
       "      <td>14.74</td>\n",
       "      <td>52.83</td>\n",
       "      <td>278.99</td>\n",
       "    </tr>\n",
       "    <tr>\n",
       "      <th>EMEA</th>\n",
       "      <td>17.64</td>\n",
       "      <td>61.84</td>\n",
       "      <td>285.17</td>\n",
       "    </tr>\n",
       "    <tr>\n",
       "      <th>LATAM</th>\n",
       "      <td>4.10</td>\n",
       "      <td>13.56</td>\n",
       "      <td>302.14</td>\n",
       "    </tr>\n",
       "    <tr>\n",
       "      <th>North America</th>\n",
       "      <td>74.76</td>\n",
       "      <td>324.14</td>\n",
       "      <td>230.65</td>\n",
       "    </tr>\n",
       "  </tbody>\n",
       "</table>\n",
       "</div>"
      ],
      "text/plain": [
       "                        Net Gross Booking Value USD  Net Orders  \\\n",
       "Week     Super Region                                             \n",
       "2022-W45 APAC                                 25.42       31.21   \n",
       "         EMEA                                 16.61       47.55   \n",
       "         LATAM                                 4.02        9.04   \n",
       "         North America                        81.26      316.58   \n",
       "2022-W46 APAC                                 11.71       35.10   \n",
       "         EMEA                                 17.06       51.42   \n",
       "         LATAM                                 4.18        9.44   \n",
       "         North America                        81.63      317.36   \n",
       "2022-W47 APAC                                  9.74       30.78   \n",
       "         EMEA                                 14.82       45.47   \n",
       "         LATAM                                 3.92        8.88   \n",
       "         North America                        70.76      288.57   \n",
       "2022-W48 APAC                                 10.20       31.14   \n",
       "         EMEA                                 14.32       44.38   \n",
       "         LATAM                                 4.39        9.31   \n",
       "         North America                        61.99      260.08   \n",
       "2023-W45 APAC                                 14.94       51.96   \n",
       "         EMEA                                 20.64       68.95   \n",
       "         LATAM                                 4.40       14.88   \n",
       "         North America                        97.63      388.24   \n",
       "2023-W46 APAC                                 14.61       51.92   \n",
       "         EMEA                                 20.59       67.26   \n",
       "         LATAM                                 4.29       15.13   \n",
       "         North America                        95.87      385.34   \n",
       "2023-W47 APAC                                 13.37       49.27   \n",
       "         EMEA                                 17.77       61.58   \n",
       "         LATAM                                 3.53       12.38   \n",
       "         North America                        88.15      378.09   \n",
       "2023-W48 APAC                                 14.74       52.83   \n",
       "         EMEA                                 17.64       61.84   \n",
       "         LATAM                                 4.10       13.56   \n",
       "         North America                        74.76      324.14   \n",
       "\n",
       "                        avg_order_ticket  \n",
       "Week     Super Region                     \n",
       "2022-W45 APAC                     814.59  \n",
       "         EMEA                     349.39  \n",
       "         LATAM                    444.80  \n",
       "         North America            256.67  \n",
       "2022-W46 APAC                     333.58  \n",
       "         EMEA                     331.85  \n",
       "         LATAM                    442.41  \n",
       "         North America            257.22  \n",
       "2022-W47 APAC                     316.37  \n",
       "         EMEA                     325.92  \n",
       "         LATAM                    441.48  \n",
       "         North America            245.19  \n",
       "2022-W48 APAC                     327.58  \n",
       "         EMEA                     322.76  \n",
       "         LATAM                    471.25  \n",
       "         North America            238.36  \n",
       "2023-W45 APAC                     287.47  \n",
       "         EMEA                     299.32  \n",
       "         LATAM                    295.65  \n",
       "         North America            251.47  \n",
       "2023-W46 APAC                     281.45  \n",
       "         EMEA                     306.17  \n",
       "         LATAM                    283.73  \n",
       "         North America            248.80  \n",
       "2023-W47 APAC                     271.30  \n",
       "         EMEA                     288.53  \n",
       "         LATAM                    284.74  \n",
       "         North America            233.15  \n",
       "2023-W48 APAC                     278.99  \n",
       "         EMEA                     285.17  \n",
       "         LATAM                    302.14  \n",
       "         North America            230.65  "
      ]
     },
     "execution_count": 57,
     "metadata": {},
     "output_type": "execute_result"
    }
   ],
   "source": [
    "weekly_agg = df[[\"Week\", \"Super Region\", \"Net Gross Booking Value USD\", \"Net Orders\"]]\\\n",
    "    .fillna({\"Super Region\": \"North America\"})\\\n",
    "    .groupby([\"Week\", \"Super Region\"])\\\n",
    "    .agg({\"Net Gross Booking Value USD\": \"sum\", \"Net Orders\": \"sum\"})\\\n",
    "    .sort_values(by=[\"Week\", \"Super Region\"], ascending=[True, True])\n",
    "\n",
    "weekly_agg[\"avg_order_ticket\"] = (weekly_agg[\"Net Gross Booking Value USD\"] / weekly_agg[\"Net Orders\"]).round(2)\n",
    "weekly_agg[\"Net Gross Booking Value USD\"] *= 1e-6\n",
    "weekly_agg[\"Net Orders\"] *= 1e-3\n",
    "\n",
    "weekly_agg = weekly_agg.round(2)\n",
    "weekly_agg = weekly_agg.sort_index()\n",
    "weekly_agg"
   ]
  },
  {
   "cell_type": "code",
   "execution_count": 93,
   "metadata": {},
   "outputs": [
    {
     "name": "stdout",
     "output_type": "stream",
     "text": [
      "Net Gross Booking Value USD     89.1025\n",
      "Net Orders                     368.9525\n",
      "avg_order_ticket               241.0175\n",
      "dtype: float64\n"
     ]
    },
    {
     "data": {
      "text/html": [
       "<div>\n",
       "<style scoped>\n",
       "    .dataframe tbody tr th:only-of-type {\n",
       "        vertical-align: middle;\n",
       "    }\n",
       "\n",
       "    .dataframe tbody tr th {\n",
       "        vertical-align: top;\n",
       "    }\n",
       "\n",
       "    .dataframe thead th {\n",
       "        text-align: right;\n",
       "    }\n",
       "</style>\n",
       "<table border=\"1\" class=\"dataframe\">\n",
       "  <thead>\n",
       "    <tr style=\"text-align: right;\">\n",
       "      <th></th>\n",
       "      <th></th>\n",
       "      <th>Net Gross Booking Value USD</th>\n",
       "      <th>Net Orders</th>\n",
       "      <th>avg_order_ticket</th>\n",
       "    </tr>\n",
       "    <tr>\n",
       "      <th>Week</th>\n",
       "      <th>Super Region</th>\n",
       "      <th></th>\n",
       "      <th></th>\n",
       "      <th></th>\n",
       "    </tr>\n",
       "  </thead>\n",
       "  <tbody>\n",
       "    <tr>\n",
       "      <th>2023-W45</th>\n",
       "      <th>North America</th>\n",
       "      <td>97.63</td>\n",
       "      <td>388.24</td>\n",
       "      <td>251.47</td>\n",
       "    </tr>\n",
       "    <tr>\n",
       "      <th>2023-W46</th>\n",
       "      <th>North America</th>\n",
       "      <td>95.87</td>\n",
       "      <td>385.34</td>\n",
       "      <td>248.80</td>\n",
       "    </tr>\n",
       "    <tr>\n",
       "      <th>2023-W47</th>\n",
       "      <th>North America</th>\n",
       "      <td>88.15</td>\n",
       "      <td>378.09</td>\n",
       "      <td>233.15</td>\n",
       "    </tr>\n",
       "    <tr>\n",
       "      <th>2023-W48</th>\n",
       "      <th>North America</th>\n",
       "      <td>74.76</td>\n",
       "      <td>324.14</td>\n",
       "      <td>230.65</td>\n",
       "    </tr>\n",
       "  </tbody>\n",
       "</table>\n",
       "</div>"
      ],
      "text/plain": [
       "                        Net Gross Booking Value USD  Net Orders  \\\n",
       "Week     Super Region                                             \n",
       "2023-W45 North America                        97.63      388.24   \n",
       "2023-W46 North America                        95.87      385.34   \n",
       "2023-W47 North America                        88.15      378.09   \n",
       "2023-W48 North America                        74.76      324.14   \n",
       "\n",
       "                        avg_order_ticket  \n",
       "Week     Super Region                     \n",
       "2023-W45 North America            251.47  \n",
       "2023-W46 North America            248.80  \n",
       "2023-W47 North America            233.15  \n",
       "2023-W48 North America            230.65  "
      ]
     },
     "execution_count": 93,
     "metadata": {},
     "output_type": "execute_result"
    }
   ],
   "source": [
    "# filter \"Week\" that contains year 2022 in string\n",
    "# filter super region = \"North America\" \n",
    "week_str_filter = \"2023\"\n",
    "region_str_filter = [\"North America\"]\n",
    "\n",
    "weekly_agg_filtered = weekly_agg[\n",
    "    (weekly_agg.index.get_level_values(0).str.contains(week_str_filter)) & \n",
    "    (weekly_agg.index.get_level_values(1).isin(region_str_filter))]\n",
    "print(weekly_agg_filtered.mean())\n",
    "weekly_agg_filtered"
   ]
  },
  {
   "cell_type": "markdown",
   "metadata": {},
   "source": [
    "## notes about columns"
   ]
  },
  {
   "cell_type": "markdown",
   "metadata": {},
   "source": [
    "### dimensions"
   ]
  },
  {
   "cell_type": "markdown",
   "metadata": {},
   "source": [
    "- Week: \n",
    "  - dates range from W45 to W48 (Nov)\n",
    "  - years 2022 and 2023\n",
    "  - can create a method to decompose string and get year/week date formats\n",
    "- Mobile indicator:\n",
    "  - either `Desktop` or `Mobile`\n",
    "- Platform types:\n",
    "  - Destkop (35k)\n",
    "  - App (Mobile) 19k\n",
    "  - Web (Mobile) 18k\n",
    "- Super Region\n",
    "  - APAC, EMEA, LATAM\n",
    "  - many missing (`NaN`) values: all of them have country `US`\n",
    "  - LATAM is undersampled, the others look uniform\n",
    "- Countries\n",
    "  - Total: 7\n",
    "  - 'Australia', 'Brazil', 'Hong Kong', 'Norway', 'South Korea', 'US', 'United Kingdom'\n",
    "  - 2 APAC, 3 EMEA, 1 LATAM, 1 US/NA\n",
    "- Property country:\n",
    "  - 207 unique\n",
    "  - US in top 5 destination of all super regions\n",
    "  - Thailand and UK top 5 for both APAC and EMEA\n",
    "- Booking Window Group\n",
    "  - string is a bit messy\n",
    "  - represents bins of time-length (in days) between booking and check in\n",
    "  - except for 1 category, looks uniformly distributed in sampling\n",
    "  - \"Post book\" value: \n",
    "    - probably covers any booking activity that occurs post the initial check-in, \n",
    "    - contrasting with the other categories which all refer to the period before check-in\n",
    "    - can fill \"Post book\" with -1 if it helps to turn this into numeric\n",
    "    - only 40 rows, might as well discard"
   ]
  },
  {
   "cell_type": "markdown",
   "metadata": {},
   "source": [
    "### facts / aggregated numerical values"
   ]
  },
  {
   "cell_type": "markdown",
   "metadata": {},
   "source": [
    "Values are aggregated on the following dimensions tuple:  \n",
    "`(Week, Device Type, Platform, Super Region, Country Name, Property Country, Booking Window Group)`\n"
   ]
  },
  {
   "cell_type": "markdown",
   "metadata": {},
   "source": [
    "- Net Gross Booking Value USD\n",
    "  - Definition: The total $ amount that customers pay to Hotels.com for their hotel reservation. The value of cancelled bookings is removed\n",
    "  - some values are very negative (8.4% of rows)\n",
    "    - from the definition, cancellations are removed (deducted), so it could explain it\n",
    "    - 1319 out of 6200 have net orders positive\n",
    "      - could this be result of discounts applied? \n",
    "      - by reading the definition (\"amount that customers pay to\") doesn't make much sense\n",
    "  - US has the largest total bookings but lower avg. tickets\n",
    "  - LATAM has very low total bookings but larger avg. ticket\n",
    "  - APAC 2022 first week has double the avg. bookings and double avg. ticket, looks weird\n",
    "- Net Orders\n",
    "  - Definition: The total number of hotel bookings made - the number of bookings cancelled\n",
    "  - some negative values \n",
    "  - negatives are fine because, by definition, bookings cancelled are subtracted"
   ]
  },
  {
   "cell_type": "markdown",
   "metadata": {},
   "source": [
    "Typical Values per Super Region:\n",
    "\n",
    "APAC*:\n",
    "  - Bookings: $10$M - $14$M\n",
    "  - Orders: $32$k - $51$k\n",
    "  - Ticket: $\\$320$ - $\\$280$\n",
    "\n",
    "EMEA:\n",
    "  - Bookings: $15$M - $19$M\n",
    "  - Orders: $47$k - $64$k\n",
    "  - Ticket: $\\$332$ - $\\$294$\n",
    "\n",
    " LATAM (Brazil):\n",
    "  - Bookings: $4$M - $4$M\n",
    "  - Orders: $9$k - $14$k\n",
    "  - Ticket: $\\$450$ - $\\$291$\n",
    "\n",
    "North America (US):\n",
    "  - Bookings: $73$M - $89$M\n",
    "  - Orders: $295$k - $368$k\n",
    "  - Ticket: $\\$249$ - $\\$241$\n",
    "\n",
    "* if taking actual bookings first week 2022, it is 14M and avg. ticket $448"
   ]
  },
  {
   "cell_type": "markdown",
   "metadata": {},
   "source": []
  }
 ],
 "metadata": {
  "kernelspec": {
   "display_name": "analytics-case-202402-xCF_eS4F-py3.11",
   "language": "python",
   "name": "python3"
  },
  "language_info": {
   "codemirror_mode": {
    "name": "ipython",
    "version": 3
   },
   "file_extension": ".py",
   "mimetype": "text/x-python",
   "name": "python",
   "nbconvert_exporter": "python",
   "pygments_lexer": "ipython3",
   "version": "3.11.1"
  }
 },
 "nbformat": 4,
 "nbformat_minor": 2
}
